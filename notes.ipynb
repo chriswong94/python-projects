{
 "cells": [
  {
   "cell_type": "markdown",
   "metadata": {},
   "source": [
    "猫眼电影 pyecharts使用示范"
   ]
  },
  {
   "cell_type": "markdown",
   "metadata": {},
   "source": [
    "表连接  \n",
    "pd.merge(left=,right=,left_on=,right_on=,how=)\n",
    "默认 innner     "
   ]
  },
  {
   "cell_type": "markdown",
   "metadata": {},
   "source": [
    "表拼接  \n",
    "pd.concat([col1,col2],axis=1,how=)   默认 outer  下方直接拼接"
   ]
  },
  {
   "cell_type": "code",
   "execution_count": null,
   "metadata": {},
   "outputs": [],
   "source": []
  }
 ],
 "metadata": {
  "kernelspec": {
   "display_name": "Python 3",
   "language": "python",
   "name": "python3"
  },
  "language_info": {
   "codemirror_mode": {
    "name": "ipython",
    "version": 3
   },
   "file_extension": ".py",
   "mimetype": "text/x-python",
   "name": "python",
   "nbconvert_exporter": "python",
   "pygments_lexer": "ipython3",
   "version": "3.6.8"
  }
 },
 "nbformat": 4,
 "nbformat_minor": 2
}
