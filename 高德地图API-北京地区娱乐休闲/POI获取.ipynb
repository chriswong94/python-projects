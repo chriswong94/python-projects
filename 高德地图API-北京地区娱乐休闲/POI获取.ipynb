{
 "cells": [
  {
   "cell_type": "markdown",
   "metadata": {},
   "source": [
    "### 简单调用"
   ]
  },
  {
   "cell_type": "code",
   "execution_count": 1,
   "metadata": {},
   "outputs": [],
   "source": [
    "import requests\n",
    "import json\n",
    "import csv"
   ]
  },
  {
   "cell_type": "markdown",
   "metadata": {},
   "source": [
    "#### 搜索POI  \n",
    "https://lbs.amap.com/api/webservice/guide/api/search/"
   ]
  },
  {
   "cell_type": "code",
   "execution_count": 2,
   "metadata": {},
   "outputs": [
    {
     "data": {
      "text/plain": [
       "200"
      ]
     },
     "execution_count": 2,
     "metadata": {},
     "output_type": "execute_result"
    }
   ],
   "source": [
    "# 请参考API辅助文档\n",
    "# 朝阳区区域编码110105，POI分类：050000-餐饮服务-餐饮相关场所\n",
    "# offset：每页有多少条数据  page:最大100页，默认值为1\n",
    "\n",
    "url = 'https://restapi.amap.com/v3/place/text?city=110000&types=050000|060000|110000&citylimit=true&key=9c9dd3c0a50d3a9c3dc905244785ee9c'\n",
    "\n",
    "response = requests.get(url)\n",
    "response.status_code"
   ]
  },
  {
   "cell_type": "markdown",
   "metadata": {},
   "source": [
    "### 获取数据并查看"
   ]
  },
  {
   "cell_type": "code",
   "execution_count": 3,
   "metadata": {},
   "outputs": [],
   "source": [
    "#json.loads-将已编码的JSON字符串解码为Python对象\n",
    "\n",
    "result = json.loads(response.content)\n",
    "#result "
   ]
  },
  {
   "cell_type": "code",
   "execution_count": 4,
   "metadata": {},
   "outputs": [
    {
     "name": "stdout",
     "output_type": "stream",
     "text": [
      "天安门   风景名胜   风景名胜   国家级景点   116.397474   39.908696\n",
      "天安门广场   风景名胜   公园广场   城市广场   116.397724   39.903755\n",
      "八达岭长城   风景名胜   风景名胜   国家级景点   116.016802   40.356188\n",
      "颐和园   风景名胜   风景名胜   世界遗产   116.275115   39.999686\n",
      "玉渊潭公园   风景名胜   风景名胜   国家级景点   116.319907   39.916615\n",
      "北京动物园   风景名胜   公园广场   动物园   116.336587   39.942136\n",
      "香山公园   风景名胜   风景名胜   国家级景点   116.189134   39.990225\n",
      "朝阳公园   风景名胜   风景名胜   国家级景点   116.482583   39.944139\n",
      "西单大悦城   购物服务   商场   购物中心   116.37298   39.910891\n",
      "世界公园   风景名胜   风景名胜   国家级景点   116.287665   39.810681\n",
      "天坛公园   风景名胜   公园广场   公园   116.410829   39.881913\n",
      "恭王府   风景名胜   风景名胜   国家级景点   116.386294   39.937195\n",
      "故宫博物院   风景名胜   风景名胜   世界遗产|科教文化服务;博物馆;博物馆   116.397026   39.918058\n",
      "北海公园   风景名胜   公园广场   公园   116.391746   39.928614\n",
      "朝阳大悦城   购物服务   商场   购物中心   116.519024   39.924547\n",
      "中关村广场   风景名胜   公园广场   城市广场   116.315961   39.979893\n",
      "雍和宫   风景名胜   风景名胜   风景名胜   116.417315   39.947272\n",
      "什刹海   风景名胜   风景名胜   国家级景点   116.385307   39.941853\n",
      "王府井步行街   购物服务   特色商业街   步行街   116.411503   39.911607\n",
      "银座百货   购物服务   商场   购物中心   116.4356147   39.94017931\n"
     ]
    }
   ],
   "source": [
    "pois = result['pois']\n",
    "for poi in pois:\n",
    "    name  = poi['name']\n",
    "    type1 = poi['type'].split(';',2)[0]\n",
    "    type2 = poi['type'].split(';',2)[1]\n",
    "    type3 = poi['type'].split(';',2)[2]\n",
    "    lon   = poi['location'].split(',',1)[0]\n",
    "    lat   = poi['location'].split(',',1)[1]\n",
    "    print(name,' ',type1,' ',type2,' ',type3,' ',lon,' ',lat)"
   ]
  },
  {
   "cell_type": "markdown",
   "metadata": {},
   "source": [
    "### 餐饮数据爬取"
   ]
  },
  {
   "cell_type": "code",
   "execution_count": 5,
   "metadata": {},
   "outputs": [],
   "source": [
    "with open('./data/crawler_output.csv', 'w+', encoding='utf-8', newline='') as f:\n",
    "    w = csv.writer(f)\n",
    "    headerNames = ['name','type1','type2','type3','lon','lat']\n",
    "    w.writerow(headerNames)\n",
    "    \n",
    "    urls = ['https://restapi.amap.com/v3/place/text?city=110000&types=050000|060000|110000&citylimit=true' +\n",
    "           '&key=9c9dd3c0a50d3a9c3dc905244785ee9c&page={}'.format(str(i)) for i in range(1,100)]\n",
    "    \n",
    "    for url in urls:\n",
    "        response = requests.get(url)\n",
    "        if response.status_code == 200:\n",
    "            results = json.loads(response.content)\n",
    "            pois    = results['pois']\n",
    "            for poi in pois:\n",
    "                name  = poi['name']\n",
    "                type1 = poi['type'].split(';',2)[0]\n",
    "                type2 = poi['type'].split(';',2)[1]\n",
    "                type3 = poi['type'].split(';',2)[2]\n",
    "                lon   = poi['location'].split(',',1)[0]\n",
    "                lat   = poi['location'].split(',',1)[1]\n",
    "                w.writerow([name,type1,type2,type3,lon,lat])"
   ]
  }
 ],
 "metadata": {
  "kernelspec": {
   "display_name": "Python 3",
   "language": "python",
   "name": "python3"
  },
  "language_info": {
   "codemirror_mode": {
    "name": "ipython",
    "version": 3
   },
   "file_extension": ".py",
   "mimetype": "text/x-python",
   "name": "python",
   "nbconvert_exporter": "python",
   "pygments_lexer": "ipython3",
   "version": "3.6.8"
  }
 },
 "nbformat": 4,
 "nbformat_minor": 2
}
