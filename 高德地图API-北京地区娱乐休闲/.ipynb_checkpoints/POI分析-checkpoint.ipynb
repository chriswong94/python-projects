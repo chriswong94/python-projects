{
 "cells": [
  {
   "cell_type": "markdown",
   "metadata": {},
   "source": [
    "### 类别分析"
   ]
  },
  {
   "cell_type": "code",
   "execution_count": null,
   "metadata": {},
   "outputs": [],
   "source": [
    "attr = list(typ1.index)\n",
    "v1 = list(typ1)\n",
    "pie = Pie(\"\", title_pos='center')\n",
    "pie.add(\n",
    "    \"\",\n",
    "    attr,\n",
    "    v1,\n",
    "    radius=[40, 75],\n",
    "    label_text_color=None,\n",
    "    is_label_show=True,\n",
    "    legend_orient=\"vertical\",\n",
    "    legend_pos=\"left\",\n",
    ")\n",
    "pie"
   ]
  },
  {
   "cell_type": "code",
   "execution_count": null,
   "metadata": {},
   "outputs": [],
   "source": [
    "typ2 = data['typ2'].value_counts()\n",
    "typ2"
   ]
  },
  {
   "cell_type": "code",
   "execution_count": null,
   "metadata": {},
   "outputs": [],
   "source": [
    "from pyecharts import Bar\n",
    "\n",
    "attr = list(typ2.index)[:10]\n",
    "v1 = list(typ2)[:10]\n",
    "bar = Bar(\"\")\n",
    "bar.add(\"\", attr, v1,xaxis_interval=0,xaxis_rotate=20,xaxis_margin=8,is_label_show=True)\n",
    "bar"
   ]
  },
  {
   "cell_type": "markdown",
   "metadata": {},
   "source": [
    "### 地图绘制"
   ]
  },
  {
   "cell_type": "code",
   "execution_count": null,
   "metadata": {},
   "outputs": [],
   "source": [
    "import folium\n",
    "\n",
    "\n",
    "m = folium.Map(location=[45.5236, -122.6750])\n",
    "m"
   ]
  },
  {
   "cell_type": "code",
   "execution_count": null,
   "metadata": {},
   "outputs": [],
   "source": [
    "m = folium.Map(location=[28.12, 112.59])\n",
    "m"
   ]
  },
  {
   "cell_type": "code",
   "execution_count": null,
   "metadata": {},
   "outputs": [],
   "source": [
    "data.head()"
   ]
  },
  {
   "cell_type": "code",
   "execution_count": null,
   "metadata": {},
   "outputs": [],
   "source": [
    "df1 = data[data['typ1'] == '餐饮服务']\n",
    "df1['typ1'].unique()"
   ]
  },
  {
   "cell_type": "code",
   "execution_count": null,
   "metadata": {},
   "outputs": [],
   "source": [
    "from folium import plugins\n",
    "heatmap1 = folium.Map(location=[28.12, 112.59], zoom_start=11)\n",
    "heatmap1.add_child(plugins.HeatMap([[row[\"lat\"],row[\"lon\"]] for name, row in df1.iterrows()]))\n",
    "heatmap1"
   ]
  },
  {
   "cell_type": "code",
   "execution_count": null,
   "metadata": {},
   "outputs": [],
   "source": [
    "for name, row in df1.iterrows():\n",
    "    print(row['lat'])"
   ]
  },
  {
   "cell_type": "code",
   "execution_count": null,
   "metadata": {},
   "outputs": [],
   "source": [
    "df2 = data[data['typ1'] == '风景名胜']\n",
    "df2.head()"
   ]
  },
  {
   "cell_type": "code",
   "execution_count": null,
   "metadata": {},
   "outputs": [],
   "source": [
    "from folium import plugins\n",
    "heatmap2 = folium.Map(location=[28.12, 112.59], zoom_start=11)\n",
    "heatmap2.add_child(plugins.HeatMap([[row[\"lat\"],row[\"lon\"]] for name, row in df2.iterrows()]))\n",
    "heatmap2"
   ]
  },
  {
   "cell_type": "code",
   "execution_count": null,
   "metadata": {},
   "outputs": [],
   "source": []
  },
  {
   "cell_type": "code",
   "execution_count": null,
   "metadata": {},
   "outputs": [],
   "source": []
  },
  {
   "cell_type": "code",
   "execution_count": null,
   "metadata": {},
   "outputs": [],
   "source": []
  },
  {
   "cell_type": "code",
   "execution_count": null,
   "metadata": {},
   "outputs": [],
   "source": []
  },
  {
   "cell_type": "code",
   "execution_count": null,
   "metadata": {},
   "outputs": [],
   "source": []
  },
  {
   "cell_type": "code",
   "execution_count": null,
   "metadata": {},
   "outputs": [],
   "source": []
  },
  {
   "cell_type": "code",
   "execution_count": null,
   "metadata": {},
   "outputs": [],
   "source": []
  },
  {
   "cell_type": "code",
   "execution_count": null,
   "metadata": {},
   "outputs": [],
   "source": []
  },
  {
   "cell_type": "code",
   "execution_count": null,
   "metadata": {},
   "outputs": [],
   "source": []
  },
  {
   "cell_type": "code",
   "execution_count": 19,
   "metadata": {},
   "outputs": [],
   "source": [
    "import numpy as np\n",
    "import pandas as pd\n",
    "from pyecharts.charts import Pie"
   ]
  },
  {
   "cell_type": "code",
   "execution_count": 3,
   "metadata": {},
   "outputs": [],
   "source": [
    "data = pd.read_csv('crawler_output.csv',encoding='utf-8')"
   ]
  },
  {
   "cell_type": "code",
   "execution_count": 10,
   "metadata": {},
   "outputs": [
    {
     "data": {
      "text/html": [
       "<div>\n",
       "<style scoped>\n",
       "    .dataframe tbody tr th:only-of-type {\n",
       "        vertical-align: middle;\n",
       "    }\n",
       "\n",
       "    .dataframe tbody tr th {\n",
       "        vertical-align: top;\n",
       "    }\n",
       "\n",
       "    .dataframe thead th {\n",
       "        text-align: right;\n",
       "    }\n",
       "</style>\n",
       "<table border=\"1\" class=\"dataframe\">\n",
       "  <thead>\n",
       "    <tr style=\"text-align: right;\">\n",
       "      <th></th>\n",
       "      <th>name</th>\n",
       "      <th>type1</th>\n",
       "      <th>type2</th>\n",
       "      <th>type3</th>\n",
       "      <th>lon</th>\n",
       "      <th>lat</th>\n",
       "    </tr>\n",
       "  </thead>\n",
       "  <tbody>\n",
       "    <tr>\n",
       "      <th>0</th>\n",
       "      <td>朝阳公园</td>\n",
       "      <td>风景名胜</td>\n",
       "      <td>风景名胜</td>\n",
       "      <td>国家级景点</td>\n",
       "      <td>116.482583</td>\n",
       "      <td>39.944139</td>\n",
       "    </tr>\n",
       "    <tr>\n",
       "      <th>1</th>\n",
       "      <td>朝阳大悦城</td>\n",
       "      <td>购物服务</td>\n",
       "      <td>商场</td>\n",
       "      <td>购物中心</td>\n",
       "      <td>116.519024</td>\n",
       "      <td>39.924547</td>\n",
       "    </tr>\n",
       "    <tr>\n",
       "      <th>2</th>\n",
       "      <td>华贸购物中心西区</td>\n",
       "      <td>购物服务</td>\n",
       "      <td>商场</td>\n",
       "      <td>购物中心</td>\n",
       "      <td>116.480235</td>\n",
       "      <td>39.909191</td>\n",
       "    </tr>\n",
       "    <tr>\n",
       "      <th>3</th>\n",
       "      <td>北京798艺术区</td>\n",
       "      <td>风景名胜</td>\n",
       "      <td>风景名胜</td>\n",
       "      <td>风景名胜</td>\n",
       "      <td>116.494620</td>\n",
       "      <td>39.985028</td>\n",
       "    </tr>\n",
       "    <tr>\n",
       "      <th>4</th>\n",
       "      <td>世贸天阶</td>\n",
       "      <td>购物服务</td>\n",
       "      <td>商场</td>\n",
       "      <td>购物中心</td>\n",
       "      <td>116.452004</td>\n",
       "      <td>39.916490</td>\n",
       "    </tr>\n",
       "  </tbody>\n",
       "</table>\n",
       "</div>"
      ],
      "text/plain": [
       "       name type1 type2  type3         lon        lat\n",
       "0      朝阳公园  风景名胜  风景名胜  国家级景点  116.482583  39.944139\n",
       "1     朝阳大悦城  购物服务    商场   购物中心  116.519024  39.924547\n",
       "2  华贸购物中心西区  购物服务    商场   购物中心  116.480235  39.909191\n",
       "3  北京798艺术区  风景名胜  风景名胜   风景名胜  116.494620  39.985028\n",
       "4      世贸天阶  购物服务    商场   购物中心  116.452004  39.916490"
      ]
     },
     "execution_count": 10,
     "metadata": {},
     "output_type": "execute_result"
    }
   ],
   "source": [
    "data.head()"
   ]
  },
  {
   "cell_type": "code",
   "execution_count": 11,
   "metadata": {},
   "outputs": [
    {
     "data": {
      "text/plain": [
       "餐饮服务      466\n",
       "购物服务      289\n",
       "风景名胜      137\n",
       "体育休闲服务      2\n",
       "住宿服务        2\n",
       "商务住宅        1\n",
       "生活服务        1\n",
       "摩托车服务       1\n",
       "Name: type1, dtype: int64"
      ]
     },
     "execution_count": 11,
     "metadata": {},
     "output_type": "execute_result"
    }
   ],
   "source": [
    "data['type1'].value_counts()"
   ]
  },
  {
   "cell_type": "code",
   "execution_count": null,
   "metadata": {},
   "outputs": [],
   "source": []
  }
 ],
 "metadata": {
  "kernelspec": {
   "display_name": "Python 3",
   "language": "python",
   "name": "python3"
  },
  "language_info": {
   "codemirror_mode": {
    "name": "ipython",
    "version": 3
   },
   "file_extension": ".py",
   "mimetype": "text/x-python",
   "name": "python",
   "nbconvert_exporter": "python",
   "pygments_lexer": "ipython3",
   "version": "3.6.8"
  }
 },
 "nbformat": 4,
 "nbformat_minor": 2
}
