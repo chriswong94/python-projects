{
 "cells": [
  {
   "cell_type": "code",
   "execution_count": 1,
   "metadata": {},
   "outputs": [],
   "source": [
    "import pandas as pd\n",
    "from pyecharts import options as opts\n",
    "from pyecharts.charts import Bar\n",
    "import folium\n",
    "from folium import plugins"
   ]
  },
  {
   "cell_type": "markdown",
   "metadata": {},
   "source": [
    "### 读取数据并查看"
   ]
  },
  {
   "cell_type": "code",
   "execution_count": 2,
   "metadata": {},
   "outputs": [],
   "source": [
    "data = pd.read_csv('data/crawler_output.csv',encoding='utf-8')"
   ]
  },
  {
   "cell_type": "code",
   "execution_count": 3,
   "metadata": {},
   "outputs": [
    {
     "data": {
      "text/html": [
       "<div>\n",
       "<style scoped>\n",
       "    .dataframe tbody tr th:only-of-type {\n",
       "        vertical-align: middle;\n",
       "    }\n",
       "\n",
       "    .dataframe tbody tr th {\n",
       "        vertical-align: top;\n",
       "    }\n",
       "\n",
       "    .dataframe thead th {\n",
       "        text-align: right;\n",
       "    }\n",
       "</style>\n",
       "<table border=\"1\" class=\"dataframe\">\n",
       "  <thead>\n",
       "    <tr style=\"text-align: right;\">\n",
       "      <th></th>\n",
       "      <th>name</th>\n",
       "      <th>type1</th>\n",
       "      <th>type2</th>\n",
       "      <th>type3</th>\n",
       "      <th>lon</th>\n",
       "      <th>lat</th>\n",
       "    </tr>\n",
       "  </thead>\n",
       "  <tbody>\n",
       "    <tr>\n",
       "      <th>0</th>\n",
       "      <td>天安门</td>\n",
       "      <td>风景名胜</td>\n",
       "      <td>风景名胜</td>\n",
       "      <td>国家级景点</td>\n",
       "      <td>116.397474</td>\n",
       "      <td>39.908696</td>\n",
       "    </tr>\n",
       "    <tr>\n",
       "      <th>1</th>\n",
       "      <td>天安门广场</td>\n",
       "      <td>风景名胜</td>\n",
       "      <td>公园广场</td>\n",
       "      <td>城市广场</td>\n",
       "      <td>116.397724</td>\n",
       "      <td>39.903755</td>\n",
       "    </tr>\n",
       "    <tr>\n",
       "      <th>2</th>\n",
       "      <td>八达岭长城</td>\n",
       "      <td>风景名胜</td>\n",
       "      <td>风景名胜</td>\n",
       "      <td>国家级景点</td>\n",
       "      <td>116.016802</td>\n",
       "      <td>40.356188</td>\n",
       "    </tr>\n",
       "    <tr>\n",
       "      <th>3</th>\n",
       "      <td>颐和园</td>\n",
       "      <td>风景名胜</td>\n",
       "      <td>风景名胜</td>\n",
       "      <td>世界遗产</td>\n",
       "      <td>116.275115</td>\n",
       "      <td>39.999686</td>\n",
       "    </tr>\n",
       "    <tr>\n",
       "      <th>4</th>\n",
       "      <td>玉渊潭公园</td>\n",
       "      <td>风景名胜</td>\n",
       "      <td>风景名胜</td>\n",
       "      <td>国家级景点</td>\n",
       "      <td>116.319907</td>\n",
       "      <td>39.916615</td>\n",
       "    </tr>\n",
       "  </tbody>\n",
       "</table>\n",
       "</div>"
      ],
      "text/plain": [
       "    name type1 type2  type3         lon        lat\n",
       "0    天安门  风景名胜  风景名胜  国家级景点  116.397474  39.908696\n",
       "1  天安门广场  风景名胜  公园广场   城市广场  116.397724  39.903755\n",
       "2  八达岭长城  风景名胜  风景名胜  国家级景点  116.016802  40.356188\n",
       "3    颐和园  风景名胜  风景名胜   世界遗产  116.275115  39.999686\n",
       "4  玉渊潭公园  风景名胜  风景名胜  国家级景点  116.319907  39.916615"
      ]
     },
     "execution_count": 3,
     "metadata": {},
     "output_type": "execute_result"
    }
   ],
   "source": [
    "data.head()"
   ]
  },
  {
   "cell_type": "code",
   "execution_count": 4,
   "metadata": {},
   "outputs": [],
   "source": [
    "# 查看共有多少小类类别\n",
    "type2 = data['type2'].value_counts()"
   ]
  },
  {
   "cell_type": "code",
   "execution_count": 5,
   "metadata": {},
   "outputs": [],
   "source": [
    "labels = type2.index.tolist()\n",
    "value1 = type2.values.tolist()"
   ]
  },
  {
   "cell_type": "markdown",
   "metadata": {},
   "source": [
    "### 休闲活动类别排行可视化"
   ]
  },
  {
   "cell_type": "code",
   "execution_count": 6,
   "metadata": {},
   "outputs": [
    {
     "data": {
      "text/html": [
       "<script>\n",
       "    require.config({\n",
       "        paths: {\n",
       "            'echarts':'https://assets.pyecharts.org/assets/echarts.min'\n",
       "        }\n",
       "    });\n",
       "</script>\n",
       "\n",
       "    <div id=\"4eb3123e01254ab490617cce1946beb8\" style=\"width:900px; height:500px;\"></div>\n",
       "\n",
       "\n",
       "<script>\n",
       "    require(['echarts'], function(echarts) {\n",
       "        var chart_4eb3123e01254ab490617cce1946beb8 = echarts.init(\n",
       "            document.getElementById('4eb3123e01254ab490617cce1946beb8'), 'white', {renderer: 'canvas'});\n",
       "        var option_4eb3123e01254ab490617cce1946beb8 = {\n",
       "    \"color\": [\n",
       "        \"#c23531\",\n",
       "        \"#2f4554\",\n",
       "        \"#61a0a8\",\n",
       "        \"#d48265\",\n",
       "        \"#749f83\",\n",
       "        \"#ca8622\",\n",
       "        \"#bda29a\",\n",
       "        \"#6e7074\",\n",
       "        \"#546570\",\n",
       "        \"#c4ccd3\",\n",
       "        \"#f05b72\",\n",
       "        \"#ef5b9c\",\n",
       "        \"#f47920\",\n",
       "        \"#905a3d\",\n",
       "        \"#fab27b\",\n",
       "        \"#2a5caa\",\n",
       "        \"#444693\",\n",
       "        \"#726930\",\n",
       "        \"#b2d235\",\n",
       "        \"#6d8346\",\n",
       "        \"#ac6767\",\n",
       "        \"#1d953f\",\n",
       "        \"#6950a1\",\n",
       "        \"#918597\"\n",
       "    ],\n",
       "    \"series\": [\n",
       "        {\n",
       "            \"type\": \"bar\",\n",
       "            \"name\": \"\\u7c7b\\u522b\",\n",
       "            \"data\": [\n",
       "                225,\n",
       "                218,\n",
       "                122,\n",
       "                111,\n",
       "                38,\n",
       "                22,\n",
       "                21,\n",
       "                20,\n",
       "                18,\n",
       "                16,\n",
       "                14,\n",
       "                12,\n",
       "                10,\n",
       "                10,\n",
       "                8,\n",
       "                5,\n",
       "                4,\n",
       "                3,\n",
       "                3,\n",
       "                3,\n",
       "                2,\n",
       "                2,\n",
       "                2,\n",
       "                2,\n",
       "                2,\n",
       "                2,\n",
       "                1,\n",
       "                1,\n",
       "                1,\n",
       "                1,\n",
       "                1\n",
       "            ],\n",
       "            \"barCategoryGap\": \"20%\",\n",
       "            \"label\": {\n",
       "                \"show\": true,\n",
       "                \"position\": \"top\",\n",
       "                \"margin\": 8\n",
       "            }\n",
       "        }\n",
       "    ],\n",
       "    \"legend\": [\n",
       "        {\n",
       "            \"data\": [\n",
       "                \"\\u7c7b\\u522b\"\n",
       "            ],\n",
       "            \"selected\": {\n",
       "                \"\\u7c7b\\u522b\": true\n",
       "            },\n",
       "            \"show\": true\n",
       "        }\n",
       "    ],\n",
       "    \"tooltip\": {\n",
       "        \"show\": true,\n",
       "        \"trigger\": \"item\",\n",
       "        \"triggerOn\": \"mousemove|click\",\n",
       "        \"axisPointer\": {\n",
       "            \"type\": \"line\"\n",
       "        },\n",
       "        \"textStyle\": {\n",
       "            \"fontSize\": 14\n",
       "        },\n",
       "        \"borderWidth\": 0\n",
       "    },\n",
       "    \"xAxis\": [\n",
       "        {\n",
       "            \"show\": true,\n",
       "            \"scale\": false,\n",
       "            \"nameLocation\": \"end\",\n",
       "            \"nameGap\": 15,\n",
       "            \"gridIndex\": 0,\n",
       "            \"inverse\": false,\n",
       "            \"offset\": 0,\n",
       "            \"splitNumber\": 5,\n",
       "            \"minInterval\": 0,\n",
       "            \"splitLine\": {\n",
       "                \"show\": false,\n",
       "                \"lineStyle\": {\n",
       "                    \"width\": 1,\n",
       "                    \"opacity\": 1,\n",
       "                    \"curveness\": 0,\n",
       "                    \"type\": \"solid\"\n",
       "                }\n",
       "            },\n",
       "            \"data\": [\n",
       "                \"\\u4e2d\\u9910\\u5385\",\n",
       "                \"\\u98ce\\u666f\\u540d\\u80dc\",\n",
       "                \"\\u5546\\u573a\",\n",
       "                \"\\u516c\\u56ed\\u5e7f\\u573a\",\n",
       "                \"\\u5916\\u56fd\\u9910\\u5385\",\n",
       "                \"\\u4e13\\u5356\\u5e97\",\n",
       "                \"\\u8d85\\u7ea7\\u5e02\\u573a\",\n",
       "                \"\\u7efc\\u5408\\u5e02\\u573a\",\n",
       "                \"\\u5bb6\\u7535\\u7535\\u5b50\\u5356\\u573a\",\n",
       "                \"\\u7279\\u8272\\u5546\\u4e1a\\u8857\",\n",
       "                \"\\u5feb\\u9910\\u5385\",\n",
       "                \"\\u5bb6\\u5c45\\u5efa\\u6750\\u5e02\\u573a\",\n",
       "                \"\\u670d\\u88c5\\u978b\\u5e3d\\u76ae\\u5177\\u5e97\",\n",
       "                \"\\u9910\\u996e\\u76f8\\u5173\\u573a\\u6240\",\n",
       "                \"\\u98ce\\u666f\\u540d\\u80dc\\u76f8\\u5173\",\n",
       "                \"\\u5496\\u5561\\u5385\",\n",
       "                \"\\u4fbf\\u6c11\\u5546\\u5e97/\\u4fbf\\u5229\\u5e97\",\n",
       "                \"\\u82b1\\u9e1f\\u9c7c\\u866b\\u5e02\\u573a\",\n",
       "                \"\\u8fd0\\u52a8\\u573a\\u9986\",\n",
       "                \"\\u8d2d\\u7269\\u76f8\\u5173\\u573a\\u6240\",\n",
       "                \"\\u8336\\u827a\\u9986\",\n",
       "                \"\\u5bbe\\u9986\\u9152\\u5e97\",\n",
       "                \"\\u4f11\\u95f2\\u9910\\u996e\\u573a\\u6240\",\n",
       "                \"\\u7cd5\\u997c\\u5e97\",\n",
       "                \"\\u5a31\\u4e50\\u573a\\u6240\",\n",
       "                \"\\u751c\\u54c1\\u5e97\",\n",
       "                \"\\u4f11\\u95f2\\u573a\\u6240\",\n",
       "                \"\\u4f4f\\u5b85\\u533a\",\n",
       "                \"\\u4f53\\u80b2\\u7528\\u54c1\\u5e97\",\n",
       "                \"\\u51b7\\u996e\\u5e97\",\n",
       "                \"\\u7279\\u6b8a\\u4e70\\u5356\\u573a\\u6240\"\n",
       "            ]\n",
       "        }\n",
       "    ],\n",
       "    \"yAxis\": [\n",
       "        {\n",
       "            \"show\": true,\n",
       "            \"scale\": false,\n",
       "            \"nameLocation\": \"end\",\n",
       "            \"nameGap\": 15,\n",
       "            \"gridIndex\": 0,\n",
       "            \"inverse\": false,\n",
       "            \"offset\": 0,\n",
       "            \"splitNumber\": 5,\n",
       "            \"minInterval\": 0,\n",
       "            \"splitLine\": {\n",
       "                \"show\": false,\n",
       "                \"lineStyle\": {\n",
       "                    \"width\": 1,\n",
       "                    \"opacity\": 1,\n",
       "                    \"curveness\": 0,\n",
       "                    \"type\": \"solid\"\n",
       "                }\n",
       "            }\n",
       "        }\n",
       "    ],\n",
       "    \"title\": [\n",
       "        {\n",
       "            \"text\": \"\\u4f11\\u95f2\\u6d3b\\u52a8\\u7c7b\\u522b\\u6392\\u884c\"\n",
       "        }\n",
       "    ]\n",
       "};\n",
       "        chart_4eb3123e01254ab490617cce1946beb8.setOption(option_4eb3123e01254ab490617cce1946beb8);\n",
       "    });\n",
       "</script>\n"
      ],
      "text/plain": [
       "<pyecharts.render.display.HTML at 0x114a9ea90>"
      ]
     },
     "execution_count": 6,
     "metadata": {},
     "output_type": "execute_result"
    }
   ],
   "source": [
    "bar = Bar()\n",
    "\n",
    "bar.add_xaxis(labels)\n",
    "bar.add_yaxis(\"类别\", value1)\n",
    "bar.set_global_opts(title_opts=opts.TitleOpts(title=\"休闲活动类别排行\")) #设置标题\n",
    "\n",
    "bar.render_notebook()\n",
    "# bar.render('visualization/outputs.html')"
   ]
  },
  {
   "cell_type": "markdown",
   "metadata": {},
   "source": [
    "### 查看北京市餐饮服务和风景名胜的大致地区分布"
   ]
  },
  {
   "cell_type": "code",
   "execution_count": 7,
   "metadata": {},
   "outputs": [],
   "source": [
    "df1 = data[data['type1'] == '餐饮服务']"
   ]
  },
  {
   "cell_type": "code",
   "execution_count": 8,
   "metadata": {},
   "outputs": [
    {
     "data": {
      "text/html": [
       "<div style=\"width:100%;\"><div style=\"position:relative;width:100%;height:0;padding-bottom:60%;\"><iframe src=\"data:text/html;charset=utf-8;base64,PCFET0NUWVBFIGh0bWw+CjxoZWFkPiAgICAKICAgIDxtZXRhIGh0dHAtZXF1aXY9ImNvbnRlbnQtdHlwZSIgY29udGVudD0idGV4dC9odG1sOyBjaGFyc2V0PVVURi04IiAvPgogICAgCiAgICAgICAgPHNjcmlwdD4KICAgICAgICAgICAgTF9OT19UT1VDSCA9IGZhbHNlOwogICAgICAgICAgICBMX0RJU0FCTEVfM0QgPSBmYWxzZTsKICAgICAgICA8L3NjcmlwdD4KICAgIAogICAgPHNjcmlwdCBzcmM9Imh0dHBzOi8vY2RuLmpzZGVsaXZyLm5ldC9ucG0vbGVhZmxldEAxLjQuMC9kaXN0L2xlYWZsZXQuanMiPjwvc2NyaXB0PgogICAgPHNjcmlwdCBzcmM9Imh0dHBzOi8vY29kZS5qcXVlcnkuY29tL2pxdWVyeS0xLjEyLjQubWluLmpzIj48L3NjcmlwdD4KICAgIDxzY3JpcHQgc3JjPSJodHRwczovL21heGNkbi5ib290c3RyYXBjZG4uY29tL2Jvb3RzdHJhcC8zLjIuMC9qcy9ib290c3RyYXAubWluLmpzIj48L3NjcmlwdD4KICAgIDxzY3JpcHQgc3JjPSJodHRwczovL2NkbmpzLmNsb3VkZmxhcmUuY29tL2FqYXgvbGlicy9MZWFmbGV0LmF3ZXNvbWUtbWFya2Vycy8yLjAuMi9sZWFmbGV0LmF3ZXNvbWUtbWFya2Vycy5qcyI+PC9zY3JpcHQ+CiAgICA8bGluayByZWw9InN0eWxlc2hlZXQiIGhyZWY9Imh0dHBzOi8vY2RuLmpzZGVsaXZyLm5ldC9ucG0vbGVhZmxldEAxLjQuMC9kaXN0L2xlYWZsZXQuY3NzIi8+CiAgICA8bGluayByZWw9InN0eWxlc2hlZXQiIGhyZWY9Imh0dHBzOi8vbWF4Y2RuLmJvb3RzdHJhcGNkbi5jb20vYm9vdHN0cmFwLzMuMi4wL2Nzcy9ib290c3RyYXAubWluLmNzcyIvPgogICAgPGxpbmsgcmVsPSJzdHlsZXNoZWV0IiBocmVmPSJodHRwczovL21heGNkbi5ib290c3RyYXBjZG4uY29tL2Jvb3RzdHJhcC8zLjIuMC9jc3MvYm9vdHN0cmFwLXRoZW1lLm1pbi5jc3MiLz4KICAgIDxsaW5rIHJlbD0ic3R5bGVzaGVldCIgaHJlZj0iaHR0cHM6Ly9tYXhjZG4uYm9vdHN0cmFwY2RuLmNvbS9mb250LWF3ZXNvbWUvNC42LjMvY3NzL2ZvbnQtYXdlc29tZS5taW4uY3NzIi8+CiAgICA8bGluayByZWw9InN0eWxlc2hlZXQiIGhyZWY9Imh0dHBzOi8vY2RuanMuY2xvdWRmbGFyZS5jb20vYWpheC9saWJzL0xlYWZsZXQuYXdlc29tZS1tYXJrZXJzLzIuMC4yL2xlYWZsZXQuYXdlc29tZS1tYXJrZXJzLmNzcyIvPgogICAgPGxpbmsgcmVsPSJzdHlsZXNoZWV0IiBocmVmPSJodHRwczovL3Jhd2Nkbi5naXRoYWNrLmNvbS9weXRob24tdmlzdWFsaXphdGlvbi9mb2xpdW0vbWFzdGVyL2ZvbGl1bS90ZW1wbGF0ZXMvbGVhZmxldC5hd2Vzb21lLnJvdGF0ZS5jc3MiLz4KICAgIDxzdHlsZT5odG1sLCBib2R5IHt3aWR0aDogMTAwJTtoZWlnaHQ6IDEwMCU7bWFyZ2luOiAwO3BhZGRpbmc6IDA7fTwvc3R5bGU+CiAgICA8c3R5bGU+I21hcCB7cG9zaXRpb246YWJzb2x1dGU7dG9wOjA7Ym90dG9tOjA7cmlnaHQ6MDtsZWZ0OjA7fTwvc3R5bGU+CiAgICAKICAgICAgICAgICAgPG1ldGEgbmFtZT0idmlld3BvcnQiIGNvbnRlbnQ9IndpZHRoPWRldmljZS13aWR0aCwKICAgICAgICAgICAgICAgIGluaXRpYWwtc2NhbGU9MS4wLCBtYXhpbXVtLXNjYWxlPTEuMCwgdXNlci1zY2FsYWJsZT1ubyIgLz4KICAgICAgICAgICAgPHN0eWxlPgogICAgICAgICAgICAgICAgI21hcF82NDJkZDAyZWY2Mzc0ODM0YTY1NmIwODkyMzBiMTYyMSB7CiAgICAgICAgICAgICAgICAgICAgcG9zaXRpb246IHJlbGF0aXZlOwogICAgICAgICAgICAgICAgICAgIHdpZHRoOiAxMDAuMCU7CiAgICAgICAgICAgICAgICAgICAgaGVpZ2h0OiAxMDAuMCU7CiAgICAgICAgICAgICAgICAgICAgbGVmdDogMC4wJTsKICAgICAgICAgICAgICAgICAgICB0b3A6IDAuMCU7CiAgICAgICAgICAgICAgICB9CiAgICAgICAgICAgIDwvc3R5bGU+CiAgICAgICAgCiAgICA8c2NyaXB0IHNyYz0iaHR0cHM6Ly9sZWFmbGV0LmdpdGh1Yi5pby9MZWFmbGV0LmhlYXQvZGlzdC9sZWFmbGV0LWhlYXQuanMiPjwvc2NyaXB0Pgo8L2hlYWQ+Cjxib2R5PiAgICAKICAgIAogICAgICAgICAgICA8ZGl2IGNsYXNzPSJmb2xpdW0tbWFwIiBpZD0ibWFwXzY0MmRkMDJlZjYzNzQ4MzRhNjU2YjA4OTIzMGIxNjIxIiA+PC9kaXY+CiAgICAgICAgCjwvYm9keT4KPHNjcmlwdD4gICAgCiAgICAKICAgICAgICAgICAgdmFyIG1hcF82NDJkZDAyZWY2Mzc0ODM0YTY1NmIwODkyMzBiMTYyMSA9IEwubWFwKAogICAgICAgICAgICAgICAgIm1hcF82NDJkZDAyZWY2Mzc0ODM0YTY1NmIwODkyMzBiMTYyMSIsCiAgICAgICAgICAgICAgICB7CiAgICAgICAgICAgICAgICAgICAgY2VudGVyOiBbMzkuOTE5LCAxMTYuNDM2Ml0sCiAgICAgICAgICAgICAgICAgICAgY3JzOiBMLkNSUy5FUFNHMzg1NywKICAgICAgICAgICAgICAgICAgICB6b29tOiAxMSwKICAgICAgICAgICAgICAgICAgICB6b29tQ29udHJvbDogdHJ1ZSwKICAgICAgICAgICAgICAgICAgICBwcmVmZXJDYW52YXM6IGZhbHNlLAogICAgICAgICAgICAgICAgfQogICAgICAgICAgICApOwoKICAgICAgICAgICAgCgogICAgICAgIAogICAgCiAgICAgICAgICAgIHZhciB0aWxlX2xheWVyXzNkODNhZTA2ZGYyNTQ1Y2JiMTIzYWQ2NWUzYzhjMGY4ID0gTC50aWxlTGF5ZXIoCiAgICAgICAgICAgICAgICAiaHR0cHM6Ly97c30udGlsZS5vcGVuc3RyZWV0bWFwLm9yZy97en0ve3h9L3t5fS5wbmciLAogICAgICAgICAgICAgICAgeyJhdHRyaWJ1dGlvbiI6ICJEYXRhIGJ5IFx1MDAyNmNvcHk7IFx1MDAzY2EgaHJlZj1cImh0dHA6Ly9vcGVuc3RyZWV0bWFwLm9yZ1wiXHUwMDNlT3BlblN0cmVldE1hcFx1MDAzYy9hXHUwMDNlLCB1bmRlciBcdTAwM2NhIGhyZWY9XCJodHRwOi8vd3d3Lm9wZW5zdHJlZXRtYXAub3JnL2NvcHlyaWdodFwiXHUwMDNlT0RiTFx1MDAzYy9hXHUwMDNlLiIsICJkZXRlY3RSZXRpbmEiOiBmYWxzZSwgIm1heE5hdGl2ZVpvb20iOiAxOCwgIm1heFpvb20iOiAxOCwgIm1pblpvb20iOiAwLCAibm9XcmFwIjogZmFsc2UsICJvcGFjaXR5IjogMSwgInN1YmRvbWFpbnMiOiAiYWJjIiwgInRtcyI6IGZhbHNlfQogICAgICAgICAgICApLmFkZFRvKG1hcF82NDJkZDAyZWY2Mzc0ODM0YTY1NmIwODkyMzBiMTYyMSk7CiAgICAgICAgCiAgICAKICAgICAgICAgICAgdmFyIGhlYXRfbWFwXzEwZGJlYWNjN2UxMTQxZWNiZDM2ZTk5YzdiNDk5YTRmID0gTC5oZWF0TGF5ZXIoCiAgICAgICAgICAgICAgICBbWzM5LjkxODAxMiwgMTE2LjM0NTM1OF0sIFszOS45MzUwOTYsIDExNi4zNzQ4MzcwMDAwMDAwMV0sIFszOS45NDQ2MjcwMDAwMDAwMDQsIDExNi4zMDUwOTU5OTk5OTk5OV0sIFszOS45NjU3MjcsIDExNi4zNDIwNjU5OTk5OTk5OV0sIFszOS45MTQxODksIDExNi4zNDAwNDM5OTk5OTk5OV0sIFszOS45NDA3ODIsIDExNi40MTc3MjM5OTk5OTk5OV0sIFszOS45Mjc4OTgsIDExNi40NDA1NzVdLCBbMzkuOTI2NTgzLCAxMTYuMzMxMTEyOTk5OTk5OTldLCBbMzkuOTEyNTI0LCAxMTYuMzAzOTA5XSwgWzQwLjAwMjU0OSwgMTE2LjQxMjk5OF0sIFszOS45MDQ5ODksIDExNi4zOTM3MTEwMDAwMDAwMV0sIFszOS45ODc2NjksIDExNi40OTM3NjM5OTk5OTk5OF0sIFszOS45MTYwMzQsIDExNi40ODI0MzUwMDAwMDAwMV0sIFszOS45MTQ5NjQwMDAwMDAwMDUsIDExNi40MTE2MTJdLCBbMzkuODk2NjUzLCAxMTYuMzk4MzIzXSwgWzM5LjkzMzMyMSwgMTE2LjQyNjUxMDAwMDAwMDAxXSwgWzM5Ljg4MDA1NCwgMTE2LjQ2MDE2MTAwMDAwMDAxXSwgWzM5LjkyNjY4NywgMTE2LjM3MzEyOV0sIFszOS45MjgyODksIDExNi40NjAyNzYwMDAwMDAwMV0sIFszOS45MTQ1OTAwMDAwMDAwMDQsIDExNi40MDI4OTFdLCBbMzkuODkwMjg1LCAxMTYuNDYxOTQ3XSwgWzM5Ljk0MjM0MiwgMTE2LjExNzQ1M10sIFszOS45MzE5MjQsIDExNi40NDk0Njk5OTk5OTk5OV0sIFszOS45NzM5MDUsIDExNi40NzkyODRdLCBbMzkuOTQ2MDM0OTk5OTk5OTk1LCAxMTYuMzgyMDEyOTk5OTk5OTldLCBbMzkuODk5NzgyLCAxMTYuMzkzMzg2XSwgWzM5Ljk0NzEwNiwgMTE2LjQxMTczMl0sIFszOS45NDgwMDEsIDExNi40MTYzMTY5OTk5OTk5OV0sIFszOS45OTMwODgsIDExNi4zNTIyMDJdLCBbMzkuOTYwMjg4LCAxMTYuMjg4MDMxXSwgWzM5Ljk4OTg4LCAxMTYuNDgxMTc5XSwgWzM5LjkwNDMwOTAwMDAwMDAwNSwgMTE2LjQzNDMxMDAwMDAwMDAxXSwgWzM5Ljg5ODQxOSwgMTE2LjQwNjIwMV0sIFszOS45OTcxMzMwMDAwMDAwMDUsIDExNi4zMzU1NjQ5OTk5OTk5OV0sIFs0MC4xMzI2MzYsIDExNi4zOTQ0NjZdLCBbNDAuMDA2MTUyLCAxMTYuNDEyNzI4XSwgWzQwLjAwNDQwODAwMDAwMDAwNSwgMTE2LjQwMDg0MDk5OTk5OTk5XSwgWzM5LjkzMDk3MywgMTE2LjQ1NTY0OV0sIFszOS45MDU1MiwgMTE2LjQ1ODIzOF0sIFszOS45MzM5NzIsIDExNi40MzAxMDldLCBbMzkuOTQxMTU5OTk5OTk5OTk2LCAxMTYuNDE5NDMxXSwgWzM5LjkwNDAwMywgMTE2LjYzNTk4MjAwMDAwMDAxXSwgWzQwLjA4MTQ5MSwgMTE2LjM1ODUwNDAwMDAwMDAxXSwgWzM5LjkxMDM1MiwgMTE2LjQxMDg4Ml0sIFszOS44NzQ2NDksIDExNi4zMjA1NjEwMDAwMDAwMV0sIFszOS45MTIyOTMsIDExNi40MDk2OTFdLCBbMzkuOTMzMjQ1LCAxMTYuMzk0MDg5XSwgWzM5Ljg2NTUxNywgMTE2LjQzMTQ2OTk5OTk5OTk5XSwgWzM5Ljk0MDc1LCAxMTYuNDI2MTE5XSwgWzM5Ljg2NjY4OSwgMTE2LjM2OTQyMV0sIFszOS45NDA4MTgsIDExNi40MjE1MDYwMDAwMDAwMV0sIFszOS45MDI4MjEsIDExNi40MDAwMDZdLCBbMzkuOTA2NDkzLCAxMTYuNjY0OTg5OTk5OTk5OTldLCBbMzkuODg3OTQ4LCAxMTYuNjQ3OTkzXSwgWzM5Ljk5ODYxNCwgMTE2LjQyNTcwN10sIFszOS45MDU1NjcsIDExNi40NDMzMjVdLCBbMzkuOTM3NDc4OTk5OTk5OTk2LCAxMTYuMzI3NzkzXSwgWzM5Ljg0NjIzNiwgMTE2LjM1NzgzODk5OTk5OTk4XSwgWzM5Ljk0MzI1MzAwMDAwMDAwNiwgMTE2LjQwMzY3Ml0sIFszOS45MTYwNDcsIDExNi40MTE4MzUwMDAwMDAwMV0sIFszOS45MDE2ODQsIDExNi40MTY4NDVdLCBbMzkuOTI1MTY2LCAxMTYuMjk4NTA0MDAwMDAwMDFdLCBbMzkuOTczNzU1LCAxMTYuMzI1NjEyXSwgWzM5Ljg5OTQ4NTk5OTk5OTk5NiwgMTE2LjIxNTkxMzk5OTk5OTk4XSwgWzM5Ljk3OTcyNCwgMTE2LjMwNDc0OV0sIFszOS44ODc5NDMsIDExNi42NzQwMl0sIFszOS44NTEwOSwgMTE2LjMwODMxXSwgWzM5LjkyMzUwNiwgMTE2LjMwNzc1NzAwMDAwMDAxXSwgWzM5LjkxMjMzOSwgMTE2LjQwOTcyMDk5OTk5OTk5XSwgWzM5Ljk1MTM1OTAwMDAwMDAwNCwgMTE2LjM5MzA1XSwgWzQwLjIzOTc4OSwgMTE2LjIxMDY1NV0sIFszOS45OTMyNCwgMTE2LjMzODU5OF0sIFszOS45MzkxNiwgMTE2LjM5NDAzODk5OTk5OTk5XSwgWzM5LjkwOTE2NSwgMTE2LjQ3NTI1MV0sIFszOS45MjQ3ODQsIDExNi4yODAxNDQ5OTk5OTk5OV0sIFszOS44NjU4NjIsIDExNi4yOTcyNjAwMDAwMDAwMV0sIFs0MC4wNzQwMjg5OTk5OTk5OTYsIDExNi4zMzQxMzRdLCBbMzkuOTk1MTk0LCAxMTYuMzI5MTgzXSwgWzM5Ljk5OTkxOCwgMTE2LjM5NDI3M10sIFs0MC4zNjUwNTEsIDExNi44MTg2MTY5OTk5OTk5OV0sIFszOS43ODg5MzIsIDExNi4zMjU4ODcwMDAwMDAwMV0sIFszOS44ODI0NjYsIDExNi4zMDQ0Mzg5OTk5OTk5OV0sIFszOS44MTg0MDEsIDExNi41NDY3ODcwMDAwMDAwMV0sIFszOS45MDk1MzgsIDExNi40MzAyOTddLCBbMzkuOTQ1ODM3LCAxMTYuNDQ3ODFdLCBbNDAuMDAyODkxLCAxMTYuNTAwMTMxMDAwMDAwMDFdLCBbMzkuODg5ODk3LCAxMTYuMjg1NDQ2XSwgWzM5Ljk5NTU3NiwgMTE2LjQ1MTI2NF0sIFszOS45NDI2MTEsIDExNi40MjQxNzNdLCBbMzkuOTIxMDg5LCAxMTYuNDYyODc5XSwgWzM5LjkzOTA3NSwgMTE2LjQwMzQzXSwgWzQwLjA0MzY1MzAwMDAwMDAwNiwgMTE2LjMwMjA1OTAwMDAwMDAxXSwgWzM5Ljc1MzQwOCwgMTE2LjU1NjIyMV0sIFszOS44ODM2MjQsIDExNi40OTA5NDRdLCBbMzkuOTUzOTE5LCAxMTYuNDA4NTU5MDAwMDAwMDFdLCBbMzkuODQ1NjY3OTk5OTk5OTk2LCAxMTYuMzY3Mjk3XSwgWzM5Ljk0MDY2MSwgMTE2LjQyOTA2Njk5OTk5OTk5XSwgWzM5Ljk3NjkxMSwgMTE2LjQyMjYyXSwgWzQwLjAwODQ5NywgMTE2LjM4MTM3Ml0sIFszOS45Mjg5NDg5OTk5OTk5OTYsIDExNi40NDkyMTY5OTk5OTk5OV0sIFs0MC4wMDUzNjU5OTk5OTk5OTUsIDExNi40NzAzNzFdLCBbMzkuOTUxODkwOTk5OTk5OTk2LCAxMTYuMzk2OTkzOTk5OTk5OTldLCBbMzkuNzU1MTIyLCAxMTYuMzE0MjA4MDAwMDAwMDFdLCBbNDAuMDYzOTk2LCAxMTYuNTU4MzM4OTk5OTk5OTldLCBbNDAuMDAwNjE1LCAxMTYuNDE3OTY2OTk5OTk5OTldLCBbNDAuMTM2NDU4MDAwMDAwMDA1LCAxMTYuNjU4MTU5MDAwMDAwMDFdLCBbNDAuMDcyMzc2LCAxMTYuNDM2MjU0XSwgWzM5Ljk4OTkyNCwgMTE2LjQ4NDM5NTk5OTk5OTk5XSwgWzM5LjkyNDA4MywgMTE2LjM0NDgzOV0sIFszOS45MzIxMDIsIDExNi4zNjc3NV0sIFszOS45Mjg0NiwgMTE2LjMzNDQ5Mzk5OTk5OTk5XSwgWzM5Ljc5NzEyOSwgMTE2LjUxMDk1OTAwMDAwMDAxXSwgWzM5Ljk4OTEyMywgMTE2LjQxMzIwOTAwMDAwMDAxXSwgWzM5LjkxMDU3MTk5OTk5OTk5NSwgMTE2LjIwMTUyMl0sIFszOS45NzgzNjQsIDExNi40Nzg4ODk5OTk5OTk5OV0sIFszOS44NjcwMTgsIDExNi4zNjQ3NTJdLCBbNDAuMDMwNTg4LCAxMTYuMzExNTEyMDAwMDAwMDFdLCBbMzkuOTc2MzYxLCAxMTYuMzYyOTQ2OTk5OTk5OTldLCBbMzkuODk3MDEzLCAxMTYuMzk2MDE1OTk5OTk5OTldLCBbMzkuOTQwMzYsIDExNi40Mzg4MzJdLCBbMzkuODY1NTM2OTk5OTk5OTk2LCAxMTYuNDI3NjkyXSwgWzM5LjkyMzUyMSwgMTE2LjQyNjU2OV0sIFszOS45Mzc3NjgsIDExNi4yNTY3NDA5OTk5OTk5OV0sIFs0MC4wODIxODksIDExNi4zMjEzMTJdLCBbMzkuOTc0MzA5MDAwMDAwMDA1LCAxMTYuNDgxNTU1XSwgWzM5Ljg4MTgyODk5OTk5OTk5NiwgMTE2LjQ1NjI5Njk5OTk5OTk5XSwgWzM5LjkxNjk3Mzk5OTk5OTk5NiwgMTE2LjQ0NjQyNV0sIFszOS45MjYwNTQsIDExNi41ODcyMThdLCBbMzkuOTMwNzU3LCAxMTYuNDE3Mzk1XSwgWzM5Ljc1MzA2NSwgMTE2LjIxMTA3NF0sIFszOS45MDcwMjI5OTk5OTk5OTUsIDExNi40NTY0NjldLCBbMzkuOTUwOTIsIDExNi40MTU5NTYwMDAwMDAwMV0sIFszOS45MTExNDYsIDExNi40Nzg4MzFdLCBbNDAuMDg5NDM3LCAxMTYuNTM2MTQyXSwgWzM5Ljg5NTA3MywgMTE2LjM5MzMzMl0sIFszOS45Nzc5NjcsIDExNi40MjQyMTddLCBbMzkuOTQ4MzY1LCAxMTYuNDExOTM4OTk5OTk5OTldLCBbMzkuODk2MTQ3LCAxMTYuNDYwMzg5OTk5OTk5OTldLCBbMzkuOTIzNDI5LCAxMTYuMzk0MDE2OTk5OTk5OTldLCBbMzkuODg2NzE5LCAxMTYuMzYzMzEzOTk5OTk5OTldLCBbMzkuODkwODI0LCAxMTYuMzk0NjY5OTk5OTk5OTldLCBbNDAuNDI5ODkxLCAxMTYuNTg5ODEyMDAwMDAwMDFdLCBbMzkuOTcyOSwgMTE2LjMxODM1M10sIFszOS45NDA5MTUwMDAwMDAwMDQsIDExNi4zOTY3NzFdLCBbNDAuMjkyMzc5LCAxMTYuNjYxNzMyXSwgWzM5Ljk0NjU5OSwgMTE2LjM0MjAxNDk5OTk5OTk5XSwgWzM5LjkzNjI1NDk5OTk5OTk5NiwgMTE2LjQwMjA3Ml0sIFszOS44OTc5MzEsIDExNi4zOTY5OTNdLCBbMzkuOTAwMzUxLCAxMTYuNjgwMTQ5XSwgWzM5LjkzMjI3ODAwMDAwMDAwNCwgMTE2LjQ0NjQ4M10sIFszOS45MDc1MjgwMDAwMDAwMDYsIDExNi42Njg5ODQwMDAwMDAwMV0sIFszOS45ODc4NzUsIDExNi40MTM5MTk5OTk5OTk5OV0sIFszOS44NjY5ODkwMDAwMDAwMDQsIDExNi40MjIxNDddLCBbMzkuOTUzMjE2OTk5OTk5OTk1LCAxMTYuMzA4OTk2XSwgWzM5Ljk3OTk4MiwgMTE2LjMxMzk2Nzk5OTk5OTk5XSwgWzM5Ljk4NjcxNTk5OTk5OTk5NCwgMTE2LjQwMTIxMjk5OTk5OTk4XSwgWzM5LjkyODEyLCAxMTYuNDM1MTQ4XSwgWzM5LjkwNzk5OCwgMTE2LjIwMzg4MjAwMDAwMDAxXSwgWzM5LjkwNzk5OCwgMTE2LjIwMzg4MjAwMDAwMDAxXSwgWzM5Ljg2NTY0OSwgMTE2LjQzMTg3M10sIFszOS44NzM4NjQwMDAwMDAwMDUsIDExNi40MTM1NDFdLCBbMzkuOTE5NzQ0LCAxMTYuMzQ5NTQyXSwgWzM5LjkzODAxNjk5OTk5OTk5NSwgMTE2LjM5Mzg4MDAwMDAwMDAxXSwgWzQwLjIxMDcyMywgMTE2LjI1NjA5Mjk5OTk5OTk5XSwgWzM5Ljk0MTQ3NywgMTE2LjQ0NTUyNl0sIFszOS45MzgzMTcsIDExNi4zOTI5MTEwMDAwMDAwMV0sIFszOS43MDIwNzM5OTk5OTk5OTYsIDExNS45ODM0MDVdLCBbMzkuODk1OTc3LCAxMTYuMzkzNjEwMDAwMDAwMDFdLCBbMzkuOTA2NDA2LCAxMTYuNDY1MTEwMDAwMDAwMDFdLCBbNDAuMDk5NTU5LCAxMTYuNTQyOTcxOTk5OTk5OTldLCBbNDAuMDk2NDE1LCAxMTYuMjg5MzkxXSwgWzM5LjkwODIxMSwgMTE2LjI2OTYxMzk5OTk5OTk5XSwgWzM5LjgwMzg4NDAwMDAwMDAwNCwgMTE2LjU3MDA3Ml0sIFs0MC4wNzQ5OTgsIDExNi40MTI4NDZdLCBbNDAuMTc5Mzg2LCAxMTYuMzk4MTA1XSwgWzM5LjkxMzA0OSwgMTE2LjM3MzI4NTAwMDAwMDAxXSwgWzM5LjkzMjM4NiwgMTE2LjQ1MDY4Nl0sIFszOS45MTQ0MSwgMTE2LjY1NjI3OF0sIFszOS45MTUxNjksIDExNi40MTIyNV0sIFs0MC4wNDA1MDgsIDExNi4zNjc5NTkwMDAwMDAwMV0sIFszOS45NDEyOTIsIDExNi40MjM0NzYwMDAwMDAwMV0sIFszOS45NjkxMywgMTE2LjQzNTU1NTAwMDAwMDAxXSwgWzM5Ljk4MjIyODAwMDAwMDAwNiwgMTE2LjMwNzA5Nl0sIFszOS45NDM3MDYsIDExNi40MTE5MDFdLCBbMzkuODg5OTU3LCAxMTYuMzg3NDI3XSwgWzM5LjkyNzU3Mjk5OTk5OTk5NSwgMTE2LjQwMzU2MjAwMDAwMDAxXSwgWzM5LjkzNDI1MSwgMTE2LjQ0NDIyMV0sIFszOS45MTUxMTksIDExNi40MjA5N10sIFszOS45ODU5LCAxMTYuMjMyNTQyXSwgWzM5Ljg2Mzc1MSwgMTE2LjQzMDI4NTAwMDAwMDAxXSwgWzM5Ljg1Njg3NiwgMTE2LjI5MzMzNTAwMDAwMDAxXSwgWzM5Ljg5OTUzLCAxMTYuNDEzODAyXSwgWzM5Ljk4OTQ3ODAwMDAwMDAwNSwgMTE2LjQyMzQyMDk5OTk5OTk5XSwgWzM5Ljc2NTMzNSwgMTE2LjM0NDA5MTk5OTk5OTk5XSwgWzM5Ljg5NjU2NSwgMTE2LjQxNzg3OV0sIFszOS45MDcyNDEsIDExNi40NTk2MTM5OTk5OTk5OV0sIFszOS45NDE1MjQsIDExNi40NDUyMjA5OTk5OTk5OV0sIFszOS45MDE4NjEsIDExNi40MDIwNl0sIFszOS45MTI0Mjg5OTk5OTk5OTYsIDExNi4zODAxOTI5OTk5OTk5OV0sIFszOS45NDg2MzYsIDExNi4zNDA2NDU5OTk5OTk5OV0sIFszOS45NDEzNjgsIDExNi40MjY4MTIwMDAwMDAwMV0sIFszOS45OTY0NjQsIDExNi40NjAzNjM5OTk5OTk5OF0sIFszOS45NTE1OTcsIDExNi4zODE1MDJdLCBbMzkuODcxMzA1LCAxMTYuMjkzNzgzXSwgWzM5Ljk2ODU1OCwgMTE2LjI5NzgwNF0sIFszOS45Mzg2OTEsIDExNi40MDMxMTIwMDAwMDAwMV0sIFs0MC4xNDY0OTMsIDExNy4wOTQ4NzZdLCBbMzkuOTE0MTg2LCAxMTYuMzM5MzkwOTk5OTk5OTldLCBbNDAuMjIxNzQwOTk5OTk5OTk0LCAxMTYuMjIwNDc4XSwgWzM5Ljk5OTAxNSwgMTE2LjQxMjM5NDk5OTk5OTk5XSwgWzM5Ljk5Mzc4NywgMTE2LjQwODA4XSwgWzM5Ljk0MTk1Mzk5OTk5OTk5NiwgMTE2LjM5NDIzNzAwMDAwMDAyXSwgWzM5Ljg4ODc1OCwgMTE2LjQxMjgxNV0sIFszOS44NDUzNzYsIDExNi40MzA4ODc5OTk5OTk5OF0sIFs0MC4wNDM4NDcsIDExNi4zMDE5MDFdLCBbNDAuNjEwNTcsIDExNi41MTQ1MDYwMDAwMDAwMV0sIFszOS45OTI2MzYsIDExNi40MDA1MTI5OTk5OTk5OV0sIFszOS45OTM3NTIsIDExNi40ODE5MzFdLCBbMzkuODY4NjExLCAxMTYuMjc5ODM2MDAwMDAwMDJdLCBbNDAuMDExNjQsIDExNi40NTk0MTY5OTk5OTk5OV0sIFszOS45NzE4MDgsIDExNi4zNjk2NDZdLCBbMzkuODk4MDc1LCAxMTYuMzk1NzgyMDAwMDAwMDFdLCBbMzkuOTI2NDgxLCAxMTYuNDc3Nzc0XSwgWzM5Ljg4OTY3OCwgMTE2LjM2ODcxMzk5OTk5OTk4XSwgWzM5Ljk4ODM1MiwgMTE2LjM0MDE3Nl0sIFszOS45NzA3MDMsIDExNi4wMjYyNzNdLCBbMzkuNzk5NDk2OTk5OTk5OTk1LCAxMTYuNzk4MTY3OTk5OTk5OTldLCBbNDAuMDk1OTcxOTk5OTk5OTk2LCAxMTYuMjkwMDQ3XSwgWzQwLjAwNzA4LCAxMTYuNDE2MDNdLCBbMzkuOTEzODMxLCAxMTYuNDc2NzA4XSwgWzM5LjkwOCwgMTE2LjM2NjkzMl0sIFszOS43NzM3OTAwMDAwMDAwMDUsIDExNi4xNzM3MTI5OTk5OTk5OV0sIFszOS45MzA5MzEsIDExNi4zNTM2MDJdLCBbNDAuMDc0Mjg5LCAxMTYuMzE5MTAyXSwgWzM5Ljk5NjUzMSwgMTE2LjMzOTgxODk5OTk5OTk5XSwgWzM5LjkzNDk4NiwgMTE2LjQzMTUzOTk5OTk5OTk4XSwgWzM5Ljg5Mzk5NCwgMTE2LjQzNDcyMjk5OTk5OTk5XSwgWzM5Ljg2NTQxMzAwMDAwMDAwNCwgMTE2LjQwNDc4MjAwMDAwMDAxXSwgWzM5LjYzNjAyMSwgMTE2LjA2NTI0NDk5OTk5OTk5XSwgWzM5LjkyMjEyOTk5OTk5OTk5NiwgMTE2LjQ0NjI2OV0sIFs0MC4yMDAxOTUsIDExNi40NTczOThdLCBbMzkuODcyNjgxLCAxMTYuMjMyMzg0MDAwMDAwMDFdLCBbMzkuOTU3MjU0OTk5OTk5OTk2LCAxMTYuNDEwMDM3OTk5OTk5OTldLCBbMzkuOTc1NjU0LCAxMTYuMzEzOTM3MDAwMDAwMDFdLCBbMzkuOTY1OTcxLCAxMTYuNDkwMTY0XSwgWzM5Ljg2MjQ1MSwgMTE2LjQzMTAxOF0sIFszOS45NzgxMzQwMDAwMDAwMDQsIDExNi4zNjk0NzRdLCBbMzkuODgxODI4MDAwMDAwMDA2LCAxMTYuNDU5NzgzXSwgWzM5Ljk3NjcsIDExNi4zNDYxXSwgWzM5LjkxNTk1NSwgMTE2LjQ1NDQ4NjAwMDAwMDAyXSwgWzM5LjkyMjk1OTk5OTk5OTk5NiwgMTE2LjM0Njc3NF0sIFszOS45NTMwNTM5OTk5OTk5OTUsIDExNi40NTU2Mzk5OTk5OTk5OV0sIFs0MC4yMTIyNTgsIDExNi4yMzA4MzRdLCBbMzkuODk2OTI2LCAxMTYuMzk1MzQ0OTk5OTk5OTldLCBbMzkuOTkzNzU5OTk5OTk5OTk1LCAxMTYuNDgxNzYxXSwgWzQwLjAyNDM1OTAwMDAwMDAwNCwgMTE2LjUxMTE1MzAwMDAwMDAxXSwgWzM5Ljk2NTM3MywgMTE2LjQ0ODY5Mjk5OTk5OTk5XSwgWzM5Ljk4Mjk4OCwgMTE2LjQwOTExNDk5OTk5OTk5XSwgWzM5Ljk5NTYxMSwgMTE2LjQwMTQ0MTk5OTk5OTk5XSwgWzM5LjkxMDg3NCwgMTE2LjQxMjA5M10sIFszOS43NTk0MDUsIDExNi41NDU2MjRdLCBbMzkuNzM2Mjg0OTk5OTk5OTk1LCAxMTYuMTM2NDI5XSwgWzM5Ljg0MjUxOCwgMTE2LjM4NjkyMV0sIFszOS45NDc2NTksIDExNi40NDczMDRdLCBbMzkuOTM5OTg1LCAxMTYuNDE3ODgyXSwgWzM5Ljk0MDc5MiwgMTE2LjQxODg5N10sIFs0MC4wMDA1MTgsIDExNi4zNTM3NDQ5OTk5OTk5OV0sIFszOS45MDA0MTgsIDExNi40MTE2OTE5OTk5OTk5OV0sIFs0MC4zODc2ODEsIDExNi42Nzc4NzldLCBbMzkuOTkzNzY3LCAxMTYuMzg2NTMwMDAwMDAwMDFdLCBbMzkuOTU5OTI0LCAxMTYuNDM4MzkyOTk5OTk5OTldLCBbMzkuODk0NDQ0LCAxMTYuMzkyMzY4OTk5OTk5OTldLCBbMzkuOTc1MTA5LCAxMTYuNDc4NzM5OTk5OTk5OTldLCBbMzkuOTI0MTY0MDAwMDAwMDA1LCAxMTYuNTIxMDg5OTk5OTk5OTldLCBbMzkuODgzNTY1MDAwMDAwMDA0LCAxMTYuMzU5MzQ0XSwgWzM5Ljg2NjQ4MywgMTE2LjM2Mjc2Nl0sIFszOS43OTY4OTMsIDExNi40ODg2MzUwMDAwMDAwMl0sIFszOS45NDkyNTMwMDAwMDAwMDYsIDExNi40NzQ4MDcwMDAwMDAwMV0sIFs0MC4yMjA5ODgsIDExNi4yNTM1M10sIFszOS45NDE4NTQsIDExNi4zMzg5OTY5OTk5OTk5OV0sIFs0MC4zOTA5NTIsIDExNi42OTA2ODk5OTk5OTk5OV0sIFszOS45NDAxMjcwMDAwMDAwMDQsIDExNi40MDM2NzldLCBbMzkuODYyMTgyMDAwMDAwMDA0LCAxMTYuNDE0NjY2XSwgWzM5Ljg0NjA3NjAwMDAwMDAwNCwgMTE2LjQzNDgzMl0sIFszOS45ODkxOTQsIDExNi4zMDIxOTE5OTk5OTk5OV0sIFs0MC4wNjMyNjUsIDExNi40MTczNjhdLCBbMzkuOTA2NTQsIDExNi40NzczOTM5OTk5OTk5OV0sIFszOS45NjExMTUsIDExNi4yNzgyNDldLCBbNDAuNjUzOTE1MDAwMDAwMDA1LCAxMTcuMjc4MzEyMDAwMDAwMDFdLCBbNDAuMjIyNDE3LCAxMTYuMjMyNDkzOTk5OTk5OTldLCBbMzkuOTExMTQ3LCAxMTYuMzc0NzExXSwgWzQwLjExNDQzNiwgMTE2LjYwODY3NV0sIFszOS45NDUyMjUsIDExNi40MDg2MjddLCBbMzkuNjczMjE3LCAxMTYuMDg5NzY3XSwgWzM5LjkyMzc5OSwgMTE2LjQ2NzI0MDk5OTk5OTk5XSwgWzM5LjkxMTc1NywgMTE2LjQzMTc0NF0sIFszOS45MTAxODEsIDExNi4zMTA4MTIwMDAwMDAwMV0sIFszOS45MDgzOTIsIDExNi4yOTY1NTldLCBbMzkuOTA0NzQ5LCAxMTYuNjYyMjgzXSwgWzQwLjIyMDQ2NCwgMTE2LjIzOTUxMjk5OTk5OTk5XSwgWzQwLjI0OTY0MiwgMTE2LjI2NTg5MV1dLAogICAgICAgICAgICAgICAgeyJibHVyIjogMTUsICJtYXgiOiAxLjAsICJtYXhab29tIjogMTgsICJtaW5PcGFjaXR5IjogMC41LCAicmFkaXVzIjogMjV9CiAgICAgICAgICAgICkuYWRkVG8obWFwXzY0MmRkMDJlZjYzNzQ4MzRhNjU2YjA4OTIzMGIxNjIxKTsKICAgICAgICAKPC9zY3JpcHQ+\" style=\"position:absolute;width:100%;height:100%;left:0;top:0;border:none !important;\" allowfullscreen webkitallowfullscreen mozallowfullscreen></iframe></div></div>"
      ],
      "text/plain": [
       "<folium.folium.Map at 0x114b1b390>"
      ]
     },
     "execution_count": 8,
     "metadata": {},
     "output_type": "execute_result"
    }
   ],
   "source": [
    "heatmap1 = folium.Map(location=[39.9190,116.4362], zoom_start=11)\n",
    "heatmap1.add_child(plugins.HeatMap([[row[\"lat\"],row[\"lon\"]] for name, row in df1.iterrows()]))\n",
    "heatmap1"
   ]
  },
  {
   "cell_type": "code",
   "execution_count": 9,
   "metadata": {},
   "outputs": [],
   "source": [
    "df2 = data[data['type1'] == '风景名胜']"
   ]
  },
  {
   "cell_type": "code",
   "execution_count": 10,
   "metadata": {},
   "outputs": [
    {
     "data": {
      "text/html": [
       "<div style=\"width:100%;\"><div style=\"position:relative;width:100%;height:0;padding-bottom:60%;\"><iframe src=\"data:text/html;charset=utf-8;base64,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\" style=\"position:absolute;width:100%;height:100%;left:0;top:0;border:none !important;\" allowfullscreen webkitallowfullscreen mozallowfullscreen></iframe></div></div>"
      ],
      "text/plain": [
       "<folium.folium.Map at 0x11494bf28>"
      ]
     },
     "execution_count": 10,
     "metadata": {},
     "output_type": "execute_result"
    }
   ],
   "source": [
    "heatmap2 = folium.Map(location=[39.9190,116.4362], zoom_start=11)\n",
    "heatmap2.add_child(plugins.HeatMap([[row[\"lat\"],row[\"lon\"]] for name, row in df2.iterrows()]))\n",
    "heatmap2"
   ]
  }
 ],
 "metadata": {
  "kernelspec": {
   "display_name": "Python 3",
   "language": "python",
   "name": "python3"
  },
  "language_info": {
   "codemirror_mode": {
    "name": "ipython",
    "version": 3
   },
   "file_extension": ".py",
   "mimetype": "text/x-python",
   "name": "python",
   "nbconvert_exporter": "python",
   "pygments_lexer": "ipython3",
   "version": "3.6.8"
  }
 },
 "nbformat": 4,
 "nbformat_minor": 2
}
