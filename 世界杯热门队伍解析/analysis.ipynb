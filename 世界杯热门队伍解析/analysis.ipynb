{
 "cells": [
  {
   "cell_type": "markdown",
   "metadata": {},
   "source": [
    "# 1872-2018年 足球世界杯赛事数据分析\n",
    "\n",
    "此数据集大致有4万场国际足球赛事的结果,包括世界杯正赛、预选赛、亚洲杯、欧洲杯、国家之间的友谊赛等. 数据来源:kaggle.com"
   ]
  },
  {
   "cell_type": "markdown",
   "metadata": {},
   "source": [
    "## 项目流程：\n",
    "\n",
    "1、 筛选出世界杯所有正赛的数据,并进行数据清洗     \n",
    "2、 筛选出比赛前20强数据情况  \n",
    "2.1 获取世界杯所有比赛获胜场数最多的前20强数据  \n",
    "2.2 各个国家队进球总数量情况  \n",
    "3、2018年世界杯32强分析  \n",
    "3.1 自1872年以来，32强数据情况   \n",
    "3.2 自1978年以来，32强数据情况  \n",
    "3.3 自2002年以来，32强数据情况  \n",
    "4、综合结论  "
   ]
  },
  {
   "cell_type": "code",
   "execution_count": 20,
   "metadata": {},
   "outputs": [],
   "source": [
    "import pandas as pd\n",
    "import matplotlib.pyplot as plt\n",
    "import seaborn as sn\n",
    "from pyecharts import options as opts\n",
    "from pyecharts.charts import Bar,Geo,WordCloud\n",
    "\n",
    "%matplotlib inline\n",
    "plt.style.use('ggplot')"
   ]
  },
  {
   "cell_type": "code",
   "execution_count": 2,
   "metadata": {
    "scrolled": true
   },
   "outputs": [
    {
     "data": {
      "text/html": [
       "<div>\n",
       "<style scoped>\n",
       "    .dataframe tbody tr th:only-of-type {\n",
       "        vertical-align: middle;\n",
       "    }\n",
       "\n",
       "    .dataframe tbody tr th {\n",
       "        vertical-align: top;\n",
       "    }\n",
       "\n",
       "    .dataframe thead th {\n",
       "        text-align: right;\n",
       "    }\n",
       "</style>\n",
       "<table border=\"1\" class=\"dataframe\">\n",
       "  <thead>\n",
       "    <tr style=\"text-align: right;\">\n",
       "      <th></th>\n",
       "      <th>date</th>\n",
       "      <th>home_team</th>\n",
       "      <th>away_team</th>\n",
       "      <th>home_score</th>\n",
       "      <th>away_score</th>\n",
       "      <th>tournament</th>\n",
       "      <th>city</th>\n",
       "      <th>country</th>\n",
       "      <th>neutral</th>\n",
       "    </tr>\n",
       "  </thead>\n",
       "  <tbody>\n",
       "    <tr>\n",
       "      <th>0</th>\n",
       "      <td>1872-11-30</td>\n",
       "      <td>Scotland</td>\n",
       "      <td>England</td>\n",
       "      <td>0</td>\n",
       "      <td>0</td>\n",
       "      <td>Friendly</td>\n",
       "      <td>Glasgow</td>\n",
       "      <td>Scotland</td>\n",
       "      <td>False</td>\n",
       "    </tr>\n",
       "    <tr>\n",
       "      <th>1</th>\n",
       "      <td>1873-03-08</td>\n",
       "      <td>England</td>\n",
       "      <td>Scotland</td>\n",
       "      <td>4</td>\n",
       "      <td>2</td>\n",
       "      <td>Friendly</td>\n",
       "      <td>London</td>\n",
       "      <td>England</td>\n",
       "      <td>False</td>\n",
       "    </tr>\n",
       "    <tr>\n",
       "      <th>2</th>\n",
       "      <td>1874-03-07</td>\n",
       "      <td>Scotland</td>\n",
       "      <td>England</td>\n",
       "      <td>2</td>\n",
       "      <td>1</td>\n",
       "      <td>Friendly</td>\n",
       "      <td>Glasgow</td>\n",
       "      <td>Scotland</td>\n",
       "      <td>False</td>\n",
       "    </tr>\n",
       "    <tr>\n",
       "      <th>3</th>\n",
       "      <td>1875-03-06</td>\n",
       "      <td>England</td>\n",
       "      <td>Scotland</td>\n",
       "      <td>2</td>\n",
       "      <td>2</td>\n",
       "      <td>Friendly</td>\n",
       "      <td>London</td>\n",
       "      <td>England</td>\n",
       "      <td>False</td>\n",
       "    </tr>\n",
       "    <tr>\n",
       "      <th>4</th>\n",
       "      <td>1876-03-04</td>\n",
       "      <td>Scotland</td>\n",
       "      <td>England</td>\n",
       "      <td>3</td>\n",
       "      <td>0</td>\n",
       "      <td>Friendly</td>\n",
       "      <td>Glasgow</td>\n",
       "      <td>Scotland</td>\n",
       "      <td>False</td>\n",
       "    </tr>\n",
       "  </tbody>\n",
       "</table>\n",
       "</div>"
      ],
      "text/plain": [
       "         date home_team away_team  home_score  away_score tournament     city  \\\n",
       "0  1872-11-30  Scotland   England           0           0   Friendly  Glasgow   \n",
       "1  1873-03-08   England  Scotland           4           2   Friendly   London   \n",
       "2  1874-03-07  Scotland   England           2           1   Friendly  Glasgow   \n",
       "3  1875-03-06   England  Scotland           2           2   Friendly   London   \n",
       "4  1876-03-04  Scotland   England           3           0   Friendly  Glasgow   \n",
       "\n",
       "    country  neutral  \n",
       "0  Scotland    False  \n",
       "1   England    False  \n",
       "2  Scotland    False  \n",
       "3   England    False  \n",
       "4  Scotland    False  "
      ]
     },
     "execution_count": 2,
     "metadata": {},
     "output_type": "execute_result"
    }
   ],
   "source": [
    "file_path='data/data.csv'\n",
    "df = pd.read_csv(file_path,encoding='utf-8')  # ISO-8859-1\n",
    "df.head()"
   ]
  },
  {
   "cell_type": "markdown",
   "metadata": {},
   "source": [
    "数据集中所包含字段: 日期,主队名称,客队名称,主队进球数,客队进球数,比赛类型,所在城市,所在国家,是否中立"
   ]
  },
  {
   "cell_type": "markdown",
   "metadata": {},
   "source": [
    "### 1、 获取世界杯所有正赛的数据\n"
   ]
  },
  {
   "cell_type": "markdown",
   "metadata": {},
   "source": [
    "我们需要将世界杯正赛的数据从总的数据集中筛选出来  \n",
    "紧接着我们将会进行数据清洗,把日期列的格式转换为datetime,并根据原有数据新增一些字段：净胜球,获胜球队名,比赛所在年份"
   ]
  },
  {
   "cell_type": "code",
   "execution_count": 3,
   "metadata": {},
   "outputs": [],
   "source": [
    "# df['tournament'].value_counts() 我们需要将世界杯赛事的数据从总的国际各项足球赛事数据集中筛选出来"
   ]
  },
  {
   "cell_type": "code",
   "execution_count": 4,
   "metadata": {},
   "outputs": [],
   "source": [
    "df_FIFA_total = df[df['tournament'].str.contains('FIFA')]"
   ]
  },
  {
   "cell_type": "code",
   "execution_count": 5,
   "metadata": {},
   "outputs": [
    {
     "data": {
      "text/plain": [
       "FIFA World Cup qualification    7100\n",
       "FIFA World Cup                   836\n",
       "Name: tournament, dtype: int64"
      ]
     },
     "execution_count": 5,
     "metadata": {},
     "output_type": "execute_result"
    }
   ],
   "source": [
    "df_FIFA_total['tournament'].value_counts()"
   ]
  },
  {
   "cell_type": "code",
   "execution_count": 6,
   "metadata": {},
   "outputs": [
    {
     "name": "stdout",
     "output_type": "stream",
     "text": [
      "<class 'pandas.core.frame.DataFrame'>\n",
      "Int64Index: 836 entries, 1277 to 35597\n",
      "Data columns (total 9 columns):\n",
      "date          836 non-null object\n",
      "home_team     836 non-null object\n",
      "away_team     836 non-null object\n",
      "home_score    836 non-null int64\n",
      "away_score    836 non-null int64\n",
      "tournament    836 non-null object\n",
      "city          836 non-null object\n",
      "country       836 non-null object\n",
      "neutral       836 non-null bool\n",
      "dtypes: bool(1), int64(2), object(6)\n",
      "memory usage: 59.6+ KB\n"
     ]
    }
   ],
   "source": [
    "df_FIFA = df_FIFA_total[df_FIFA_total['tournament']=='FIFA World Cup']\n",
    "df_FIFA.info()"
   ]
  },
  {
   "cell_type": "code",
   "execution_count": 7,
   "metadata": {},
   "outputs": [
    {
     "name": "stderr",
     "output_type": "stream",
     "text": [
      "/anaconda3/lib/python3.6/site-packages/pandas/core/indexing.py:543: SettingWithCopyWarning: \n",
      "A value is trying to be set on a copy of a slice from a DataFrame.\n",
      "Try using .loc[row_indexer,col_indexer] = value instead\n",
      "\n",
      "See the caveats in the documentation: http://pandas.pydata.org/pandas-docs/stable/indexing.html#indexing-view-versus-copy\n",
      "  self.obj[item] = s\n"
     ]
    }
   ],
   "source": [
    "df_FIFA.loc[:,'date']= pd.to_datetime(df_FIFA['date'])"
   ]
  },
  {
   "cell_type": "code",
   "execution_count": 8,
   "metadata": {},
   "outputs": [
    {
     "name": "stderr",
     "output_type": "stream",
     "text": [
      "/anaconda3/lib/python3.6/site-packages/pandas/core/indexing.py:362: SettingWithCopyWarning: \n",
      "A value is trying to be set on a copy of a slice from a DataFrame.\n",
      "Try using .loc[row_indexer,col_indexer] = value instead\n",
      "\n",
      "See the caveats in the documentation: http://pandas.pydata.org/pandas-docs/stable/indexing.html#indexing-view-versus-copy\n",
      "  self.obj[key] = _infer_fill_value(value)\n"
     ]
    }
   ],
   "source": [
    "df_FIFA.loc[:,'year'] = df_FIFA['date'].dt.year"
   ]
  },
  {
   "cell_type": "code",
   "execution_count": 9,
   "metadata": {},
   "outputs": [
    {
     "data": {
      "text/plain": [
       "2014    64\n",
       "2010    64\n",
       "2006    64\n",
       "2002    64\n",
       "1998    64\n",
       "1994    52\n",
       "1990    52\n",
       "1986    52\n",
       "1982    52\n",
       "1974    38\n",
       "1978    38\n",
       "1958    35\n",
       "1970    32\n",
       "1966    32\n",
       "1962    32\n",
       "1954    26\n",
       "1950    22\n",
       "1938    18\n",
       "1930    18\n",
       "1934    17\n",
       "Name: year, dtype: int64"
      ]
     },
     "execution_count": 9,
     "metadata": {},
     "output_type": "execute_result"
    }
   ],
   "source": [
    "df_FIFA['year'].value_counts()"
   ]
  },
  {
   "cell_type": "code",
   "execution_count": 10,
   "metadata": {},
   "outputs": [],
   "source": [
    "df_FIFA.loc[:,'diff_score'] = df_FIFA['home_score']-df_FIFA['away_score']"
   ]
  },
  {
   "cell_type": "code",
   "execution_count": 11,
   "metadata": {},
   "outputs": [],
   "source": [
    "df_FIFA.loc[df_FIFA['diff_score']> 0, 'win_team'] = df_FIFA.loc[df_FIFA['diff_score']> 0, 'home_team']\n",
    "df_FIFA.loc[df_FIFA['diff_score']< 0, 'win_team'] = df_FIFA.loc[df_FIFA['diff_score']< 0, 'away_team']\n",
    "df_FIFA.loc[df_FIFA['diff_score']== 0, 'win_team'] = 'Draw'"
   ]
  },
  {
   "cell_type": "code",
   "execution_count": 12,
   "metadata": {},
   "outputs": [
    {
     "data": {
      "text/html": [
       "<div>\n",
       "<style scoped>\n",
       "    .dataframe tbody tr th:only-of-type {\n",
       "        vertical-align: middle;\n",
       "    }\n",
       "\n",
       "    .dataframe tbody tr th {\n",
       "        vertical-align: top;\n",
       "    }\n",
       "\n",
       "    .dataframe thead th {\n",
       "        text-align: right;\n",
       "    }\n",
       "</style>\n",
       "<table border=\"1\" class=\"dataframe\">\n",
       "  <thead>\n",
       "    <tr style=\"text-align: right;\">\n",
       "      <th></th>\n",
       "      <th>date</th>\n",
       "      <th>home_team</th>\n",
       "      <th>away_team</th>\n",
       "      <th>home_score</th>\n",
       "      <th>away_score</th>\n",
       "      <th>tournament</th>\n",
       "      <th>city</th>\n",
       "      <th>country</th>\n",
       "      <th>neutral</th>\n",
       "      <th>year</th>\n",
       "      <th>diff_score</th>\n",
       "      <th>win_team</th>\n",
       "    </tr>\n",
       "  </thead>\n",
       "  <tbody>\n",
       "    <tr>\n",
       "      <th>1277</th>\n",
       "      <td>1930-07-13</td>\n",
       "      <td>Belgium</td>\n",
       "      <td>USA</td>\n",
       "      <td>0</td>\n",
       "      <td>3</td>\n",
       "      <td>FIFA World Cup</td>\n",
       "      <td>Montevideo</td>\n",
       "      <td>Uruguay</td>\n",
       "      <td>True</td>\n",
       "      <td>1930</td>\n",
       "      <td>-3</td>\n",
       "      <td>USA</td>\n",
       "    </tr>\n",
       "    <tr>\n",
       "      <th>1278</th>\n",
       "      <td>1930-07-13</td>\n",
       "      <td>France</td>\n",
       "      <td>Mexico</td>\n",
       "      <td>4</td>\n",
       "      <td>1</td>\n",
       "      <td>FIFA World Cup</td>\n",
       "      <td>Montevideo</td>\n",
       "      <td>Uruguay</td>\n",
       "      <td>True</td>\n",
       "      <td>1930</td>\n",
       "      <td>3</td>\n",
       "      <td>France</td>\n",
       "    </tr>\n",
       "    <tr>\n",
       "      <th>1279</th>\n",
       "      <td>1930-07-14</td>\n",
       "      <td>Brazil</td>\n",
       "      <td>Yugoslavia</td>\n",
       "      <td>1</td>\n",
       "      <td>2</td>\n",
       "      <td>FIFA World Cup</td>\n",
       "      <td>Montevideo</td>\n",
       "      <td>Uruguay</td>\n",
       "      <td>True</td>\n",
       "      <td>1930</td>\n",
       "      <td>-1</td>\n",
       "      <td>Yugoslavia</td>\n",
       "    </tr>\n",
       "    <tr>\n",
       "      <th>1280</th>\n",
       "      <td>1930-07-14</td>\n",
       "      <td>Peru</td>\n",
       "      <td>Romania</td>\n",
       "      <td>1</td>\n",
       "      <td>3</td>\n",
       "      <td>FIFA World Cup</td>\n",
       "      <td>Montevideo</td>\n",
       "      <td>Uruguay</td>\n",
       "      <td>True</td>\n",
       "      <td>1930</td>\n",
       "      <td>-2</td>\n",
       "      <td>Romania</td>\n",
       "    </tr>\n",
       "    <tr>\n",
       "      <th>1281</th>\n",
       "      <td>1930-07-15</td>\n",
       "      <td>Argentina</td>\n",
       "      <td>France</td>\n",
       "      <td>1</td>\n",
       "      <td>0</td>\n",
       "      <td>FIFA World Cup</td>\n",
       "      <td>Montevideo</td>\n",
       "      <td>Uruguay</td>\n",
       "      <td>True</td>\n",
       "      <td>1930</td>\n",
       "      <td>1</td>\n",
       "      <td>Argentina</td>\n",
       "    </tr>\n",
       "  </tbody>\n",
       "</table>\n",
       "</div>"
      ],
      "text/plain": [
       "           date  home_team   away_team  home_score  away_score  \\\n",
       "1277 1930-07-13    Belgium         USA           0           3   \n",
       "1278 1930-07-13     France      Mexico           4           1   \n",
       "1279 1930-07-14     Brazil  Yugoslavia           1           2   \n",
       "1280 1930-07-14       Peru     Romania           1           3   \n",
       "1281 1930-07-15  Argentina      France           1           0   \n",
       "\n",
       "          tournament        city  country  neutral  year  diff_score  \\\n",
       "1277  FIFA World Cup  Montevideo  Uruguay     True  1930          -3   \n",
       "1278  FIFA World Cup  Montevideo  Uruguay     True  1930           3   \n",
       "1279  FIFA World Cup  Montevideo  Uruguay     True  1930          -1   \n",
       "1280  FIFA World Cup  Montevideo  Uruguay     True  1930          -2   \n",
       "1281  FIFA World Cup  Montevideo  Uruguay     True  1930           1   \n",
       "\n",
       "        win_team  \n",
       "1277         USA  \n",
       "1278      France  \n",
       "1279  Yugoslavia  \n",
       "1280     Romania  \n",
       "1281   Argentina  "
      ]
     },
     "execution_count": 12,
     "metadata": {},
     "output_type": "execute_result"
    }
   ],
   "source": [
    "df_FIFA.head()"
   ]
  },
  {
   "cell_type": "markdown",
   "metadata": {},
   "source": [
    "### 筛选出比赛前20强数据情况"
   ]
  },
  {
   "cell_type": "code",
   "execution_count": 13,
   "metadata": {},
   "outputs": [
    {
     "data": {
      "text/plain": [
       "win_team\n",
       "Draw                  186\n",
       "Brazil                 70\n",
       "Germany                66\n",
       "Italy                  45\n",
       "Argentina              42\n",
       "Spain                  29\n",
       "France                 28\n",
       "Netherlands            27\n",
       "England                26\n",
       "Uruguay                20\n",
       "Russia                 17\n",
       "Sweden                 16\n",
       "Hungary                15\n",
       "Poland                 15\n",
       "Belgium                14\n",
       "Mexico                 14\n",
       "Yugoslavia             14\n",
       "Portugal               13\n",
       "Austria                12\n",
       "Switzerland            11\n",
       "Czechoslovakia         11\n",
       "Chile                  11\n",
       "Romania                 8\n",
       "USA                     8\n",
       "Denmark                 8\n",
       "Colombia                7\n",
       "Paraguay                7\n",
       "Croatia                 7\n",
       "Nigeria                 5\n",
       "Korea Republic          5\n",
       "                     ... \n",
       "Cameroon                4\n",
       "Ghana                   4\n",
       "Japan                   4\n",
       "Scotland                4\n",
       "Peru                    4\n",
       "Algeria                 3\n",
       "Northern Ireland        3\n",
       "Serbia                  3\n",
       "Bulgaria                3\n",
       "Ivory Coast             3\n",
       "Australia               2\n",
       "Morocco                 2\n",
       "German DR               2\n",
       "Ukraine                 2\n",
       "South Africa            2\n",
       "Ireland                 2\n",
       "Saudi Arabia            2\n",
       "Senegal                 2\n",
       "Greece                  2\n",
       "Norway                  2\n",
       "Tunisia                 1\n",
       "Slovenia                1\n",
       "Bosnia-Herzegovina      1\n",
       "Iran                    1\n",
       "Slovakia                1\n",
       "Czech Republic          1\n",
       "Korea DPR               1\n",
       "Wales                   1\n",
       "Jamaica                 1\n",
       "Cuba                    1\n",
       "Name: date, Length: 63, dtype: int64"
      ]
     },
     "execution_count": 13,
     "metadata": {},
     "output_type": "execute_result"
    }
   ],
   "source": [
    "winning_teams = df_FIFA.groupby('win_team')['date'].count()\n",
    "winning_teams.sort_values(ascending=False,inplace=True)\n",
    "winning_teams"
   ]
  },
  {
   "cell_type": "markdown",
   "metadata": {},
   "source": [
    "删掉第一项draw后,我们将数据以条形图的形式呈现出来"
   ]
  },
  {
   "cell_type": "code",
   "execution_count": 41,
   "metadata": {},
   "outputs": [],
   "source": [
    "# winning_teams.items   \n",
    "data = winning_teams[1:20]"
   ]
  },
  {
   "cell_type": "code",
   "execution_count": 63,
   "metadata": {},
   "outputs": [
    {
     "data": {
      "text/html": [
       "<script>\n",
       "    require.config({\n",
       "        paths: {\n",
       "            'echarts':'https://assets.pyecharts.org/assets/echarts.min'\n",
       "        }\n",
       "    });\n",
       "</script>\n",
       "\n",
       "    <div id=\"da6cc269b9e148a38da5631eb34513ea\" style=\"width:900px; height:500px;\"></div>\n",
       "\n",
       "\n",
       "<script>\n",
       "    require(['echarts'], function(echarts) {\n",
       "        var chart_da6cc269b9e148a38da5631eb34513ea = echarts.init(\n",
       "            document.getElementById('da6cc269b9e148a38da5631eb34513ea'), 'white', {renderer: 'canvas'});\n",
       "        var option_da6cc269b9e148a38da5631eb34513ea = {\n",
       "    \"color\": [\n",
       "        \"#c23531\",\n",
       "        \"#2f4554\",\n",
       "        \"#61a0a8\",\n",
       "        \"#d48265\",\n",
       "        \"#749f83\",\n",
       "        \"#ca8622\",\n",
       "        \"#bda29a\",\n",
       "        \"#6e7074\",\n",
       "        \"#546570\",\n",
       "        \"#c4ccd3\",\n",
       "        \"#f05b72\",\n",
       "        \"#ef5b9c\",\n",
       "        \"#f47920\",\n",
       "        \"#905a3d\",\n",
       "        \"#fab27b\",\n",
       "        \"#2a5caa\",\n",
       "        \"#444693\",\n",
       "        \"#726930\",\n",
       "        \"#b2d235\",\n",
       "        \"#6d8346\",\n",
       "        \"#ac6767\",\n",
       "        \"#1d953f\",\n",
       "        \"#6950a1\",\n",
       "        \"#918597\"\n",
       "    ],\n",
       "    \"series\": [\n",
       "        {\n",
       "            \"type\": \"bar\",\n",
       "            \"name\": \"\\u8d62\\u7403\\u573a\\u6b21\",\n",
       "            \"data\": [\n",
       "                70,\n",
       "                66,\n",
       "                45,\n",
       "                42,\n",
       "                29,\n",
       "                28,\n",
       "                27,\n",
       "                26,\n",
       "                20,\n",
       "                17,\n",
       "                16,\n",
       "                15,\n",
       "                15,\n",
       "                14,\n",
       "                14,\n",
       "                14,\n",
       "                13,\n",
       "                12,\n",
       "                11\n",
       "            ],\n",
       "            \"barCategoryGap\": \"20%\",\n",
       "            \"label\": {\n",
       "                \"show\": true,\n",
       "                \"position\": \"top\",\n",
       "                \"margin\": 8\n",
       "            }\n",
       "        }\n",
       "    ],\n",
       "    \"legend\": [\n",
       "        {\n",
       "            \"data\": [\n",
       "                \"\\u8d62\\u7403\\u573a\\u6b21\"\n",
       "            ],\n",
       "            \"selected\": {\n",
       "                \"\\u8d62\\u7403\\u573a\\u6b21\": true\n",
       "            },\n",
       "            \"show\": true\n",
       "        }\n",
       "    ],\n",
       "    \"tooltip\": {\n",
       "        \"show\": true,\n",
       "        \"trigger\": \"item\",\n",
       "        \"triggerOn\": \"mousemove|click\",\n",
       "        \"axisPointer\": {\n",
       "            \"type\": \"line\"\n",
       "        },\n",
       "        \"textStyle\": {\n",
       "            \"fontSize\": 14\n",
       "        },\n",
       "        \"borderWidth\": 0\n",
       "    },\n",
       "    \"xAxis\": [\n",
       "        {\n",
       "            \"name\": \"\\u56fd\\u5bb6\",\n",
       "            \"show\": true,\n",
       "            \"scale\": false,\n",
       "            \"nameLocation\": \"end\",\n",
       "            \"nameGap\": 15,\n",
       "            \"gridIndex\": 0,\n",
       "            \"inverse\": false,\n",
       "            \"offset\": 0,\n",
       "            \"splitNumber\": 5,\n",
       "            \"minInterval\": 0,\n",
       "            \"splitLine\": {\n",
       "                \"show\": false,\n",
       "                \"lineStyle\": {\n",
       "                    \"width\": 1,\n",
       "                    \"opacity\": 1,\n",
       "                    \"curveness\": 0,\n",
       "                    \"type\": \"solid\"\n",
       "                }\n",
       "            },\n",
       "            \"data\": [\n",
       "                \"Brazil\",\n",
       "                \"Germany\",\n",
       "                \"Italy\",\n",
       "                \"Argentina\",\n",
       "                \"Spain\",\n",
       "                \"France\",\n",
       "                \"Netherlands\",\n",
       "                \"England\",\n",
       "                \"Uruguay\",\n",
       "                \"Russia\",\n",
       "                \"Sweden\",\n",
       "                \"Hungary\",\n",
       "                \"Poland\",\n",
       "                \"Belgium\",\n",
       "                \"Mexico\",\n",
       "                \"Yugoslavia\",\n",
       "                \"Portugal\",\n",
       "                \"Austria\",\n",
       "                \"Switzerland\"\n",
       "            ]\n",
       "        }\n",
       "    ],\n",
       "    \"yAxis\": [\n",
       "        {\n",
       "            \"name\": \"\\u6b21\\u6570\",\n",
       "            \"show\": true,\n",
       "            \"scale\": false,\n",
       "            \"nameLocation\": \"end\",\n",
       "            \"nameGap\": 15,\n",
       "            \"gridIndex\": 0,\n",
       "            \"inverse\": false,\n",
       "            \"offset\": 0,\n",
       "            \"splitNumber\": 5,\n",
       "            \"minInterval\": 0,\n",
       "            \"splitLine\": {\n",
       "                \"show\": false,\n",
       "                \"lineStyle\": {\n",
       "                    \"width\": 1,\n",
       "                    \"opacity\": 1,\n",
       "                    \"curveness\": 0,\n",
       "                    \"type\": \"solid\"\n",
       "                }\n",
       "            }\n",
       "        }\n",
       "    ],\n",
       "    \"title\": [\n",
       "        {\n",
       "            \"text\": \"\\u8d62\\u7403\\u573a\\u6b21\\u6700\\u591a\\u7684\\u524d20\\u4e2a\\u56fd\\u5bb6\"\n",
       "        }\n",
       "    ]\n",
       "};\n",
       "        chart_da6cc269b9e148a38da5631eb34513ea.setOption(option_da6cc269b9e148a38da5631eb34513ea);\n",
       "    });\n",
       "</script>\n"
      ],
      "text/plain": [
       "<pyecharts.render.display.HTML at 0x12cb3bdd8>"
      ]
     },
     "execution_count": 63,
     "metadata": {},
     "output_type": "execute_result"
    }
   ],
   "source": [
    "b = Bar()\n",
    "\n",
    "b.add_xaxis(data.index.tolist())\n",
    "b.add_yaxis(\"赢球场次\", data.values.tolist())\n",
    "b.set_global_opts(title_opts=opts.TitleOpts(title=\"赢球场次最多的前20个国家\"),\n",
    "                  yaxis_opts=opts.AxisOpts(name=\"次数\"),\n",
    "                  xaxis_opts=opts.AxisOpts(name=\"国家\"))\n",
    "b.render_notebook()"
   ]
  },
  {
   "cell_type": "code",
   "execution_count": 65,
   "metadata": {},
   "outputs": [
    {
     "data": {
      "text/plain": [
       "<matplotlib.axes._subplots.AxesSubplot at 0x11e95d5c0>"
      ]
     },
     "execution_count": 65,
     "metadata": {},
     "output_type": "execute_result"
    },
    {
     "data": {
      "image/png": "[encoded data removed]",
      "text/plain": [
       "<Figure size 720x432 with 1 Axes>"
      ]
     },
     "metadata": {},
     "output_type": "display_data"
    }
   ],
   "source": [
    "data.plot(kind='bar', figsize=(10,6), title='Top 20 Winners of World Cup',color=['r','g','b'])"
   ]
  },
  {
   "cell_type": "code",
   "execution_count": null,
   "metadata": {},
   "outputs": [],
   "source": []
  }
 ],
 "metadata": {
  "kernelspec": {
   "display_name": "Python 3",
   "language": "python",
   "name": "python3"
  },
  "language_info": {
   "codemirror_mode": {
    "name": "ipython",
    "version": 3
   },
   "file_extension": ".py",
   "mimetype": "text/x-python",
   "name": "python",
   "nbconvert_exporter": "python",
   "pygments_lexer": "ipython3",
   "version": "3.6.8"
  }
 },
 "nbformat": 4,
 "nbformat_minor": 2
}
