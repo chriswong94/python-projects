{
 "cells": [
  {
   "cell_type": "code",
   "execution_count": 1,
   "metadata": {},
   "outputs": [],
   "source": [
    "import requests\n",
    "import time\n",
    "import csv\n",
    "from pyquery import PyQuery as pq"
   ]
  },
  {
   "cell_type": "code",
   "execution_count": 2,
   "metadata": {},
   "outputs": [],
   "source": [
    "class mySpider:\n",
    "    \n",
    "    def __init__(self):\n",
    "        self.base_url = 'https://maoyan.com/board/4?offset={}'\n",
    "        self.headers  = {\n",
    "            'User-Agent': 'Mozilla/5.0 (Macintosh; Intel Mac OS X 10_14_4) AppleWebKit/537.36 (KHTML, like Gecko) Chrome/75.0.3770.142 Safari/537.36'\n",
    "        }\n",
    "    \n",
    "    # 创建一个csv文件，建立headers\n",
    "    def create_file(self):\n",
    "        # python 读写csv文件（创建，追加，覆盖） https://blog.csdn.net/lwgkzl/article/details/82147474\n",
    "        with open('./raw_data.csv', 'w') as f:\n",
    "            csv_write = csv.writer(f)\n",
    "            csv_head = [\"title\",\"actor\",\"releasetime\",\"stars\",\"style\",\"location\",\"film_duration\"]\n",
    "            csv_write.writerow(csv_head)\n",
    "     \n",
    "    # 得到完整的url地址\n",
    "    def get_url(self,num):\n",
    "        desire_url = self.base_url.format(num)\n",
    "        self.get_page(desire_url)\n",
    "    \n",
    "    # 根据url地址，用requests库获取相应页面的内容 并传入分析页面的函数 \n",
    "    def get_page(self,url):\n",
    "            response = requests.get(url,self.headers)\n",
    "            if response.status_code == 200:\n",
    "                self.parse_page(response.content.decode('utf-8'))\n",
    "                # 每次睡眠3秒，防止被网页发现爬虫行为\n",
    "                time.sleep(3)\n",
    "            else:\n",
    "                print('Failed to load data from desired url')\n",
    "    \n",
    "    # 利用pyquery从获取的页面内容里提取我们想要的相关信息 并存入到本地的CSV文件内\n",
    "    def parse_page(self,html):\n",
    "        data  = pq(html) \n",
    "        list1 = data('.board-wrapper dd').items()\n",
    "        for lis in list1:\n",
    "            title = lis('p.name a').text()\n",
    "            actor = lis('p.star').text().split('主演：')[1]\n",
    "            releasetime = lis('p.releasetime').text().split('上映时间：')[1][0:10]\n",
    "            star  = float(lis('p.score i:nth-child(1)').text() + lis('p.score i:nth-child(2)').text())\n",
    "            final_url = 'https://maoyan.com' + lis('.movie-item-info .name a').attr('href')\n",
    "            style,location,duration = self.more_info(final_url)\n",
    "            \n",
    "            # 写入csv文件\n",
    "            with open('./raw_data.csv', 'a', newline='', encoding='utf-8') as f:\n",
    "                csv_write = csv.writer(f)\n",
    "                data_row = [title,actor,releasetime,star,style,location,duration]\n",
    "                csv_write.writerow(data_row)\n",
    "            \n",
    "    def more_info(self,url):\n",
    "        data  = pq(url)\n",
    "        style = data('li.ellipsis:nth-child(1)').text().strip()\n",
    "        location = data('li.ellipsis:nth-child(2)').text().split('/')[0].strip()\n",
    "        film_duration = data('li.ellipsis:nth-child(2)').text().split('/')[1].strip()\n",
    "        return style, location, film_duration\n",
    "    \n",
    "    # 简历类后，通过单独调用这个函数实现整个爬虫的功能\n",
    "    def execution(self):\n",
    "        self.create_file()\n",
    "        for i in range(0,100,10):\n",
    "            self.get_url(i)"
   ]
  },
  {
   "cell_type": "code",
   "execution_count": 3,
   "metadata": {},
   "outputs": [],
   "source": [
    "if __name__ == '__main__':\n",
    "    crawler = mySpider()\n",
    "    crawler.execution()"
   ]
  }
 ],
 "metadata": {
  "kernelspec": {
   "display_name": "Python 3",
   "language": "python",
   "name": "python3"
  },
  "language_info": {
   "codemirror_mode": {
    "name": "ipython",
    "version": 3
   },
   "file_extension": ".py",
   "mimetype": "text/x-python",
   "name": "python",
   "nbconvert_exporter": "python",
   "pygments_lexer": "ipython3",
   "version": "3.6.8"
  }
 },
 "nbformat": 4,
 "nbformat_minor": 2
}
