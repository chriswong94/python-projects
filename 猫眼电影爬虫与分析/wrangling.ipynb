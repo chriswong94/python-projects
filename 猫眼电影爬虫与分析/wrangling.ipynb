{
 "cells": [
  {
   "cell_type": "code",
   "execution_count": 1,
   "metadata": {},
   "outputs": [],
   "source": [
    "import csv\n",
    "import pandas as pd\n",
    "from pandas import Series,DataFrame\n",
    "import matplotlib.pyplot as plt\n",
    "from matplotlib import font_manager\n",
    "from collections import Counter\n",
    "%matplotlib inline"
   ]
  },
  {
   "cell_type": "markdown",
   "metadata": {},
   "source": [
    " "
   ]
  },
  {
   "cell_type": "markdown",
   "metadata": {},
   "source": [
    "### 读取数据并查看"
   ]
  },
  {
   "cell_type": "code",
   "execution_count": 3,
   "metadata": {},
   "outputs": [],
   "source": [
    "raw_data = pd.read_csv('raw_data.csv')"
   ]
  },
  {
   "cell_type": "code",
   "execution_count": 4,
   "metadata": {},
   "outputs": [],
   "source": [
    "data = raw_data.copy()"
   ]
  },
  {
   "cell_type": "code",
   "execution_count": 5,
   "metadata": {},
   "outputs": [
    {
     "name": "stdout",
     "output_type": "stream",
     "text": [
      "<class 'pandas.core.frame.DataFrame'>\n",
      "RangeIndex: 100 entries, 0 to 99\n",
      "Data columns (total 7 columns):\n",
      "title            100 non-null object\n",
      "actor            100 non-null object\n",
      "releasetime      100 non-null object\n",
      "stars            100 non-null float64\n",
      "style            100 non-null object\n",
      "location         100 non-null object\n",
      "film_duration    100 non-null object\n",
      "dtypes: float64(1), object(6)\n",
      "memory usage: 5.5+ KB\n"
     ]
    }
   ],
   "source": [
    "data.info()"
   ]
  },
  {
   "cell_type": "code",
   "execution_count": 6,
   "metadata": {
    "scrolled": true
   },
   "outputs": [
    {
     "data": {
      "text/html": [
       "<div>\n",
       "<style scoped>\n",
       "    .dataframe tbody tr th:only-of-type {\n",
       "        vertical-align: middle;\n",
       "    }\n",
       "\n",
       "    .dataframe tbody tr th {\n",
       "        vertical-align: top;\n",
       "    }\n",
       "\n",
       "    .dataframe thead th {\n",
       "        text-align: right;\n",
       "    }\n",
       "</style>\n",
       "<table border=\"1\" class=\"dataframe\">\n",
       "  <thead>\n",
       "    <tr style=\"text-align: right;\">\n",
       "      <th></th>\n",
       "      <th>title</th>\n",
       "      <th>actor</th>\n",
       "      <th>releasetime</th>\n",
       "      <th>stars</th>\n",
       "      <th>style</th>\n",
       "      <th>location</th>\n",
       "      <th>film_duration</th>\n",
       "    </tr>\n",
       "  </thead>\n",
       "  <tbody>\n",
       "    <tr>\n",
       "      <th>0</th>\n",
       "      <td>霸王别姬</td>\n",
       "      <td>张国荣,张丰毅,巩俐</td>\n",
       "      <td>1993-01-01</td>\n",
       "      <td>9.5</td>\n",
       "      <td>爱情,剧情</td>\n",
       "      <td>中国大陆,中国香港</td>\n",
       "      <td>171分钟</td>\n",
       "    </tr>\n",
       "    <tr>\n",
       "      <th>1</th>\n",
       "      <td>肖申克的救赎</td>\n",
       "      <td>蒂姆·罗宾斯,摩根·弗里曼,鲍勃·冈顿</td>\n",
       "      <td>1994-09-10</td>\n",
       "      <td>9.5</td>\n",
       "      <td>犯罪,剧情</td>\n",
       "      <td>美国</td>\n",
       "      <td>142分钟</td>\n",
       "    </tr>\n",
       "    <tr>\n",
       "      <th>2</th>\n",
       "      <td>罗马假日</td>\n",
       "      <td>格利高里·派克,奥黛丽·赫本,埃迪·艾伯特</td>\n",
       "      <td>1953-09-02</td>\n",
       "      <td>9.1</td>\n",
       "      <td>喜剧,剧情,爱情</td>\n",
       "      <td>美国</td>\n",
       "      <td>118分钟</td>\n",
       "    </tr>\n",
       "    <tr>\n",
       "      <th>3</th>\n",
       "      <td>这个杀手不太冷</td>\n",
       "      <td>让·雷诺,加里·奥德曼,娜塔莉·波特曼</td>\n",
       "      <td>1994-09-14</td>\n",
       "      <td>9.5</td>\n",
       "      <td>剧情,惊悚,犯罪</td>\n",
       "      <td>法国</td>\n",
       "      <td>110分钟</td>\n",
       "    </tr>\n",
       "    <tr>\n",
       "      <th>4</th>\n",
       "      <td>泰坦尼克号</td>\n",
       "      <td>莱昂纳多·迪卡普里奥,凯特·温丝莱特,比利·赞恩</td>\n",
       "      <td>1998-04-03</td>\n",
       "      <td>9.5</td>\n",
       "      <td>历史,爱情,灾难</td>\n",
       "      <td>美国</td>\n",
       "      <td>194分钟</td>\n",
       "    </tr>\n",
       "    <tr>\n",
       "      <th>5</th>\n",
       "      <td>唐伯虎点秋香</td>\n",
       "      <td>周星驰,巩俐,郑佩佩</td>\n",
       "      <td>1993-07-01</td>\n",
       "      <td>9.1</td>\n",
       "      <td>喜剧,爱情,古装</td>\n",
       "      <td>中国香港</td>\n",
       "      <td>102分钟</td>\n",
       "    </tr>\n",
       "    <tr>\n",
       "      <th>6</th>\n",
       "      <td>魂断蓝桥</td>\n",
       "      <td>费雯·丽,罗伯特·泰勒,露塞尔·沃特森</td>\n",
       "      <td>1940-05-17</td>\n",
       "      <td>9.2</td>\n",
       "      <td>剧情,战争,爱情</td>\n",
       "      <td>美国</td>\n",
       "      <td>108分钟</td>\n",
       "    </tr>\n",
       "    <tr>\n",
       "      <th>7</th>\n",
       "      <td>乱世佳人</td>\n",
       "      <td>费雯·丽,克拉克·盖博,奥利维娅·德哈维兰</td>\n",
       "      <td>1939-12-15</td>\n",
       "      <td>9.1</td>\n",
       "      <td>剧情,爱情,战争</td>\n",
       "      <td>美国</td>\n",
       "      <td>238分钟</td>\n",
       "    </tr>\n",
       "    <tr>\n",
       "      <th>8</th>\n",
       "      <td>天空之城</td>\n",
       "      <td>寺田农,鹫尾真知子,龟山助清</td>\n",
       "      <td>1992</td>\n",
       "      <td>9.1</td>\n",
       "      <td>动画,冒险,家庭</td>\n",
       "      <td>日本</td>\n",
       "      <td>125分钟</td>\n",
       "    </tr>\n",
       "    <tr>\n",
       "      <th>9</th>\n",
       "      <td>辛德勒的名单</td>\n",
       "      <td>连姆·尼森,拉尔夫·费因斯,本·金斯利</td>\n",
       "      <td>1993-12-15</td>\n",
       "      <td>9.2</td>\n",
       "      <td>剧情,历史,战争</td>\n",
       "      <td>美国</td>\n",
       "      <td>195分钟</td>\n",
       "    </tr>\n",
       "  </tbody>\n",
       "</table>\n",
       "</div>"
      ],
      "text/plain": [
       "     title                     actor releasetime  stars     style   location  \\\n",
       "0     霸王别姬                张国荣,张丰毅,巩俐  1993-01-01    9.5     爱情,剧情  中国大陆,中国香港   \n",
       "1   肖申克的救赎       蒂姆·罗宾斯,摩根·弗里曼,鲍勃·冈顿  1994-09-10    9.5     犯罪,剧情         美国   \n",
       "2     罗马假日     格利高里·派克,奥黛丽·赫本,埃迪·艾伯特  1953-09-02    9.1  喜剧,剧情,爱情         美国   \n",
       "3  这个杀手不太冷       让·雷诺,加里·奥德曼,娜塔莉·波特曼  1994-09-14    9.5  剧情,惊悚,犯罪         法国   \n",
       "4    泰坦尼克号  莱昂纳多·迪卡普里奥,凯特·温丝莱特,比利·赞恩  1998-04-03    9.5  历史,爱情,灾难         美国   \n",
       "5   唐伯虎点秋香                周星驰,巩俐,郑佩佩  1993-07-01    9.1  喜剧,爱情,古装       中国香港   \n",
       "6     魂断蓝桥       费雯·丽,罗伯特·泰勒,露塞尔·沃特森  1940-05-17    9.2  剧情,战争,爱情         美国   \n",
       "7     乱世佳人     费雯·丽,克拉克·盖博,奥利维娅·德哈维兰  1939-12-15    9.1  剧情,爱情,战争         美国   \n",
       "8     天空之城            寺田农,鹫尾真知子,龟山助清        1992    9.1  动画,冒险,家庭         日本   \n",
       "9   辛德勒的名单       连姆·尼森,拉尔夫·费因斯,本·金斯利  1993-12-15    9.2  剧情,历史,战争         美国   \n",
       "\n",
       "  film_duration  \n",
       "0         171分钟  \n",
       "1         142分钟  \n",
       "2         118分钟  \n",
       "3         110分钟  \n",
       "4         194分钟  \n",
       "5         102分钟  \n",
       "6         108分钟  \n",
       "7         238分钟  \n",
       "8         125分钟  \n",
       "9         195分钟  "
      ]
     },
     "execution_count": 6,
     "metadata": {},
     "output_type": "execute_result"
    }
   ],
   "source": [
    "data.head(10)"
   ]
  },
  {
   "cell_type": "markdown",
   "metadata": {},
   "source": [
    " "
   ]
  },
  {
   "cell_type": "markdown",
   "metadata": {},
   "source": [
    "### 清洗数据"
   ]
  },
  {
   "cell_type": "code",
   "execution_count": 7,
   "metadata": {},
   "outputs": [],
   "source": [
    "# 发行日期栏 更改数据类型为 datetime\n",
    "data['releasetime'] = pd.to_datetime(data['releasetime'])"
   ]
  },
  {
   "cell_type": "code",
   "execution_count": 8,
   "metadata": {},
   "outputs": [],
   "source": [
    "# 增加两栏来统计 发型日期的年份 和月份\n",
    "data['release-year'] = data['releasetime'].dt.year\n",
    "data['release-month'] = data['releasetime'].dt.month"
   ]
  },
  {
   "cell_type": "code",
   "execution_count": 9,
   "metadata": {},
   "outputs": [],
   "source": [
    "# 电影时长栏 数据清洗变为 以分钟计数的数字\n",
    "data.rename(columns={'film_duration':'film_duration(minutes)'},inplace=True)\n",
    "data['film_duration(minutes)'] = data['film_duration(minutes)'].str.strip('分钟')\n",
    "data['film_duration(minutes)'] = data['film_duration(minutes)'].astype(int)"
   ]
  },
  {
   "cell_type": "code",
   "execution_count": 10,
   "metadata": {},
   "outputs": [],
   "source": [
    "# 清洗电影拍摄地一栏数据\n",
    "data['location'] = data['location'].str.split(',',expand=True)[0]"
   ]
  },
  {
   "cell_type": "code",
   "execution_count": 11,
   "metadata": {},
   "outputs": [
    {
     "data": {
      "text/plain": [
       "美国      46\n",
       "中国香港    13\n",
       "日本       9\n",
       "法国       6\n",
       "韩国       6\n",
       "意大利      5\n",
       "英国       4\n",
       "中国大陆     4\n",
       "德国       1\n",
       "印度       1\n",
       "中国台湾     1\n",
       "泰国       1\n",
       "伊朗       1\n",
       "新西兰      1\n",
       "巴西       1\n",
       "Name: location, dtype: int64"
      ]
     },
     "execution_count": 11,
     "metadata": {},
     "output_type": "execute_result"
    }
   ],
   "source": [
    "data['location'].value_counts()"
   ]
  },
  {
   "cell_type": "code",
   "execution_count": 12,
   "metadata": {},
   "outputs": [],
   "source": [
    "data.loc[data['location'] == '中国香港', 'location'] = '中国'\n",
    "data.loc[data['location'] == '中国大陆', 'location'] = '中国'\n",
    "data.loc[data['location'] == '中国台湾', 'location'] = '中国'"
   ]
  },
  {
   "cell_type": "code",
   "execution_count": 13,
   "metadata": {},
   "outputs": [
    {
     "data": {
      "text/plain": [
       "美国     46\n",
       "中国     18\n",
       "日本      9\n",
       "法国      6\n",
       "韩国      6\n",
       "意大利     5\n",
       "英国      4\n",
       "德国      1\n",
       "印度      1\n",
       "伊朗      1\n",
       "新西兰     1\n",
       "泰国      1\n",
       "巴西      1\n",
       "Name: location, dtype: int64"
      ]
     },
     "execution_count": 13,
     "metadata": {},
     "output_type": "execute_result"
    }
   ],
   "source": [
    "data['location'].value_counts()"
   ]
  },
  {
   "cell_type": "code",
   "execution_count": 14,
   "metadata": {},
   "outputs": [
    {
     "name": "stdout",
     "output_type": "stream",
     "text": [
      "<class 'pandas.core.frame.DataFrame'>\n",
      "RangeIndex: 100 entries, 0 to 99\n",
      "Data columns (total 9 columns):\n",
      "title                     100 non-null object\n",
      "actor                     100 non-null object\n",
      "releasetime               100 non-null datetime64[ns]\n",
      "stars                     100 non-null float64\n",
      "style                     100 non-null object\n",
      "location                  100 non-null object\n",
      "film_duration(minutes)    100 non-null int64\n",
      "release-year              100 non-null int64\n",
      "release-month             100 non-null int64\n",
      "dtypes: datetime64[ns](1), float64(1), int64(3), object(4)\n",
      "memory usage: 7.1+ KB\n"
     ]
    }
   ],
   "source": [
    "data.info()"
   ]
  },
  {
   "cell_type": "code",
   "execution_count": 15,
   "metadata": {
    "scrolled": false
   },
   "outputs": [
    {
     "data": {
      "text/html": [
       "<div>\n",
       "<style scoped>\n",
       "    .dataframe tbody tr th:only-of-type {\n",
       "        vertical-align: middle;\n",
       "    }\n",
       "\n",
       "    .dataframe tbody tr th {\n",
       "        vertical-align: top;\n",
       "    }\n",
       "\n",
       "    .dataframe thead th {\n",
       "        text-align: right;\n",
       "    }\n",
       "</style>\n",
       "<table border=\"1\" class=\"dataframe\">\n",
       "  <thead>\n",
       "    <tr style=\"text-align: right;\">\n",
       "      <th></th>\n",
       "      <th>title</th>\n",
       "      <th>actor</th>\n",
       "      <th>releasetime</th>\n",
       "      <th>stars</th>\n",
       "      <th>style</th>\n",
       "      <th>location</th>\n",
       "      <th>film_duration(minutes)</th>\n",
       "      <th>release-year</th>\n",
       "      <th>release-month</th>\n",
       "    </tr>\n",
       "  </thead>\n",
       "  <tbody>\n",
       "    <tr>\n",
       "      <th>0</th>\n",
       "      <td>霸王别姬</td>\n",
       "      <td>张国荣,张丰毅,巩俐</td>\n",
       "      <td>1993-01-01</td>\n",
       "      <td>9.5</td>\n",
       "      <td>爱情,剧情</td>\n",
       "      <td>中国</td>\n",
       "      <td>171</td>\n",
       "      <td>1993</td>\n",
       "      <td>1</td>\n",
       "    </tr>\n",
       "    <tr>\n",
       "      <th>1</th>\n",
       "      <td>肖申克的救赎</td>\n",
       "      <td>蒂姆·罗宾斯,摩根·弗里曼,鲍勃·冈顿</td>\n",
       "      <td>1994-09-10</td>\n",
       "      <td>9.5</td>\n",
       "      <td>犯罪,剧情</td>\n",
       "      <td>美国</td>\n",
       "      <td>142</td>\n",
       "      <td>1994</td>\n",
       "      <td>9</td>\n",
       "    </tr>\n",
       "    <tr>\n",
       "      <th>2</th>\n",
       "      <td>罗马假日</td>\n",
       "      <td>格利高里·派克,奥黛丽·赫本,埃迪·艾伯特</td>\n",
       "      <td>1953-09-02</td>\n",
       "      <td>9.1</td>\n",
       "      <td>喜剧,剧情,爱情</td>\n",
       "      <td>美国</td>\n",
       "      <td>118</td>\n",
       "      <td>1953</td>\n",
       "      <td>9</td>\n",
       "    </tr>\n",
       "    <tr>\n",
       "      <th>3</th>\n",
       "      <td>这个杀手不太冷</td>\n",
       "      <td>让·雷诺,加里·奥德曼,娜塔莉·波特曼</td>\n",
       "      <td>1994-09-14</td>\n",
       "      <td>9.5</td>\n",
       "      <td>剧情,惊悚,犯罪</td>\n",
       "      <td>法国</td>\n",
       "      <td>110</td>\n",
       "      <td>1994</td>\n",
       "      <td>9</td>\n",
       "    </tr>\n",
       "    <tr>\n",
       "      <th>4</th>\n",
       "      <td>泰坦尼克号</td>\n",
       "      <td>莱昂纳多·迪卡普里奥,凯特·温丝莱特,比利·赞恩</td>\n",
       "      <td>1998-04-03</td>\n",
       "      <td>9.5</td>\n",
       "      <td>历史,爱情,灾难</td>\n",
       "      <td>美国</td>\n",
       "      <td>194</td>\n",
       "      <td>1998</td>\n",
       "      <td>4</td>\n",
       "    </tr>\n",
       "    <tr>\n",
       "      <th>5</th>\n",
       "      <td>唐伯虎点秋香</td>\n",
       "      <td>周星驰,巩俐,郑佩佩</td>\n",
       "      <td>1993-07-01</td>\n",
       "      <td>9.1</td>\n",
       "      <td>喜剧,爱情,古装</td>\n",
       "      <td>中国</td>\n",
       "      <td>102</td>\n",
       "      <td>1993</td>\n",
       "      <td>7</td>\n",
       "    </tr>\n",
       "    <tr>\n",
       "      <th>6</th>\n",
       "      <td>魂断蓝桥</td>\n",
       "      <td>费雯·丽,罗伯特·泰勒,露塞尔·沃特森</td>\n",
       "      <td>1940-05-17</td>\n",
       "      <td>9.2</td>\n",
       "      <td>剧情,战争,爱情</td>\n",
       "      <td>美国</td>\n",
       "      <td>108</td>\n",
       "      <td>1940</td>\n",
       "      <td>5</td>\n",
       "    </tr>\n",
       "    <tr>\n",
       "      <th>7</th>\n",
       "      <td>乱世佳人</td>\n",
       "      <td>费雯·丽,克拉克·盖博,奥利维娅·德哈维兰</td>\n",
       "      <td>1939-12-15</td>\n",
       "      <td>9.1</td>\n",
       "      <td>剧情,爱情,战争</td>\n",
       "      <td>美国</td>\n",
       "      <td>238</td>\n",
       "      <td>1939</td>\n",
       "      <td>12</td>\n",
       "    </tr>\n",
       "    <tr>\n",
       "      <th>8</th>\n",
       "      <td>天空之城</td>\n",
       "      <td>寺田农,鹫尾真知子,龟山助清</td>\n",
       "      <td>1992-01-01</td>\n",
       "      <td>9.1</td>\n",
       "      <td>动画,冒险,家庭</td>\n",
       "      <td>日本</td>\n",
       "      <td>125</td>\n",
       "      <td>1992</td>\n",
       "      <td>1</td>\n",
       "    </tr>\n",
       "    <tr>\n",
       "      <th>9</th>\n",
       "      <td>辛德勒的名单</td>\n",
       "      <td>连姆·尼森,拉尔夫·费因斯,本·金斯利</td>\n",
       "      <td>1993-12-15</td>\n",
       "      <td>9.2</td>\n",
       "      <td>剧情,历史,战争</td>\n",
       "      <td>美国</td>\n",
       "      <td>195</td>\n",
       "      <td>1993</td>\n",
       "      <td>12</td>\n",
       "    </tr>\n",
       "  </tbody>\n",
       "</table>\n",
       "</div>"
      ],
      "text/plain": [
       "     title                     actor releasetime  stars     style location  \\\n",
       "0     霸王别姬                张国荣,张丰毅,巩俐  1993-01-01    9.5     爱情,剧情       中国   \n",
       "1   肖申克的救赎       蒂姆·罗宾斯,摩根·弗里曼,鲍勃·冈顿  1994-09-10    9.5     犯罪,剧情       美国   \n",
       "2     罗马假日     格利高里·派克,奥黛丽·赫本,埃迪·艾伯特  1953-09-02    9.1  喜剧,剧情,爱情       美国   \n",
       "3  这个杀手不太冷       让·雷诺,加里·奥德曼,娜塔莉·波特曼  1994-09-14    9.5  剧情,惊悚,犯罪       法国   \n",
       "4    泰坦尼克号  莱昂纳多·迪卡普里奥,凯特·温丝莱特,比利·赞恩  1998-04-03    9.5  历史,爱情,灾难       美国   \n",
       "5   唐伯虎点秋香                周星驰,巩俐,郑佩佩  1993-07-01    9.1  喜剧,爱情,古装       中国   \n",
       "6     魂断蓝桥       费雯·丽,罗伯特·泰勒,露塞尔·沃特森  1940-05-17    9.2  剧情,战争,爱情       美国   \n",
       "7     乱世佳人     费雯·丽,克拉克·盖博,奥利维娅·德哈维兰  1939-12-15    9.1  剧情,爱情,战争       美国   \n",
       "8     天空之城            寺田农,鹫尾真知子,龟山助清  1992-01-01    9.1  动画,冒险,家庭       日本   \n",
       "9   辛德勒的名单       连姆·尼森,拉尔夫·费因斯,本·金斯利  1993-12-15    9.2  剧情,历史,战争       美国   \n",
       "\n",
       "   film_duration(minutes)  release-year  release-month  \n",
       "0                     171          1993              1  \n",
       "1                     142          1994              9  \n",
       "2                     118          1953              9  \n",
       "3                     110          1994              9  \n",
       "4                     194          1998              4  \n",
       "5                     102          1993              7  \n",
       "6                     108          1940              5  \n",
       "7                     238          1939             12  \n",
       "8                     125          1992              1  \n",
       "9                     195          1993             12  "
      ]
     },
     "execution_count": 15,
     "metadata": {},
     "output_type": "execute_result"
    }
   ],
   "source": [
    "data.head(10)"
   ]
  },
  {
   "cell_type": "code",
   "execution_count": 16,
   "metadata": {},
   "outputs": [],
   "source": [
    "data.to_csv('data.csv',index=None)"
   ]
  },
  {
   "cell_type": "markdown",
   "metadata": {},
   "source": [
    " "
   ]
  },
  {
   "cell_type": "markdown",
   "metadata": {},
   "source": [
    " "
   ]
  },
  {
   "cell_type": "markdown",
   "metadata": {},
   "source": [
    " "
   ]
  }
 ],
 "metadata": {
  "kernelspec": {
   "display_name": "Python 3",
   "language": "python",
   "name": "python3"
  },
  "language_info": {
   "codemirror_mode": {
    "name": "ipython",
    "version": 3
   },
   "file_extension": ".py",
   "mimetype": "text/x-python",
   "name": "python",
   "nbconvert_exporter": "python",
   "pygments_lexer": "ipython3",
   "version": "3.6.8"
  }
 },
 "nbformat": 4,
 "nbformat_minor": 2
}
