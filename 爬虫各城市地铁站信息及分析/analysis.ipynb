{
 "cells": [
  {
   "cell_type": "markdown",
   "metadata": {},
   "source": [
    "### 读取查看数据"
   ]
  },
  {
   "cell_type": "code",
   "execution_count": 61,
   "metadata": {},
   "outputs": [],
   "source": [
    "import jieba\n",
    "import jieba.analyse\n",
    "import matplotlib.pyplot as plt\n",
    "from pyecharts.charts import Bar,Geo,WordCloud\n",
    "from pyecharts import options as opts\n",
    "from collections import Counter\n",
    "from pandas import Series,DataFrame"
   ]
  },
  {
   "cell_type": "code",
   "execution_count": 2,
   "metadata": {},
   "outputs": [],
   "source": [
    "# 最多显示10行\n",
    "pd.set_option('display.max_rows', 10)"
   ]
  },
  {
   "cell_type": "code",
   "execution_count": 3,
   "metadata": {},
   "outputs": [],
   "source": [
    "df = pd.read_csv('data/raw_data.csv')"
   ]
  },
  {
   "cell_type": "code",
   "execution_count": 4,
   "metadata": {},
   "outputs": [],
   "source": [
    "data = df.copy()"
   ]
  },
  {
   "cell_type": "code",
   "execution_count": 5,
   "metadata": {},
   "outputs": [
    {
     "name": "stdout",
     "output_type": "stream",
     "text": [
      "<class 'pandas.core.frame.DataFrame'>\n",
      "RangeIndex: 3721 entries, 0 to 3720\n",
      "Data columns (total 3 columns):\n",
      "城市    3721 non-null object\n",
      "线路    3721 non-null object\n",
      "站名    3721 non-null object\n",
      "dtypes: object(3)\n",
      "memory usage: 87.3+ KB\n"
     ]
    }
   ],
   "source": [
    "data.info()"
   ]
  },
  {
   "cell_type": "code",
   "execution_count": 6,
   "metadata": {},
   "outputs": [
    {
     "data": {
      "text/html": [
       "<div>\n",
       "<style scoped>\n",
       "    .dataframe tbody tr th:only-of-type {\n",
       "        vertical-align: middle;\n",
       "    }\n",
       "\n",
       "    .dataframe tbody tr th {\n",
       "        vertical-align: top;\n",
       "    }\n",
       "\n",
       "    .dataframe thead th {\n",
       "        text-align: right;\n",
       "    }\n",
       "</style>\n",
       "<table border=\"1\" class=\"dataframe\">\n",
       "  <thead>\n",
       "    <tr style=\"text-align: right;\">\n",
       "      <th></th>\n",
       "      <th>城市</th>\n",
       "      <th>线路</th>\n",
       "      <th>站名</th>\n",
       "    </tr>\n",
       "  </thead>\n",
       "  <tbody>\n",
       "    <tr>\n",
       "      <th>0</th>\n",
       "      <td>北京</td>\n",
       "      <td>S1线</td>\n",
       "      <td>金安桥</td>\n",
       "    </tr>\n",
       "    <tr>\n",
       "      <th>1</th>\n",
       "      <td>北京</td>\n",
       "      <td>S1线</td>\n",
       "      <td>四道桥</td>\n",
       "    </tr>\n",
       "    <tr>\n",
       "      <th>2</th>\n",
       "      <td>北京</td>\n",
       "      <td>S1线</td>\n",
       "      <td>桥户营</td>\n",
       "    </tr>\n",
       "    <tr>\n",
       "      <th>3</th>\n",
       "      <td>北京</td>\n",
       "      <td>S1线</td>\n",
       "      <td>上岸</td>\n",
       "    </tr>\n",
       "    <tr>\n",
       "      <th>4</th>\n",
       "      <td>北京</td>\n",
       "      <td>S1线</td>\n",
       "      <td>栗园庄</td>\n",
       "    </tr>\n",
       "  </tbody>\n",
       "</table>\n",
       "</div>"
      ],
      "text/plain": [
       "   城市   线路   站名\n",
       "0  北京  S1线  金安桥\n",
       "1  北京  S1线  四道桥\n",
       "2  北京  S1线  桥户营\n",
       "3  北京  S1线   上岸\n",
       "4  北京  S1线  栗园庄"
      ]
     },
     "execution_count": 6,
     "metadata": {},
     "output_type": "execute_result"
    }
   ],
   "source": [
    "data.head(5)"
   ]
  },
  {
   "cell_type": "markdown",
   "metadata": {},
   "source": [
    "### 评估和清洗数据"
   ]
  },
  {
   "cell_type": "code",
   "execution_count": 7,
   "metadata": {},
   "outputs": [
    {
     "data": {
      "text/html": [
       "<div>\n",
       "<style scoped>\n",
       "    .dataframe tbody tr th:only-of-type {\n",
       "        vertical-align: middle;\n",
       "    }\n",
       "\n",
       "    .dataframe tbody tr th {\n",
       "        vertical-align: top;\n",
       "    }\n",
       "\n",
       "    .dataframe thead th {\n",
       "        text-align: right;\n",
       "    }\n",
       "</style>\n",
       "<table border=\"1\" class=\"dataframe\">\n",
       "  <thead>\n",
       "    <tr style=\"text-align: right;\">\n",
       "      <th></th>\n",
       "      <th>城市</th>\n",
       "      <th>线路</th>\n",
       "      <th>站名</th>\n",
       "    </tr>\n",
       "  </thead>\n",
       "  <tbody>\n",
       "    <tr>\n",
       "      <th>516</th>\n",
       "      <td>上海</td>\n",
       "      <td>地铁5号线</td>\n",
       "      <td>东川路</td>\n",
       "    </tr>\n",
       "    <tr>\n",
       "      <th>678</th>\n",
       "      <td>上海</td>\n",
       "      <td>地铁10号线</td>\n",
       "      <td>新江湾城</td>\n",
       "    </tr>\n",
       "    <tr>\n",
       "      <th>679</th>\n",
       "      <td>上海</td>\n",
       "      <td>地铁10号线</td>\n",
       "      <td>殷高东路</td>\n",
       "    </tr>\n",
       "    <tr>\n",
       "      <th>680</th>\n",
       "      <td>上海</td>\n",
       "      <td>地铁10号线</td>\n",
       "      <td>三门路</td>\n",
       "    </tr>\n",
       "    <tr>\n",
       "      <th>681</th>\n",
       "      <td>上海</td>\n",
       "      <td>地铁10号线</td>\n",
       "      <td>江湾体育场</td>\n",
       "    </tr>\n",
       "  </tbody>\n",
       "</table>\n",
       "</div>"
      ],
      "text/plain": [
       "     城市      线路     站名\n",
       "516  上海   地铁5号线    东川路\n",
       "678  上海  地铁10号线   新江湾城\n",
       "679  上海  地铁10号线   殷高东路\n",
       "680  上海  地铁10号线    三门路\n",
       "681  上海  地铁10号线  江湾体育场"
      ]
     },
     "execution_count": 7,
     "metadata": {},
     "output_type": "execute_result"
    }
   ],
   "source": [
    "# 查看有无重复的数据\n",
    "data[data.duplicated()].head(5)\n",
    "#data[data.loc[: , '站名'] == '东川路']"
   ]
  },
  {
   "cell_type": "code",
   "execution_count": 8,
   "metadata": {},
   "outputs": [
    {
     "name": "stdout",
     "output_type": "stream",
     "text": [
      "<class 'pandas.core.frame.DataFrame'>\n",
      "RangeIndex: 3594 entries, 0 to 3593\n",
      "Data columns (total 3 columns):\n",
      "城市    3594 non-null object\n",
      "线路    3594 non-null object\n",
      "站名    3594 non-null object\n",
      "dtypes: object(3)\n",
      "memory usage: 84.3+ KB\n"
     ]
    }
   ],
   "source": [
    "# 清除重复的数据并重建索引\n",
    "data.drop_duplicates(keep='first',inplace=True)\n",
    "data.reset_index(drop=True,inplace=True)\n",
    "data.info()"
   ]
  },
  {
   "cell_type": "code",
   "execution_count": 9,
   "metadata": {},
   "outputs": [
    {
     "data": {
      "text/html": [
       "<div>\n",
       "<style scoped>\n",
       "    .dataframe tbody tr th:only-of-type {\n",
       "        vertical-align: middle;\n",
       "    }\n",
       "\n",
       "    .dataframe tbody tr th {\n",
       "        vertical-align: top;\n",
       "    }\n",
       "\n",
       "    .dataframe thead th {\n",
       "        text-align: right;\n",
       "    }\n",
       "</style>\n",
       "<table border=\"1\" class=\"dataframe\">\n",
       "  <thead>\n",
       "    <tr style=\"text-align: right;\">\n",
       "      <th></th>\n",
       "      <th>城市</th>\n",
       "      <th>线路</th>\n",
       "      <th>站名</th>\n",
       "    </tr>\n",
       "  </thead>\n",
       "  <tbody>\n",
       "    <tr>\n",
       "      <th>3589</th>\n",
       "      <td>石家庄</td>\n",
       "      <td>轨道交通3号线</td>\n",
       "      <td>新百广场</td>\n",
       "    </tr>\n",
       "    <tr>\n",
       "      <th>3590</th>\n",
       "      <td>石家庄</td>\n",
       "      <td>轨道交通3号线</td>\n",
       "      <td>东里</td>\n",
       "    </tr>\n",
       "    <tr>\n",
       "      <th>3591</th>\n",
       "      <td>石家庄</td>\n",
       "      <td>轨道交通3号线</td>\n",
       "      <td>槐安桥</td>\n",
       "    </tr>\n",
       "    <tr>\n",
       "      <th>3592</th>\n",
       "      <td>石家庄</td>\n",
       "      <td>轨道交通3号线</td>\n",
       "      <td>西三教</td>\n",
       "    </tr>\n",
       "    <tr>\n",
       "      <th>3593</th>\n",
       "      <td>石家庄</td>\n",
       "      <td>轨道交通3号线</td>\n",
       "      <td>石家庄站</td>\n",
       "    </tr>\n",
       "  </tbody>\n",
       "</table>\n",
       "</div>"
      ],
      "text/plain": [
       "       城市       线路    站名\n",
       "3589  石家庄  轨道交通3号线  新百广场\n",
       "3590  石家庄  轨道交通3号线    东里\n",
       "3591  石家庄  轨道交通3号线   槐安桥\n",
       "3592  石家庄  轨道交通3号线   西三教\n",
       "3593  石家庄  轨道交通3号线  石家庄站"
      ]
     },
     "execution_count": 9,
     "metadata": {},
     "output_type": "execute_result"
    }
   ],
   "source": [
    "data.tail()"
   ]
  },
  {
   "cell_type": "code",
   "execution_count": 10,
   "metadata": {},
   "outputs": [
    {
     "data": {
      "text/plain": [
       "array(['S1线', '地铁1号线', '地铁2号线', '地铁4号线大兴线', '地铁5号线', '地铁6号线', '地铁7号线',\n",
       "       '地铁8号线', '地铁8号线南段', '地铁9号线', '地铁10号线', '地铁13号线', '地铁14号线东段',\n",
       "       '地铁14号线西段', '地铁15号线', '地铁16号线', '地铁八通线', '地铁昌平线', '地铁房山线', '机场线',\n",
       "       '西郊线', '地铁燕房线', '地铁亦庄线', '地铁2号线东延线', '地铁3号线', '地铁4号线', '地铁11号线',\n",
       "       '地铁12号线', '地铁17号线', '磁悬浮', '轨道交通浦江线', '地铁3号线(北延段)', '地铁14号线',\n",
       "       '地铁14号线支线(知识城线)', '地铁21号线', 'APM线', '广佛线', '地铁1号线(罗宝线)',\n",
       "       '地铁2号线(蛇口线)', '地铁3号线(龙岗线)', '地铁4号线(龙华线)', '地铁5号线(环中线)', '轨道交通1号线',\n",
       "       '轨道交通2号线', '轨道交通3号线', '轨道交通4号线', '轨道交通6号线', '轨道交通7号线', '轨道交通8号线',\n",
       "       '轨道交通11号线', '轨道交通21号线(阳逻线)', '津滨轻轨9号线', '地铁S1号线(机场线)',\n",
       "       '地铁S3号线(宁和线)', '地铁S7号线(宁溧线)', '地铁S8号线(宁天线)', '地铁S9号线(宁高线)', '迪士尼綫',\n",
       "       '港島綫', '南港島綫', '西鐵綫', '荃灣綫', '將軍澳綫', '東涌綫', '東鐵綫', '機場快綫', '觀塘綫',\n",
       "       '馬鞍山綫', '轨道交通3号线北延伸段(空港线)', '轨道交通5号线', '轨道交通6号线支线(国博线)',\n",
       "       '轨道交通10号线', '轨道交通环线', '地铁保税区线', '地铁九里线', '地铁九里支线', '轨道交通4号线支线',\n",
       "       '城郊线', '磁浮快线'], dtype=object)"
      ]
     },
     "execution_count": 10,
     "metadata": {},
     "output_type": "execute_result"
    }
   ],
   "source": [
    "# 查看站名信息\n",
    "data['线路'].unique()"
   ]
  },
  {
   "cell_type": "code",
   "execution_count": 11,
   "metadata": {},
   "outputs": [],
   "source": [
    "# 去掉站名前的 地铁，轨道交通等字样\n",
    "data['线路'] = data['线路'].str.strip('地铁')\n",
    "data['线路'] = data['线路'].str.strip('轨道交通')"
   ]
  },
  {
   "cell_type": "code",
   "execution_count": 12,
   "metadata": {},
   "outputs": [
    {
     "data": {
      "text/plain": [
       "array(['S1线', '1号线', '2号线', '4号线大兴线', '5号线', '6号线', '7号线', '8号线', '8号线南段',\n",
       "       '9号线', '10号线', '13号线', '14号线东段', '14号线西段', '15号线', '16号线', '八通线',\n",
       "       '昌平线', '房山线', '机场线', '西郊线', '燕房线', '亦庄线', '2号线东延线', '3号线', '4号线',\n",
       "       '11号线', '12号线', '17号线', '磁悬浮', '浦江线', '3号线(北延段)', '14号线',\n",
       "       '14号线支线(知识城线)', '21号线', 'APM线', '广佛线', '1号线(罗宝线)', '2号线(蛇口线)',\n",
       "       '3号线(龙岗线)', '4号线(龙华线)', '5号线(环中线)', '21号线(阳逻线)', '津滨轻轨9号线',\n",
       "       'S1号线(机场线)', 'S3号线(宁和线)', 'S7号线(宁溧线)', 'S8号线(宁天线)', 'S9号线(宁高线)',\n",
       "       '迪士尼綫', '港島綫', '南港島綫', '西鐵綫', '荃灣綫', '將軍澳綫', '東涌綫', '東鐵綫', '機場快綫',\n",
       "       '觀塘綫', '馬鞍山綫', '3号线北延伸段(空港线)', '6号线支线(国博线)', '环线', '保税区线', '九里线',\n",
       "       '九里支线', '4号线支线', '城郊线', '磁浮快线'], dtype=object)"
      ]
     },
     "execution_count": 12,
     "metadata": {},
     "output_type": "execute_result"
    }
   ],
   "source": [
    "data['线路'].unique()"
   ]
  },
  {
   "cell_type": "markdown",
   "metadata": {},
   "source": [
    "### 探索性分析和可视化"
   ]
  },
  {
   "cell_type": "code",
   "execution_count": 13,
   "metadata": {},
   "outputs": [
    {
     "data": {
      "text/plain": [
       "32"
      ]
     },
     "execution_count": 13,
     "metadata": {},
     "output_type": "execute_result"
    }
   ],
   "source": [
    "len(data['城市'].unique())"
   ]
  },
  {
   "cell_type": "code",
   "execution_count": 14,
   "metadata": {},
   "outputs": [
    {
     "data": {
      "text/html": [
       "<div>\n",
       "<style scoped>\n",
       "    .dataframe tbody tr th:only-of-type {\n",
       "        vertical-align: middle;\n",
       "    }\n",
       "\n",
       "    .dataframe tbody tr th {\n",
       "        vertical-align: top;\n",
       "    }\n",
       "\n",
       "    .dataframe thead th {\n",
       "        text-align: right;\n",
       "    }\n",
       "</style>\n",
       "<table border=\"1\" class=\"dataframe\">\n",
       "  <thead>\n",
       "    <tr style=\"text-align: right;\">\n",
       "      <th></th>\n",
       "      <th>城市</th>\n",
       "      <th>线路</th>\n",
       "      <th>站名</th>\n",
       "    </tr>\n",
       "  </thead>\n",
       "  <tbody>\n",
       "    <tr>\n",
       "      <th>0</th>\n",
       "      <td>上海</td>\n",
       "      <td>10号线</td>\n",
       "      <td>31</td>\n",
       "    </tr>\n",
       "    <tr>\n",
       "      <th>1</th>\n",
       "      <td>上海</td>\n",
       "      <td>11号线</td>\n",
       "      <td>38</td>\n",
       "    </tr>\n",
       "    <tr>\n",
       "      <th>2</th>\n",
       "      <td>上海</td>\n",
       "      <td>12号线</td>\n",
       "      <td>32</td>\n",
       "    </tr>\n",
       "    <tr>\n",
       "      <th>3</th>\n",
       "      <td>上海</td>\n",
       "      <td>13号线</td>\n",
       "      <td>31</td>\n",
       "    </tr>\n",
       "    <tr>\n",
       "      <th>4</th>\n",
       "      <td>上海</td>\n",
       "      <td>16号线</td>\n",
       "      <td>13</td>\n",
       "    </tr>\n",
       "    <tr>\n",
       "      <th>...</th>\n",
       "      <td>...</td>\n",
       "      <td>...</td>\n",
       "      <td>...</td>\n",
       "    </tr>\n",
       "    <tr>\n",
       "      <th>177</th>\n",
       "      <td>香港</td>\n",
       "      <td>荃灣綫</td>\n",
       "      <td>16</td>\n",
       "    </tr>\n",
       "    <tr>\n",
       "      <th>178</th>\n",
       "      <td>香港</td>\n",
       "      <td>西鐵綫</td>\n",
       "      <td>12</td>\n",
       "    </tr>\n",
       "    <tr>\n",
       "      <th>179</th>\n",
       "      <td>香港</td>\n",
       "      <td>觀塘綫</td>\n",
       "      <td>17</td>\n",
       "    </tr>\n",
       "    <tr>\n",
       "      <th>180</th>\n",
       "      <td>香港</td>\n",
       "      <td>迪士尼綫</td>\n",
       "      <td>2</td>\n",
       "    </tr>\n",
       "    <tr>\n",
       "      <th>181</th>\n",
       "      <td>香港</td>\n",
       "      <td>馬鞍山綫</td>\n",
       "      <td>9</td>\n",
       "    </tr>\n",
       "  </tbody>\n",
       "</table>\n",
       "<p>182 rows × 3 columns</p>\n",
       "</div>"
      ],
      "text/plain": [
       "     城市    线路  站名\n",
       "0    上海  10号线  31\n",
       "1    上海  11号线  38\n",
       "2    上海  12号线  32\n",
       "3    上海  13号线  31\n",
       "4    上海  16号线  13\n",
       "..   ..   ...  ..\n",
       "177  香港   荃灣綫  16\n",
       "178  香港   西鐵綫  12\n",
       "179  香港   觀塘綫  17\n",
       "180  香港  迪士尼綫   2\n",
       "181  香港  馬鞍山綫   9\n",
       "\n",
       "[182 rows x 3 columns]"
      ]
     },
     "execution_count": 14,
     "metadata": {},
     "output_type": "execute_result"
    }
   ],
   "source": [
    "data_lines = data.groupby(['城市','线路']).count().reset_index()\n",
    "data_lines"
   ]
  },
  {
   "cell_type": "code",
   "execution_count": 15,
   "metadata": {},
   "outputs": [
    {
     "data": {
      "text/html": [
       "<div>\n",
       "<style scoped>\n",
       "    .dataframe tbody tr th:only-of-type {\n",
       "        vertical-align: middle;\n",
       "    }\n",
       "\n",
       "    .dataframe tbody tr th {\n",
       "        vertical-align: top;\n",
       "    }\n",
       "\n",
       "    .dataframe thead th {\n",
       "        text-align: right;\n",
       "    }\n",
       "</style>\n",
       "<table border=\"1\" class=\"dataframe\">\n",
       "  <thead>\n",
       "    <tr style=\"text-align: right;\">\n",
       "      <th></th>\n",
       "      <th>城市</th>\n",
       "      <th>站名</th>\n",
       "      <th>数量</th>\n",
       "    </tr>\n",
       "  </thead>\n",
       "  <tbody>\n",
       "    <tr>\n",
       "      <th>0</th>\n",
       "      <td>上海</td>\n",
       "      <td>七宝</td>\n",
       "      <td>1</td>\n",
       "    </tr>\n",
       "    <tr>\n",
       "      <th>1</th>\n",
       "      <td>上海</td>\n",
       "      <td>七莘路</td>\n",
       "      <td>1</td>\n",
       "    </tr>\n",
       "    <tr>\n",
       "      <th>2</th>\n",
       "      <td>上海</td>\n",
       "      <td>三林</td>\n",
       "      <td>1</td>\n",
       "    </tr>\n",
       "    <tr>\n",
       "      <th>3</th>\n",
       "      <td>上海</td>\n",
       "      <td>三林东</td>\n",
       "      <td>1</td>\n",
       "    </tr>\n",
       "    <tr>\n",
       "      <th>4</th>\n",
       "      <td>上海</td>\n",
       "      <td>三门路</td>\n",
       "      <td>1</td>\n",
       "    </tr>\n",
       "    <tr>\n",
       "      <th>...</th>\n",
       "      <td>...</td>\n",
       "      <td>...</td>\n",
       "      <td>...</td>\n",
       "    </tr>\n",
       "    <tr>\n",
       "      <th>3179</th>\n",
       "      <td>香港</td>\n",
       "      <td>馬鞍山</td>\n",
       "      <td>1</td>\n",
       "    </tr>\n",
       "    <tr>\n",
       "      <th>3180</th>\n",
       "      <td>香港</td>\n",
       "      <td>鰂魚涌</td>\n",
       "      <td>2</td>\n",
       "    </tr>\n",
       "    <tr>\n",
       "      <th>3181</th>\n",
       "      <td>香港</td>\n",
       "      <td>黃埔</td>\n",
       "      <td>1</td>\n",
       "    </tr>\n",
       "    <tr>\n",
       "      <th>3182</th>\n",
       "      <td>香港</td>\n",
       "      <td>黃大仙</td>\n",
       "      <td>1</td>\n",
       "    </tr>\n",
       "    <tr>\n",
       "      <th>3183</th>\n",
       "      <td>香港</td>\n",
       "      <td>黃竹坑</td>\n",
       "      <td>1</td>\n",
       "    </tr>\n",
       "  </tbody>\n",
       "</table>\n",
       "<p>3184 rows × 3 columns</p>\n",
       "</div>"
      ],
      "text/plain": [
       "      城市   站名  数量\n",
       "0     上海   七宝   1\n",
       "1     上海  七莘路   1\n",
       "2     上海   三林   1\n",
       "3     上海  三林东   1\n",
       "4     上海  三门路   1\n",
       "...   ..  ...  ..\n",
       "3179  香港  馬鞍山   1\n",
       "3180  香港  鰂魚涌   2\n",
       "3181  香港   黃埔   1\n",
       "3182  香港  黃大仙   1\n",
       "3183  香港  黃竹坑   1\n",
       "\n",
       "[3184 rows x 3 columns]"
      ]
     },
     "execution_count": 15,
     "metadata": {},
     "output_type": "execute_result"
    }
   ],
   "source": [
    "df_stations = data.groupby(['城市','站名'],as_index=False).count()\n",
    "df_stations.rename(columns={'线路':'数量'},inplace=True)\n",
    "df_stations"
   ]
  },
  {
   "cell_type": "markdown",
   "metadata": {},
   "source": [
    "我们看到共有32个城市，182条地铁线路，3183个地铁站点。"
   ]
  },
  {
   "cell_type": "code",
   "execution_count": 16,
   "metadata": {},
   "outputs": [
    {
     "data": {
      "text/plain": [
       "城市\n",
       "北京    23\n",
       "上海    18\n",
       "广州    16\n",
       "香港    11\n",
       "重庆    10\n",
       "      ..\n",
       "无锡     2\n",
       "厦门     1\n",
       "贵阳     1\n",
       "佛山     1\n",
       "东莞     1\n",
       "Name: 线路, Length: 32, dtype: int64"
      ]
     },
     "execution_count": 16,
     "metadata": {},
     "output_type": "execute_result"
    }
   ],
   "source": [
    "# 查看各个城市的地铁线路数\n",
    "line_data = data_lines.groupby(['城市'])['线路'].count().sort_values(ascending=False)\n",
    "line_data"
   ]
  },
  {
   "cell_type": "code",
   "execution_count": 17,
   "metadata": {},
   "outputs": [],
   "source": [
    "bins = range(0,30,5)\n",
    "bins = pd.cut(line_data,bins)\n",
    "line_gpdata = bins.groupby(bins.values).count()\n",
    "line_gpdata.index = [str(ind.left) + '~' + str(ind.right)+ '条' for ind in line_gpdata.index]"
   ]
  },
  {
   "cell_type": "code",
   "execution_count": 18,
   "metadata": {},
   "outputs": [
    {
     "data": {
      "text/plain": [
       "'/Users/swagw/Desktop/subway/1.html'"
      ]
     },
     "execution_count": 18,
     "metadata": {},
     "output_type": "execute_result"
    }
   ],
   "source": [
    "geo = Geo()\n",
    "\n",
    "geo.add_schema(maptype=\"china\")\n",
    "geo.add(\"geo\", [list(z) for z in zip(line_data.index.tolist(), line_data.values.tolist())])\n",
    "geo.set_series_opts(label_opts=opts.LabelOpts(is_show=False))\n",
    "geo.set_global_opts(\n",
    "    visualmap_opts=opts.VisualMapOpts(max_=25,is_piecewise=True),\n",
    "    title_opts=opts.TitleOpts(title=\"已开通地铁城市分布情况\"))\n",
    "\n",
    "geo.render('1.html')"
   ]
  },
  {
   "cell_type": "code",
   "execution_count": 19,
   "metadata": {},
   "outputs": [
    {
     "data": {
      "text/plain": [
       "'/Users/swagw/Desktop/subway/2.html'"
      ]
     },
     "execution_count": 19,
     "metadata": {},
     "output_type": "execute_result"
    }
   ],
   "source": [
    "b = Bar()\n",
    "b.add_xaxis(line_data.index.tolist())\n",
    "b.add_yaxis(\"地铁线路\", line_data.values.tolist())\n",
    "b.set_global_opts(title_opts=opts.TitleOpts(title=\"各城市地铁线路情况\"),\n",
    "                  yaxis_opts=opts.AxisOpts(name=\"数量\"),\n",
    "                  xaxis_opts=opts.AxisOpts(name=\"城市\"))\n",
    "b.render('2.html')"
   ]
  },
  {
   "cell_type": "code",
   "execution_count": 20,
   "metadata": {},
   "outputs": [
    {
     "data": {
      "text/plain": [
       "'/Users/swagw/Desktop/subway/3.html'"
      ]
     },
     "execution_count": 20,
     "metadata": {},
     "output_type": "execute_result"
    }
   ],
   "source": [
    "c = Bar()\n",
    "c.add_xaxis(line_gpdata.index.tolist())\n",
    "c.add_yaxis(\"数据\", line_gpdata.values.tolist())\n",
    "c.set_global_opts(title_opts=opts.TitleOpts(title=\"城市地铁线路数量分布情况\"),\n",
    "                  yaxis_opts=opts.AxisOpts(name=\"城市个数\"),\n",
    "                  xaxis_opts=opts.AxisOpts(name=\"地铁线路数量\"))\n",
    "c.render('3.html')"
   ]
  },
  {
   "cell_type": "code",
   "execution_count": 21,
   "metadata": {},
   "outputs": [
    {
     "data": {
      "text/plain": [
       "城市\n",
       "上海     345\n",
       "北京     329\n",
       "广州     225\n",
       "武汉     189\n",
       "深圳     166\n",
       "      ... \n",
       "哈尔滨     25\n",
       "佛山      25\n",
       "厦门      24\n",
       "贵阳      24\n",
       "东莞      15\n",
       "Name: 数量, Length: 32, dtype: int64"
      ]
     },
     "execution_count": 21,
     "metadata": {},
     "output_type": "execute_result"
    }
   ],
   "source": [
    "# 统计每个城市的地铁站总数\n",
    "stations_info = df_stations.groupby('城市')['数量'].count().sort_values(ascending=False)\n",
    "stations_info"
   ]
  },
  {
   "cell_type": "code",
   "execution_count": 22,
   "metadata": {},
   "outputs": [
    {
     "data": {
      "text/plain": [
       "'/Users/swagw/Desktop/subway/4.html'"
      ]
     },
     "execution_count": 22,
     "metadata": {},
     "output_type": "execute_result"
    }
   ],
   "source": [
    "d = Bar()\n",
    "d.add_xaxis(stations_info.index.tolist())\n",
    "d.add_yaxis(\"数据\", stations_info.values.tolist())\n",
    "d.set_global_opts(title_opts=opts.TitleOpts(title=\"各城市地铁站数量\"),\n",
    "                  yaxis_opts=opts.AxisOpts(name=\"地铁站数量\"),\n",
    "                  xaxis_opts=opts.AxisOpts(name=\"城市\"))\n",
    "d.render('4.html')"
   ]
  },
  {
   "cell_type": "code",
   "execution_count": 23,
   "metadata": {},
   "outputs": [
    {
     "data": {
      "text/html": [
       "<div>\n",
       "<style scoped>\n",
       "    .dataframe tbody tr th:only-of-type {\n",
       "        vertical-align: middle;\n",
       "    }\n",
       "\n",
       "    .dataframe tbody tr th {\n",
       "        vertical-align: top;\n",
       "    }\n",
       "\n",
       "    .dataframe thead th {\n",
       "        text-align: right;\n",
       "    }\n",
       "</style>\n",
       "<table border=\"1\" class=\"dataframe\">\n",
       "  <thead>\n",
       "    <tr style=\"text-align: right;\">\n",
       "      <th></th>\n",
       "      <th>城市</th>\n",
       "      <th>线路</th>\n",
       "      <th>站名</th>\n",
       "    </tr>\n",
       "  </thead>\n",
       "  <tbody>\n",
       "    <tr>\n",
       "      <th>20</th>\n",
       "      <td>北京</td>\n",
       "      <td>10号线</td>\n",
       "      <td>45</td>\n",
       "    </tr>\n",
       "    <tr>\n",
       "      <th>151</th>\n",
       "      <td>重庆</td>\n",
       "      <td>3号线</td>\n",
       "      <td>39</td>\n",
       "    </tr>\n",
       "    <tr>\n",
       "      <th>1</th>\n",
       "      <td>上海</td>\n",
       "      <td>11号线</td>\n",
       "      <td>38</td>\n",
       "    </tr>\n",
       "    <tr>\n",
       "      <th>74</th>\n",
       "      <td>天津</td>\n",
       "      <td>6号线</td>\n",
       "      <td>38</td>\n",
       "    </tr>\n",
       "    <tr>\n",
       "      <th>114</th>\n",
       "      <td>武汉</td>\n",
       "      <td>2号线</td>\n",
       "      <td>38</td>\n",
       "    </tr>\n",
       "    <tr>\n",
       "      <th>...</th>\n",
       "      <td>...</td>\n",
       "      <td>...</td>\n",
       "      <td>...</td>\n",
       "    </tr>\n",
       "    <tr>\n",
       "      <th>106</th>\n",
       "      <td>昆明</td>\n",
       "      <td>6号线</td>\n",
       "      <td>4</td>\n",
       "    </tr>\n",
       "    <tr>\n",
       "      <th>40</th>\n",
       "      <td>北京</td>\n",
       "      <td>机场线</td>\n",
       "      <td>4</td>\n",
       "    </tr>\n",
       "    <tr>\n",
       "      <th>166</th>\n",
       "      <td>长沙</td>\n",
       "      <td>磁浮快线</td>\n",
       "      <td>3</td>\n",
       "    </tr>\n",
       "    <tr>\n",
       "      <th>17</th>\n",
       "      <td>上海</td>\n",
       "      <td>磁悬浮</td>\n",
       "      <td>2</td>\n",
       "    </tr>\n",
       "    <tr>\n",
       "      <th>180</th>\n",
       "      <td>香港</td>\n",
       "      <td>迪士尼綫</td>\n",
       "      <td>2</td>\n",
       "    </tr>\n",
       "  </tbody>\n",
       "</table>\n",
       "<p>182 rows × 3 columns</p>\n",
       "</div>"
      ],
      "text/plain": [
       "     城市    线路  站名\n",
       "20   北京  10号线  45\n",
       "151  重庆   3号线  39\n",
       "1    上海  11号线  38\n",
       "74   天津   6号线  38\n",
       "114  武汉   2号线  38\n",
       "..   ..   ...  ..\n",
       "106  昆明   6号线   4\n",
       "40   北京   机场线   4\n",
       "166  长沙  磁浮快线   3\n",
       "17   上海   磁悬浮   2\n",
       "180  香港  迪士尼綫   2\n",
       "\n",
       "[182 rows x 3 columns]"
      ]
     },
     "execution_count": 23,
     "metadata": {},
     "output_type": "execute_result"
    }
   ],
   "source": [
    "# 哪个城市哪条线路地铁站数最多\n",
    "data_lines.sort_values(by='站名',ascending=False)"
   ]
  },
  {
   "cell_type": "code",
   "execution_count": 26,
   "metadata": {},
   "outputs": [
    {
     "name": "stderr",
     "output_type": "stream",
     "text": [
      "Building prefix dict from the default dictionary ...\n",
      "Loading model from cache /var/folders/3b/7ygpd2wj01g67xqzgplmf52m0000gn/T/jieba.cache\n",
      "Loading model cost 1.020 seconds.\n",
      "Prefix dict has been built succesfully.\n"
     ]
    }
   ],
   "source": [
    "text = ''\n",
    "station_info = df_stations['站名'].values.tolist()\n",
    "for stats in station_info:\n",
    "    text += ' '.join(jieba.cut(stats,cut_all=True))\n",
    "    text += ' '"
   ]
  },
  {
   "cell_type": "code",
   "execution_count": 62,
   "metadata": {},
   "outputs": [],
   "source": [
    "tags = jieba.analyse.extract_tags(text, topK=50, withWeight=True)"
   ]
  },
  {
   "cell_type": "code",
   "execution_count": 63,
   "metadata": {},
   "outputs": [
    {
     "name": "stdout",
     "output_type": "stream",
     "text": [
      "广场\t141\n",
      "公园\t133\n",
      "大道\t96\n",
      "大学\t73\n",
      "南路\t68\n",
      "中心\t66\n",
      "火车\t59\n",
      "车站\t58\n",
      "火车站\t51\n",
      "北路\t48\n",
      "大街\t46\n",
      "西路\t45\n",
      "山路\t43\n",
      "东路\t42\n",
      "机场\t37\n",
      "体育\t36\n",
      "北站\t35\n",
      "新村\t33\n",
      "中路\t33\n",
      "南站\t32\n",
      "大学城\t31\n",
      "东大\t30\n",
      "航站\t29\n",
      "客运\t27\n",
      "光谷\t26\n",
      "会展\t26\n",
      "新城\t25\n",
      "航站楼\t25\n",
      "会展中心\t25\n",
      "医院\t25\n",
      "西站\t24\n",
      "人民\t23\n",
      "博园\t22\n",
      "海路\t22\n",
      "客运站\t22\n",
      "大桥\t20\n",
      "体育中心\t20\n",
      "中山\t19\n",
      "学院\t18\n",
      "工大\t18\n",
      "师大\t18\n",
      "东站\t18\n",
      "立交\t17\n",
      "博物\t16\n",
      "阳路\t16\n",
      "上海\t16\n",
      "动物园\t16\n",
      "五里\t15\n",
      "保税\t15\n",
      "奥体\t14\n"
     ]
    }
   ],
   "source": [
    "label = []\n",
    "attr = []\n",
    "for item in tags:\n",
    "    label.append(item[0])\n",
    "    attr.append(int(item[1]*1000))"
   ]
  },
  {
   "cell_type": "code",
   "execution_count": 90,
   "metadata": {},
   "outputs": [
    {
     "data": {
      "text/plain": [
       "'/Users/swagw/Desktop/subway/词云图.html'"
      ]
     },
     "execution_count": 90,
     "metadata": {},
     "output_type": "execute_result"
    }
   ],
   "source": [
    "w = WordCloud()\n",
    "w.add(\"\", zip(label, attr), word_size_range=[20, 100], shape='star')\n",
    "w.set_global_opts(title_opts=opts.TitleOpts(title=\"地铁站名词云图\"))\n",
    "w.render('词云图.html')"
   ]
  },
  {
   "cell_type": "code",
   "execution_count": null,
   "metadata": {},
   "outputs": [],
   "source": []
  },
  {
   "cell_type": "code",
   "execution_count": 56,
   "metadata": {},
   "outputs": [],
   "source": [
    "c = Counter(text)"
   ]
  },
  {
   "cell_type": "code",
   "execution_count": 88,
   "metadata": {},
   "outputs": [
    {
     "data": {
      "text/plain": [
       "路    705\n",
       "大    391\n",
       "南    231\n",
       "东    211\n",
       "园    205\n",
       "中    201\n",
       "山    191\n",
       "北    181\n",
       "西    181\n",
       "站    160\n",
       "dtype: int64"
      ]
     },
     "execution_count": 88,
     "metadata": {},
     "output_type": "execute_result"
    }
   ],
   "source": [
    "ser = Series(c)\n",
    "cha_data = ser.sort_values(ascending=False)[1:11]\n",
    "cha_data"
   ]
  },
  {
   "cell_type": "code",
   "execution_count": 92,
   "metadata": {},
   "outputs": [
    {
     "data": {
      "text/plain": [
       "'/Users/swagw/Desktop/subway/5.html'"
      ]
     },
     "execution_count": 92,
     "metadata": {},
     "output_type": "execute_result"
    }
   ],
   "source": [
    "e = Bar()\n",
    "e.add_xaxis(cha_data.index.tolist())\n",
    "e.add_yaxis(\"名字\", cha_data.values.tolist())\n",
    "e.set_global_opts(title_opts=opts.TitleOpts(title=\"地铁站高频名字图\"),\n",
    "                  yaxis_opts=opts.AxisOpts(name=\"数量\"),\n",
    "                  xaxis_opts=opts.AxisOpts(name=\"名字\"))\n",
    "e.render('5.html')"
   ]
  },
  {
   "cell_type": "code",
   "execution_count": null,
   "metadata": {},
   "outputs": [],
   "source": []
  },
  {
   "cell_type": "markdown",
   "metadata": {},
   "source": [
    "我们看到，在上海共计345个地铁站中，有264个名字包含'路'字"
   ]
  },
  {
   "cell_type": "code",
   "execution_count": 95,
   "metadata": {},
   "outputs": [
    {
     "data": {
      "text/plain": [
       "城市\n",
       "上海    345\n",
       "东莞     15\n",
       "佛山     25\n",
       "北京    329\n",
       "南京    159\n",
       "     ... \n",
       "重庆    162\n",
       "长春     84\n",
       "长沙     65\n",
       "青岛     79\n",
       "香港     92\n",
       "Name: 数量, Length: 32, dtype: int64"
      ]
     },
     "execution_count": 95,
     "metadata": {},
     "output_type": "execute_result"
    }
   ],
   "source": [
    "df_stations.groupby(['城市'])['数量'].count()"
   ]
  },
  {
   "cell_type": "code",
   "execution_count": 29,
   "metadata": {},
   "outputs": [
    {
     "data": {
      "text/html": [
       "<div>\n",
       "<style scoped>\n",
       "    .dataframe tbody tr th:only-of-type {\n",
       "        vertical-align: middle;\n",
       "    }\n",
       "\n",
       "    .dataframe tbody tr th {\n",
       "        vertical-align: top;\n",
       "    }\n",
       "\n",
       "    .dataframe thead th {\n",
       "        text-align: right;\n",
       "    }\n",
       "</style>\n",
       "<table border=\"1\" class=\"dataframe\">\n",
       "  <thead>\n",
       "    <tr style=\"text-align: right;\">\n",
       "      <th></th>\n",
       "      <th>城市</th>\n",
       "      <th>线路</th>\n",
       "      <th>站名</th>\n",
       "    </tr>\n",
       "  </thead>\n",
       "  <tbody>\n",
       "    <tr>\n",
       "      <th>392</th>\n",
       "      <td>上海</td>\n",
       "      <td>1号线</td>\n",
       "      <td>外环路</td>\n",
       "    </tr>\n",
       "    <tr>\n",
       "      <th>393</th>\n",
       "      <td>上海</td>\n",
       "      <td>1号线</td>\n",
       "      <td>莲花路</td>\n",
       "    </tr>\n",
       "    <tr>\n",
       "      <th>396</th>\n",
       "      <td>上海</td>\n",
       "      <td>1号线</td>\n",
       "      <td>漕宝路</td>\n",
       "    </tr>\n",
       "    <tr>\n",
       "      <th>399</th>\n",
       "      <td>上海</td>\n",
       "      <td>1号线</td>\n",
       "      <td>衡山路</td>\n",
       "    </tr>\n",
       "    <tr>\n",
       "      <th>400</th>\n",
       "      <td>上海</td>\n",
       "      <td>1号线</td>\n",
       "      <td>常熟路</td>\n",
       "    </tr>\n",
       "    <tr>\n",
       "      <th>...</th>\n",
       "      <td>...</td>\n",
       "      <td>...</td>\n",
       "      <td>...</td>\n",
       "    </tr>\n",
       "    <tr>\n",
       "      <th>811</th>\n",
       "      <td>上海</td>\n",
       "      <td>浦江线</td>\n",
       "      <td>三鲁公路</td>\n",
       "    </tr>\n",
       "    <tr>\n",
       "      <th>812</th>\n",
       "      <td>上海</td>\n",
       "      <td>浦江线</td>\n",
       "      <td>闵瑞路</td>\n",
       "    </tr>\n",
       "    <tr>\n",
       "      <th>813</th>\n",
       "      <td>上海</td>\n",
       "      <td>浦江线</td>\n",
       "      <td>浦航路</td>\n",
       "    </tr>\n",
       "    <tr>\n",
       "      <th>814</th>\n",
       "      <td>上海</td>\n",
       "      <td>浦江线</td>\n",
       "      <td>东城一路</td>\n",
       "    </tr>\n",
       "    <tr>\n",
       "      <th>815</th>\n",
       "      <td>上海</td>\n",
       "      <td>浦江线</td>\n",
       "      <td>汇臻路</td>\n",
       "    </tr>\n",
       "  </tbody>\n",
       "</table>\n",
       "<p>264 rows × 3 columns</p>\n",
       "</div>"
      ],
      "text/plain": [
       "     城市   线路    站名\n",
       "392  上海  1号线   外环路\n",
       "393  上海  1号线   莲花路\n",
       "396  上海  1号线   漕宝路\n",
       "399  上海  1号线   衡山路\n",
       "400  上海  1号线   常熟路\n",
       "..   ..  ...   ...\n",
       "811  上海  浦江线  三鲁公路\n",
       "812  上海  浦江线   闵瑞路\n",
       "813  上海  浦江线   浦航路\n",
       "814  上海  浦江线  东城一路\n",
       "815  上海  浦江线   汇臻路\n",
       "\n",
       "[264 rows x 3 columns]"
      ]
     },
     "execution_count": 29,
     "metadata": {},
     "output_type": "execute_result"
    }
   ],
   "source": [
    "# 选取上海的地铁站\n",
    "df_sh = data[data['城市']=='上海']\n",
    "df_sh[df_sh['站名'].str.contains('路')]"
   ]
  },
  {
   "cell_type": "code",
   "execution_count": null,
   "metadata": {},
   "outputs": [],
   "source": []
  },
  {
   "cell_type": "code",
   "execution_count": 32,
   "metadata": {},
   "outputs": [
    {
     "data": {
      "text/plain": [
       "城市\n",
       "北京    44\n",
       "南京    13\n",
       "西安    12\n",
       "上海     4\n",
       "福州     4\n",
       "      ..\n",
       "杭州     1\n",
       "沈阳     1\n",
       "深圳     1\n",
       "郑州     1\n",
       "无锡     1\n",
       "Name: 站名, Length: 21, dtype: int64"
      ]
     },
     "execution_count": 32,
     "metadata": {},
     "output_type": "execute_result"
    }
   ],
   "source": [
    "# 选取地铁站名字包含门的数据\n",
    "df_men = data[data['站名'].str.contains('门')]\n",
    "df_men.groupby('城市')['站名'].count().sort_values(ascending=False)"
   ]
  },
  {
   "cell_type": "code",
   "execution_count": 33,
   "metadata": {},
   "outputs": [
    {
     "data": {
      "text/html": [
       "<div>\n",
       "<style scoped>\n",
       "    .dataframe tbody tr th:only-of-type {\n",
       "        vertical-align: middle;\n",
       "    }\n",
       "\n",
       "    .dataframe tbody tr th {\n",
       "        vertical-align: top;\n",
       "    }\n",
       "\n",
       "    .dataframe thead th {\n",
       "        text-align: right;\n",
       "    }\n",
       "</style>\n",
       "<table border=\"1\" class=\"dataframe\">\n",
       "  <thead>\n",
       "    <tr style=\"text-align: right;\">\n",
       "      <th></th>\n",
       "      <th>城市</th>\n",
       "      <th>线路</th>\n",
       "      <th>站名</th>\n",
       "    </tr>\n",
       "  </thead>\n",
       "  <tbody>\n",
       "    <tr>\n",
       "      <th>18</th>\n",
       "      <td>北京</td>\n",
       "      <td>1号线</td>\n",
       "      <td>复兴门</td>\n",
       "    </tr>\n",
       "    <tr>\n",
       "      <th>20</th>\n",
       "      <td>北京</td>\n",
       "      <td>1号线</td>\n",
       "      <td>天安门西</td>\n",
       "    </tr>\n",
       "    <tr>\n",
       "      <th>21</th>\n",
       "      <td>北京</td>\n",
       "      <td>1号线</td>\n",
       "      <td>天安门东</td>\n",
       "    </tr>\n",
       "    <tr>\n",
       "      <th>24</th>\n",
       "      <td>北京</td>\n",
       "      <td>1号线</td>\n",
       "      <td>建国门</td>\n",
       "    </tr>\n",
       "    <tr>\n",
       "      <th>32</th>\n",
       "      <td>北京</td>\n",
       "      <td>2号线</td>\n",
       "      <td>安定门</td>\n",
       "    </tr>\n",
       "    <tr>\n",
       "      <th>...</th>\n",
       "      <td>...</td>\n",
       "      <td>...</td>\n",
       "      <td>...</td>\n",
       "    </tr>\n",
       "    <tr>\n",
       "      <th>282</th>\n",
       "      <td>北京</td>\n",
       "      <td>14号线东段</td>\n",
       "      <td>永定门外</td>\n",
       "    </tr>\n",
       "    <tr>\n",
       "      <th>293</th>\n",
       "      <td>北京</td>\n",
       "      <td>15号线</td>\n",
       "      <td>石门</td>\n",
       "    </tr>\n",
       "    <tr>\n",
       "      <th>361</th>\n",
       "      <td>北京</td>\n",
       "      <td>机场线</td>\n",
       "      <td>东直门</td>\n",
       "    </tr>\n",
       "    <tr>\n",
       "      <th>363</th>\n",
       "      <td>北京</td>\n",
       "      <td>西郊线</td>\n",
       "      <td>颐和园西门</td>\n",
       "    </tr>\n",
       "    <tr>\n",
       "      <th>379</th>\n",
       "      <td>北京</td>\n",
       "      <td>亦庄线</td>\n",
       "      <td>小红门</td>\n",
       "    </tr>\n",
       "  </tbody>\n",
       "</table>\n",
       "<p>44 rows × 3 columns</p>\n",
       "</div>"
      ],
      "text/plain": [
       "     城市      线路     站名\n",
       "18   北京     1号线    复兴门\n",
       "20   北京     1号线   天安门西\n",
       "21   北京     1号线   天安门东\n",
       "24   北京     1号线    建国门\n",
       "32   北京     2号线    安定门\n",
       "..   ..     ...    ...\n",
       "282  北京  14号线东段   永定门外\n",
       "293  北京    15号线     石门\n",
       "361  北京     机场线    东直门\n",
       "363  北京     西郊线  颐和园西门\n",
       "379  北京     亦庄线    小红门\n",
       "\n",
       "[44 rows x 3 columns]"
      ]
     },
     "execution_count": 33,
     "metadata": {},
     "output_type": "execute_result"
    }
   ],
   "source": [
    "df_bj = data[data['城市'] == '北京']\n",
    "df_bj[df_bj['站名'].str.contains('门')]"
   ]
  },
  {
   "cell_type": "code",
   "execution_count": 34,
   "metadata": {},
   "outputs": [
    {
     "data": {
      "text/html": [
       "<div>\n",
       "<style scoped>\n",
       "    .dataframe tbody tr th:only-of-type {\n",
       "        vertical-align: middle;\n",
       "    }\n",
       "\n",
       "    .dataframe tbody tr th {\n",
       "        vertical-align: top;\n",
       "    }\n",
       "\n",
       "    .dataframe thead th {\n",
       "        text-align: right;\n",
       "    }\n",
       "</style>\n",
       "<table border=\"1\" class=\"dataframe\">\n",
       "  <thead>\n",
       "    <tr style=\"text-align: right;\">\n",
       "      <th></th>\n",
       "      <th>城市</th>\n",
       "      <th>线路</th>\n",
       "      <th>站名</th>\n",
       "    </tr>\n",
       "  </thead>\n",
       "  <tbody>\n",
       "    <tr>\n",
       "      <th>1668</th>\n",
       "      <td>南京</td>\n",
       "      <td>1号线</td>\n",
       "      <td>安德门</td>\n",
       "    </tr>\n",
       "    <tr>\n",
       "      <th>1669</th>\n",
       "      <td>南京</td>\n",
       "      <td>1号线</td>\n",
       "      <td>中华门</td>\n",
       "    </tr>\n",
       "    <tr>\n",
       "      <th>1675</th>\n",
       "      <td>南京</td>\n",
       "      <td>1号线</td>\n",
       "      <td>玄武门</td>\n",
       "    </tr>\n",
       "    <tr>\n",
       "      <th>1685</th>\n",
       "      <td>南京</td>\n",
       "      <td>2号线</td>\n",
       "      <td>集庆门大街</td>\n",
       "    </tr>\n",
       "    <tr>\n",
       "      <th>1688</th>\n",
       "      <td>南京</td>\n",
       "      <td>2号线</td>\n",
       "      <td>汉中门</td>\n",
       "    </tr>\n",
       "    <tr>\n",
       "      <th>...</th>\n",
       "      <td>...</td>\n",
       "      <td>...</td>\n",
       "      <td>...</td>\n",
       "    </tr>\n",
       "    <tr>\n",
       "      <th>1736</th>\n",
       "      <td>南京</td>\n",
       "      <td>3号线</td>\n",
       "      <td>雨花门</td>\n",
       "    </tr>\n",
       "    <tr>\n",
       "      <th>1737</th>\n",
       "      <td>南京</td>\n",
       "      <td>3号线</td>\n",
       "      <td>武定门</td>\n",
       "    </tr>\n",
       "    <tr>\n",
       "      <th>1747</th>\n",
       "      <td>南京</td>\n",
       "      <td>3号线</td>\n",
       "      <td>上元门</td>\n",
       "    </tr>\n",
       "    <tr>\n",
       "      <th>1755</th>\n",
       "      <td>南京</td>\n",
       "      <td>4号线</td>\n",
       "      <td>草场门·南艺·二师</td>\n",
       "    </tr>\n",
       "    <tr>\n",
       "      <th>1804</th>\n",
       "      <td>南京</td>\n",
       "      <td>10号线</td>\n",
       "      <td>安德门</td>\n",
       "    </tr>\n",
       "  </tbody>\n",
       "</table>\n",
       "<p>13 rows × 3 columns</p>\n",
       "</div>"
      ],
      "text/plain": [
       "      城市    线路         站名\n",
       "1668  南京   1号线        安德门\n",
       "1669  南京   1号线        中华门\n",
       "1675  南京   1号线        玄武门\n",
       "1685  南京   2号线      集庆门大街\n",
       "1688  南京   2号线        汉中门\n",
       "...   ..   ...        ...\n",
       "1736  南京   3号线        雨花门\n",
       "1737  南京   3号线        武定门\n",
       "1747  南京   3号线        上元门\n",
       "1755  南京   4号线  草场门·南艺·二师\n",
       "1804  南京  10号线        安德门\n",
       "\n",
       "[13 rows x 3 columns]"
      ]
     },
     "execution_count": 34,
     "metadata": {},
     "output_type": "execute_result"
    }
   ],
   "source": [
    "df_nj = data[data['城市'] == '南京']\n",
    "df_nj[df_nj['站名'].str.contains('门')]"
   ]
  }
 ],
 "metadata": {
  "kernelspec": {
   "display_name": "Python 3",
   "language": "python",
   "name": "python3"
  },
  "language_info": {
   "codemirror_mode": {
    "name": "ipython",
    "version": 3
   },
   "file_extension": ".py",
   "mimetype": "text/x-python",
   "name": "python",
   "nbconvert_exporter": "python",
   "pygments_lexer": "ipython3",
   "version": "3.6.8"
  }
 },
 "nbformat": 4,
 "nbformat_minor": 2
}
