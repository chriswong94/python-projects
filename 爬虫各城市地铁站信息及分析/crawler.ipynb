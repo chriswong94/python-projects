{
 "cells": [
  {
   "cell_type": "markdown",
   "metadata": {},
   "source": [
    "### 数据爬取"
   ]
  },
  {
   "cell_type": "markdown",
   "metadata": {},
   "source": [
    "来源：高德地图 http://map.amap.com/subway/index.html?&1100"
   ]
  },
  {
   "cell_type": "code",
   "execution_count": 1,
   "metadata": {},
   "outputs": [],
   "source": [
    "import requests\n",
    "import csv\n",
    "import json\n",
    "import time\n",
    "from pyquery import PyQuery as pq"
   ]
  },
  {
   "cell_type": "code",
   "execution_count": 2,
   "metadata": {},
   "outputs": [],
   "source": [
    "headers = {\n",
    "    'User-Agent': 'Mozilla/5.0 (Macintosh; Intel Mac OS X 10_14_4) AppleWebKit/537.36 (KHTML, like Gecko) Chrome/75.0.3770.142 Safari/537.36'\n",
    "}"
   ]
  },
  {
   "cell_type": "code",
   "execution_count": 3,
   "metadata": {},
   "outputs": [],
   "source": [
    "#建立用于存放爬取数据的CSV文件，创建好标题\n",
    "\n",
    "def create_output_file():\n",
    "    with open('./data/raw_data.csv', 'w') as f:\n",
    "        csv_write = csv.writer(f)\n",
    "        header = ['城市','线路','站名']\n",
    "        csv_write.writerow(header)\n",
    "        \n",
    "create_output_file()"
   ]
  },
  {
   "cell_type": "code",
   "execution_count": 4,
   "metadata": {},
   "outputs": [],
   "source": [
    "# 向此函数中传入城市相关信息，爬取地铁线路和站点数据， 并写入CSV文件\n",
    "\n",
    "def get_subway_info(id_info,citycode,cityname):\n",
    "    url ='http://map.amap.com/service/subway?_1564387961003&srhdata={}_drw_{}.json'.format(id_info,citycode) \n",
    "    response = requests.get(url,headers)\n",
    "    \n",
    "    if response.status_code == 200:\n",
    "        data = response.content.decode('utf-8')\n",
    "        parsed = json.loads(data)\n",
    "\n",
    "        for i in parsed['l']:\n",
    "            title = i['kn']\n",
    "            for item in i['st']:\n",
    "                stops = item['n']\n",
    "                with open('./data/raw_data.csv', 'a+') as f:\n",
    "                    csv_write = csv.writer(f)\n",
    "                    data_row = [cityname,title,stops]\n",
    "                    csv_write.writerow(data_row)"
   ]
  },
  {
   "cell_type": "code",
   "execution_count": 5,
   "metadata": {},
   "outputs": [],
   "source": [
    "# 本函数用于从高德地图网页中爬取有地铁的城市信息， 并将返回的信息传入 get_subway_info(id_info,citycode,cityname)中\n",
    "\n",
    "def get_city_info():\n",
    "    \n",
    "    url = 'http://map.amap.com/subway/index.html?&1100'\n",
    "    response = requests.get(url,headers)\n",
    "    \n",
    "    if response.status_code == 200:\n",
    "        data = pq(response.content.decode('utf-8'))\n",
    "        \n",
    "        for i in data('.city-list a.city').items():\n",
    "            id_info  = i.attr('id')\n",
    "            citycode = i.attr('cityname')\n",
    "            cityname = i.text()\n",
    "            get_subway_info(id_info,citycode,cityname)\n",
    "            time.sleep(3)\n",
    "            \n",
    "            \n",
    "        for i in data('.more-city-list a.other-city').items():\n",
    "            id_info  = i.attr('id')\n",
    "            citycode = i.attr('cityname')\n",
    "            cityname = i.text()\n",
    "            get_subway_info(id_info,citycode,cityname)\n",
    "            time.sleep(3)\n",
    "    else:\n",
    "        print('Loading errors while crawling city info from target website')"
   ]
  },
  {
   "cell_type": "code",
   "execution_count": 6,
   "metadata": {},
   "outputs": [],
   "source": [
    "if __name__ == '__main__':\n",
    "    get_city_info()"
   ]
  }
 ],
 "metadata": {
  "kernelspec": {
   "display_name": "Python 3",
   "language": "python",
   "name": "python3"
  },
  "language_info": {
   "codemirror_mode": {
    "name": "ipython",
    "version": 3
   },
   "file_extension": ".py",
   "mimetype": "text/x-python",
   "name": "python",
   "nbconvert_exporter": "python",
   "pygments_lexer": "ipython3",
   "version": "3.6.8"
  }
 },
 "nbformat": 4,
 "nbformat_minor": 2
}
