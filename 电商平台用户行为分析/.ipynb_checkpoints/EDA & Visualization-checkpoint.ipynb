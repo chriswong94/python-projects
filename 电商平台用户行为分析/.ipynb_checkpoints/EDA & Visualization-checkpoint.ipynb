{
 "cells": [
  {
   "cell_type": "code",
   "execution_count": 1,
   "metadata": {},
   "outputs": [],
   "source": [
    "import csv\n",
    "import pandas as pd\n",
    "import numpy as np\n",
    "import datetime as datetime\n",
    "import matplotlib.pyplot as plt\n",
    "from matplotlib import font_manager\n",
    "from collections import Counter\n",
    "from pyecharts.charts import Line, Bar, Pie, TreeMap\n",
    "from pyecharts import options as opts "
   ]
  },
  {
   "cell_type": "code",
   "execution_count": 2,
   "metadata": {},
   "outputs": [],
   "source": [
    "# 解决matplotlib 无法显示中文的问题\n",
    "my_font = font_manager.FontProperties(fname='/System/Library/Fonts/PingFang.ttc',size=18)"
   ]
  },
  {
   "cell_type": "code",
   "execution_count": 3,
   "metadata": {},
   "outputs": [],
   "source": [
    "data = pd.read_csv('data/data.csv',low_memory=False)"
   ]
  },
  {
   "cell_type": "markdown",
   "metadata": {},
   "source": [
    "### 数据分析"
   ]
  },
  {
   "cell_type": "markdown",
   "metadata": {},
   "source": [
    "在这次分析过程中,我们将使用RFM模型   \n",
    "通过一个客户的近期购买行为,购买的总体频率以及花了多少钱三项指标来描述该客户的价值状况  \n",
    "R：最近一次消费时间(最近一次消费到参考时间的间隔)   \n",
    "F：消费的频率(消费了多少次)  \n",
    "M：消费的金额(总消费金额)    "
   ]
  },
  {
   "cell_type": "code",
   "execution_count": 4,
   "metadata": {},
   "outputs": [
    {
     "data": {
      "text/html": [
       "<div>\n",
       "<style scoped>\n",
       "    .dataframe tbody tr th:only-of-type {\n",
       "        vertical-align: middle;\n",
       "    }\n",
       "\n",
       "    .dataframe tbody tr th {\n",
       "        vertical-align: top;\n",
       "    }\n",
       "\n",
       "    .dataframe thead th {\n",
       "        text-align: right;\n",
       "    }\n",
       "</style>\n",
       "<table border=\"1\" class=\"dataframe\">\n",
       "  <thead>\n",
       "    <tr style=\"text-align: right;\">\n",
       "      <th></th>\n",
       "      <th>InvoiceNo</th>\n",
       "      <th>StockCode</th>\n",
       "      <th>Description</th>\n",
       "      <th>Quantity</th>\n",
       "      <th>InvoiceDate</th>\n",
       "      <th>UnitPrice</th>\n",
       "      <th>CustomerID</th>\n",
       "      <th>Country</th>\n",
       "      <th>Amount</th>\n",
       "    </tr>\n",
       "  </thead>\n",
       "  <tbody>\n",
       "    <tr>\n",
       "      <th>37356</th>\n",
       "      <td>539595</td>\n",
       "      <td>22728</td>\n",
       "      <td>ALARM CLOCK BAKELIKE PINK</td>\n",
       "      <td>1</td>\n",
       "      <td>2010-12-20 13:43:00</td>\n",
       "      <td>7.62</td>\n",
       "      <td>0.0</td>\n",
       "      <td>United Kingdom</td>\n",
       "      <td>7.62</td>\n",
       "    </tr>\n",
       "    <tr>\n",
       "      <th>356084</th>\n",
       "      <td>568894</td>\n",
       "      <td>22158</td>\n",
       "      <td>3 HEARTS HANGING DECORATION RUSTIC</td>\n",
       "      <td>2</td>\n",
       "      <td>2011-09-29 13:04:00</td>\n",
       "      <td>2.95</td>\n",
       "      <td>17528.0</td>\n",
       "      <td>United Kingdom</td>\n",
       "      <td>5.90</td>\n",
       "    </tr>\n",
       "    <tr>\n",
       "      <th>451394</th>\n",
       "      <td>576321</td>\n",
       "      <td>22585</td>\n",
       "      <td>PACK OF 6 BIRDY GIFT TAGS</td>\n",
       "      <td>1</td>\n",
       "      <td>2011-11-14 14:59:00</td>\n",
       "      <td>1.25</td>\n",
       "      <td>14953.0</td>\n",
       "      <td>United Kingdom</td>\n",
       "      <td>1.25</td>\n",
       "    </tr>\n",
       "    <tr>\n",
       "      <th>103779</th>\n",
       "      <td>545416</td>\n",
       "      <td>84945</td>\n",
       "      <td>MULTI COLOUR SILVER T-LIGHT HOLDER</td>\n",
       "      <td>48</td>\n",
       "      <td>2011-03-02 13:35:00</td>\n",
       "      <td>0.85</td>\n",
       "      <td>17770.0</td>\n",
       "      <td>United Kingdom</td>\n",
       "      <td>40.80</td>\n",
       "    </tr>\n",
       "    <tr>\n",
       "      <th>177864</th>\n",
       "      <td>552671</td>\n",
       "      <td>20718</td>\n",
       "      <td>RED RETROSPOT SHOPPER BAG</td>\n",
       "      <td>1</td>\n",
       "      <td>2011-05-10 15:06:00</td>\n",
       "      <td>3.29</td>\n",
       "      <td>0.0</td>\n",
       "      <td>United Kingdom</td>\n",
       "      <td>3.29</td>\n",
       "    </tr>\n",
       "  </tbody>\n",
       "</table>\n",
       "</div>"
      ],
      "text/plain": [
       "       InvoiceNo StockCode                         Description  Quantity  \\\n",
       "37356     539595     22728           ALARM CLOCK BAKELIKE PINK         1   \n",
       "356084    568894     22158  3 HEARTS HANGING DECORATION RUSTIC         2   \n",
       "451394    576321     22585           PACK OF 6 BIRDY GIFT TAGS         1   \n",
       "103779    545416     84945  MULTI COLOUR SILVER T-LIGHT HOLDER        48   \n",
       "177864    552671     20718           RED RETROSPOT SHOPPER BAG         1   \n",
       "\n",
       "                InvoiceDate  UnitPrice  CustomerID         Country  Amount  \n",
       "37356   2010-12-20 13:43:00       7.62         0.0  United Kingdom    7.62  \n",
       "356084  2011-09-29 13:04:00       2.95     17528.0  United Kingdom    5.90  \n",
       "451394  2011-11-14 14:59:00       1.25     14953.0  United Kingdom    1.25  \n",
       "103779  2011-03-02 13:35:00       0.85     17770.0  United Kingdom   40.80  \n",
       "177864  2011-05-10 15:06:00       3.29         0.0  United Kingdom    3.29  "
      ]
     },
     "execution_count": 4,
     "metadata": {},
     "output_type": "execute_result"
    }
   ],
   "source": [
    "data.sample(5)"
   ]
  },
  {
   "cell_type": "code",
   "execution_count": 5,
   "metadata": {},
   "outputs": [
    {
     "data": {
      "text/plain": [
       "4339"
      ]
     },
     "execution_count": 5,
     "metadata": {},
     "output_type": "execute_result"
    }
   ],
   "source": [
    "len(data['CustomerID'].unique())"
   ]
  },
  {
   "cell_type": "code",
   "execution_count": 6,
   "metadata": {},
   "outputs": [
    {
     "data": {
      "text/plain": [
       "19960"
      ]
     },
     "execution_count": 6,
     "metadata": {},
     "output_type": "execute_result"
    }
   ],
   "source": [
    "len(data['InvoiceNo'].unique())"
   ]
  },
  {
   "cell_type": "markdown",
   "metadata": {},
   "source": [
    "统计区间(2010年12月1日-2011年12月9日)内共产生有效订单19960笔,客户数4338个(不包含CustomerID为0的客户)"
   ]
  },
  {
   "cell_type": "markdown",
   "metadata": {},
   "source": [
    "#### 按分析目的,对数据进行分类汇总："
   ]
  },
  {
   "cell_type": "code",
   "execution_count": 7,
   "metadata": {},
   "outputs": [],
   "source": [
    "# 把日期转换为datetime格式 用于计算与指定时间的天数差\n",
    "data['InvoiceDate'] = pd.to_datetime(data['InvoiceDate']).dt.strftime('%Y-%m-%d')\n",
    "data['InvoiceDate'] = pd.to_datetime(data['InvoiceDate'])\n",
    "data_new = pd.to_datetime('2011-12-09')"
   ]
  },
  {
   "cell_type": "code",
   "execution_count": 8,
   "metadata": {},
   "outputs": [],
   "source": [
    "# 根据原有数据计算出 天数差\n",
    "data['date_diff'] = (data_new - data['InvoiceDate']).dt.days"
   ]
  },
  {
   "cell_type": "markdown",
   "metadata": {},
   "source": [
    "#### 根据用户ID分组,统计最近一次消费时间,消费的频率(交易次数),交易金额"
   ]
  },
  {
   "cell_type": "code",
   "execution_count": 9,
   "metadata": {},
   "outputs": [],
   "source": [
    "def unique_count(x):\n",
    "    return len(x.unique())"
   ]
  },
  {
   "cell_type": "code",
   "execution_count": 10,
   "metadata": {},
   "outputs": [],
   "source": [
    "df_result = data.groupby('CustomerID').agg({'date_diff':'min','Amount':'sum','InvoiceNo':unique_count})\n",
    "df_result.sort_values(by=['date_diff'],axis=0,ascending=False,inplace=True)\n",
    "df_result.reset_index(inplace=True)"
   ]
  },
  {
   "cell_type": "code",
   "execution_count": 11,
   "metadata": {},
   "outputs": [],
   "source": [
    "# 对交易金额四舍五入,重新命名数据列名方便理解\n",
    "df_result['Amount'] = df_result['Amount'].round()\n",
    "df_result.rename(columns={'date_diff': '天数差','Amount':'交易金额','InvoiceNo':'交易次数'},inplace=True)"
   ]
  },
  {
   "cell_type": "code",
   "execution_count": 12,
   "metadata": {
    "scrolled": true
   },
   "outputs": [
    {
     "data": {
      "text/html": [
       "<div>\n",
       "<style scoped>\n",
       "    .dataframe tbody tr th:only-of-type {\n",
       "        vertical-align: middle;\n",
       "    }\n",
       "\n",
       "    .dataframe tbody tr th {\n",
       "        vertical-align: top;\n",
       "    }\n",
       "\n",
       "    .dataframe thead th {\n",
       "        text-align: right;\n",
       "    }\n",
       "</style>\n",
       "<table border=\"1\" class=\"dataframe\">\n",
       "  <thead>\n",
       "    <tr style=\"text-align: right;\">\n",
       "      <th></th>\n",
       "      <th>CustomerID</th>\n",
       "      <th>天数差</th>\n",
       "      <th>交易金额</th>\n",
       "      <th>交易次数</th>\n",
       "    </tr>\n",
       "  </thead>\n",
       "  <tbody>\n",
       "    <tr>\n",
       "      <th>0</th>\n",
       "      <td>15165.0</td>\n",
       "      <td>373</td>\n",
       "      <td>488.0</td>\n",
       "      <td>1</td>\n",
       "    </tr>\n",
       "    <tr>\n",
       "      <th>1</th>\n",
       "      <td>17908.0</td>\n",
       "      <td>373</td>\n",
       "      <td>232.0</td>\n",
       "      <td>1</td>\n",
       "    </tr>\n",
       "    <tr>\n",
       "      <th>2</th>\n",
       "      <td>16583.0</td>\n",
       "      <td>373</td>\n",
       "      <td>233.0</td>\n",
       "      <td>1</td>\n",
       "    </tr>\n",
       "    <tr>\n",
       "      <th>3</th>\n",
       "      <td>14142.0</td>\n",
       "      <td>373</td>\n",
       "      <td>312.0</td>\n",
       "      <td>1</td>\n",
       "    </tr>\n",
       "    <tr>\n",
       "      <th>4</th>\n",
       "      <td>15922.0</td>\n",
       "      <td>373</td>\n",
       "      <td>370.0</td>\n",
       "      <td>1</td>\n",
       "    </tr>\n",
       "  </tbody>\n",
       "</table>\n",
       "</div>"
      ],
      "text/plain": [
       "   CustomerID  天数差   交易金额  交易次数\n",
       "0     15165.0  373  488.0     1\n",
       "1     17908.0  373  232.0     1\n",
       "2     16583.0  373  233.0     1\n",
       "3     14142.0  373  312.0     1\n",
       "4     15922.0  373  370.0     1"
      ]
     },
     "execution_count": 12,
     "metadata": {},
     "output_type": "execute_result"
    }
   ],
   "source": [
    "df_result.head(5)"
   ]
  },
  {
   "cell_type": "code",
   "execution_count": 13,
   "metadata": {},
   "outputs": [
    {
     "name": "stdout",
     "output_type": "stream",
     "text": [
      "<class 'pandas.core.frame.DataFrame'>\n",
      "RangeIndex: 4339 entries, 0 to 4338\n",
      "Data columns (total 4 columns):\n",
      "CustomerID    4339 non-null float64\n",
      "天数差           4339 non-null int64\n",
      "交易金额          4339 non-null float64\n",
      "交易次数          4339 non-null int64\n",
      "dtypes: float64(2), int64(2)\n",
      "memory usage: 135.7 KB\n"
     ]
    }
   ],
   "source": [
    "df_result.info()"
   ]
  },
  {
   "cell_type": "markdown",
   "metadata": {},
   "source": [
    "#### 客户购买周期可视化"
   ]
  },
  {
   "cell_type": "code",
   "execution_count": 14,
   "metadata": {},
   "outputs": [
    {
     "data": {
      "text/plain": [
       "Text(0.5, 1.0, '客户购买周期')"
      ]
     },
     "execution_count": 14,
     "metadata": {},
     "output_type": "execute_result"
    },
    {
     "data": {
      "image/png": "[encoded data removed]",
      "text/plain": [
       "<Figure size 864x432 with 1 Axes>"
      ]
     },
     "metadata": {
      "needs_background": "light"
     },
     "output_type": "display_data"
    }
   ],
   "source": [
    "df_result['天数差'].hist(bins=70,figsize=(12,6))\n",
    "plt.ylabel('客户数量',fontsize='12', fontproperties=my_font)\n",
    "plt.xlabel('最近一次消费时间间隔',fontsize='12', fontproperties=my_font)\n",
    "plt.title('客户购买周期',fontsize=16, fontproperties=my_font)"
   ]
  },
  {
   "cell_type": "code",
   "execution_count": 15,
   "metadata": {},
   "outputs": [
    {
     "name": "stdout",
     "output_type": "stream",
     "text": [
      "客户购买周期,最长373天,最短0天,80.23%的客户都会在180天内发生交易行为\n"
     ]
    }
   ],
   "source": [
    "a = df_result[df_result['天数差']<=180].shape[0]\n",
    "b = df_result.shape[0]\n",
    "print('客户购买周期,最长373天,最短0天,{}%的客户都会在180天内发生交易行为'.format(round(a/b*100,2)))"
   ]
  },
  {
   "cell_type": "markdown",
   "metadata": {},
   "source": [
    "#### 交易频率可视化"
   ]
  },
  {
   "cell_type": "code",
   "execution_count": 16,
   "metadata": {},
   "outputs": [],
   "source": [
    "data1 = df_result.groupby(['交易次数'])['CustomerID'].count()\n",
    "x = data1.values \n",
    "y = data1.index"
   ]
  },
  {
   "cell_type": "code",
   "execution_count": 17,
   "metadata": {},
   "outputs": [
    {
     "data": {
      "text/plain": [
       "Text(0.5, 1.0, '交易频率')"
      ]
     },
     "execution_count": 17,
     "metadata": {},
     "output_type": "execute_result"
    },
    {
     "data": {
      "image/png": "[encoded data removed]",
      "text/plain": [
       "<Figure size 432x288 with 1 Axes>"
      ]
     },
     "metadata": {
      "needs_background": "light"
     },
     "output_type": "display_data"
    }
   ],
   "source": [
    "plt.scatter(x,y)\n",
    "plt.ylabel('交易次数',fontsize=12, fontproperties=my_font)\n",
    "plt.xlabel('人数',fontsize=12, fontproperties=my_font)\n",
    "plt.title('交易频率',fontsize=16, fontproperties=my_font)"
   ]
  },
  {
   "cell_type": "code",
   "execution_count": 18,
   "metadata": {},
   "outputs": [
    {
     "name": "stdout",
     "output_type": "stream",
     "text": [
      "只有一次交易记录的共有1493人,其他65.6%的客户存在复购行为\n"
     ]
    }
   ],
   "source": [
    "# 只交易了一次的人数\n",
    "a = data1[data1.index==1].values[0]\n",
    "# 所有的用户数\n",
    "b = len(data['CustomerID'].unique())\n",
    "# 复购率\n",
    "p = round(((b-a)/b*100),1)\n",
    "\n",
    "print('只有一次交易记录的共有{0}人,其他{1}%的客户存在复购行为'.format(a,p))"
   ]
  },
  {
   "cell_type": "markdown",
   "metadata": {},
   "source": [
    "#### 总消费金额可视化"
   ]
  },
  {
   "cell_type": "code",
   "execution_count": 19,
   "metadata": {},
   "outputs": [],
   "source": [
    "bins = [0,1000,3000,5000,10000,2000000]"
   ]
  },
  {
   "cell_type": "code",
   "execution_count": 20,
   "metadata": {},
   "outputs": [],
   "source": [
    "df_result['消费金额区间'] = pd.cut(df_result['交易金额'],bins)"
   ]
  },
  {
   "cell_type": "code",
   "execution_count": 21,
   "metadata": {},
   "outputs": [],
   "source": [
    "data2 = df_result.groupby(['消费金额区间'])['CustomerID'].count()"
   ]
  },
  {
   "cell_type": "code",
   "execution_count": 22,
   "metadata": {},
   "outputs": [
    {
     "data": {
      "text/html": [
       "\n",
       "<script>\n",
       "    require.config({\n",
       "        paths: {\n",
       "            'echarts':'https://assets.pyecharts.org/assets/echarts.min'\n",
       "        }\n",
       "    });\n",
       "</script>\n",
       "\n",
       "        <div id=\"535826e396fc4ccd84152a6842d2dc8c\" style=\"width:900px; height:500px;\"></div>\n",
       "\n",
       "<script>\n",
       "        require(['echarts'], function(echarts) {\n",
       "                var chart_535826e396fc4ccd84152a6842d2dc8c = echarts.init(\n",
       "                    document.getElementById('535826e396fc4ccd84152a6842d2dc8c'), 'white', {renderer: 'canvas'});\n",
       "                var option_535826e396fc4ccd84152a6842d2dc8c = {\n",
       "    \"animation\": true,\n",
       "    \"animationThreshold\": 2000,\n",
       "    \"animationDuration\": 1000,\n",
       "    \"animationEasing\": \"cubicOut\",\n",
       "    \"animationDelay\": 0,\n",
       "    \"animationDurationUpdate\": 300,\n",
       "    \"animationEasingUpdate\": \"cubicOut\",\n",
       "    \"animationDelayUpdate\": 0,\n",
       "    \"color\": [\n",
       "        \"#c23531\",\n",
       "        \"#2f4554\",\n",
       "        \"#61a0a8\",\n",
       "        \"#d48265\",\n",
       "        \"#749f83\",\n",
       "        \"#ca8622\",\n",
       "        \"#bda29a\",\n",
       "        \"#6e7074\",\n",
       "        \"#546570\",\n",
       "        \"#c4ccd3\",\n",
       "        \"#f05b72\",\n",
       "        \"#ef5b9c\",\n",
       "        \"#f47920\",\n",
       "        \"#905a3d\",\n",
       "        \"#fab27b\",\n",
       "        \"#2a5caa\",\n",
       "        \"#444693\",\n",
       "        \"#726930\",\n",
       "        \"#b2d235\",\n",
       "        \"#6d8346\",\n",
       "        \"#ac6767\",\n",
       "        \"#1d953f\",\n",
       "        \"#6950a1\",\n",
       "        \"#918597\"\n",
       "    ],\n",
       "    \"series\": [\n",
       "        {\n",
       "            \"type\": \"pie\",\n",
       "            \"clockwise\": true,\n",
       "            \"data\": [\n",
       "                {\n",
       "                    \"name\": \"(0, 1000]\",\n",
       "                    \"value\": 2677\n",
       "                },\n",
       "                {\n",
       "                    \"name\": \"(1000, 3000]\",\n",
       "                    \"value\": 1108\n",
       "                },\n",
       "                {\n",
       "                    \"name\": \"(3000, 5000]\",\n",
       "                    \"value\": 279\n",
       "                },\n",
       "                {\n",
       "                    \"name\": \"(5000, 10000]\",\n",
       "                    \"value\": 170\n",
       "                },\n",
       "                {\n",
       "                    \"name\": \"(10000, 2000000]\",\n",
       "                    \"value\": 105\n",
       "                }\n",
       "            ],\n",
       "            \"radius\": [\n",
       "                \"0%\",\n",
       "                \"75%\"\n",
       "            ],\n",
       "            \"center\": [\n",
       "                \"50%\",\n",
       "                \"50%\"\n",
       "            ],\n",
       "            \"label\": {\n",
       "                \"show\": true,\n",
       "                \"position\": \"top\",\n",
       "                \"margin\": 8,\n",
       "                \"formatter\": \"{b}: {c}\"\n",
       "            },\n",
       "            \"rippleEffect\": {\n",
       "                \"show\": true,\n",
       "                \"brushType\": \"stroke\",\n",
       "                \"scale\": 2.5,\n",
       "                \"period\": 4\n",
       "            }\n",
       "        }\n",
       "    ],\n",
       "    \"legend\": [\n",
       "        {\n",
       "            \"data\": [\n",
       "                \"(0, 1000]\",\n",
       "                \"(1000, 3000]\",\n",
       "                \"(3000, 5000]\",\n",
       "                \"(5000, 10000]\",\n",
       "                \"(10000, 2000000]\"\n",
       "            ],\n",
       "            \"selected\": {},\n",
       "            \"show\": true,\n",
       "            \"left\": \"2%\",\n",
       "            \"top\": \"15%\",\n",
       "            \"orient\": \"vertical\"\n",
       "        }\n",
       "    ],\n",
       "    \"tooltip\": {\n",
       "        \"show\": true,\n",
       "        \"trigger\": \"item\",\n",
       "        \"triggerOn\": \"mousemove|click\",\n",
       "        \"axisPointer\": {\n",
       "            \"type\": \"line\"\n",
       "        },\n",
       "        \"textStyle\": {\n",
       "            \"fontSize\": 14\n",
       "        },\n",
       "        \"borderWidth\": 0\n",
       "    },\n",
       "    \"title\": [\n",
       "        {\n",
       "            \"text\": \"\\u6d88\\u8d39\\u91d1\\u989d\\u5206\\u5e03\"\n",
       "        }\n",
       "    ]\n",
       "};\n",
       "                chart_535826e396fc4ccd84152a6842d2dc8c.setOption(option_535826e396fc4ccd84152a6842d2dc8c);\n",
       "        });\n",
       "    </script>\n"
      ],
      "text/plain": [
       "<pyecharts.render.display.HTML at 0x10e94b208>"
      ]
     },
     "execution_count": 22,
     "metadata": {},
     "output_type": "execute_result"
    }
   ],
   "source": [
    "p1 = (\n",
    "        Pie()\n",
    "        .add(\"\", [list(z) for z in zip(data2.index.astype(str), data2.values.tolist())])\n",
    "        .set_global_opts(\n",
    "            title_opts=opts.TitleOpts(title=\"消费金额分布\"),\n",
    "            legend_opts=opts.LegendOpts(\n",
    "                orient=\"vertical\", pos_top=\"15%\", pos_left=\"2%\"\n",
    "            ))\n",
    "        .set_series_opts(label_opts=opts.LabelOpts(formatter=\"{b}: {c}\"))\n",
    "    )\n",
    "p1.render_notebook()"
   ]
  },
  {
   "cell_type": "code",
   "execution_count": 23,
   "metadata": {},
   "outputs": [
    {
     "name": "stdout",
     "output_type": "stream",
     "text": [
      "在2010年12月1日到2011年12月9日期间,1000英镑以内和1000-3000英镑这两个区间的消费者比重较高,分别为61.7%和25.5%\n"
     ]
    }
   ],
   "source": [
    "a = round(2677/4339*100,1)\n",
    "b = round(1108/4339*100,1)\n",
    "print('在2010年12月1日到2011年12月9日期间,1000英镑以内和1000-3000英镑这两个区间的消费者比重较高,分别为{}%和{}%'.format(a,b))"
   ]
  },
  {
   "cell_type": "markdown",
   "metadata": {},
   "source": [
    "### RFM评分"
   ]
  },
  {
   "cell_type": "markdown",
   "metadata": {},
   "source": [
    "根据客户消费的时间间隔(R),消费频率(F)及消费金额(M),制定RFM评分,对客户进行评分"
   ]
  },
  {
   "cell_type": "code",
   "execution_count": 24,
   "metadata": {},
   "outputs": [],
   "source": [
    "def R_critic(x):\n",
    "    if x>=0 and x<=30:\n",
    "        return 5\n",
    "    elif x>30 and x<=90:\n",
    "        return 4\n",
    "    elif x>90 and x<=180:\n",
    "        return 3\n",
    "    elif x>180 and x<=365:\n",
    "        return 2\n",
    "    else:\n",
    "        return 1"
   ]
  },
  {
   "cell_type": "code",
   "execution_count": 25,
   "metadata": {},
   "outputs": [],
   "source": [
    "def F_critic(x):\n",
    "    if x>=0 and x<=10:\n",
    "        return 1\n",
    "    elif x>10 and x<=30:\n",
    "        return 2\n",
    "    elif x>30 and x<=50:\n",
    "        return 3\n",
    "    elif x>50 and x<=80:\n",
    "        return 4\n",
    "    else:\n",
    "        return 5"
   ]
  },
  {
   "cell_type": "code",
   "execution_count": 26,
   "metadata": {},
   "outputs": [],
   "source": [
    "def M_critic(x):\n",
    "    if x>=0 and x<=1000:\n",
    "        return 1\n",
    "    elif x>1000 and x<=3000:\n",
    "        return 2\n",
    "    elif x>3000 and x<=5000:\n",
    "        return 3\n",
    "    elif x>5000 and x<=10000:\n",
    "        return 4\n",
    "    else:\n",
    "        return 5"
   ]
  },
  {
   "cell_type": "code",
   "execution_count": 27,
   "metadata": {},
   "outputs": [],
   "source": [
    "df_result['R评分'] = df_result['天数差'].apply(lambda x: R_critic(x))\n",
    "df_result['F评分'] = df_result['交易次数'].apply(lambda x: F_critic(x))\n",
    "df_result['M评分'] = df_result['交易金额'].apply(lambda x: M_critic(x))"
   ]
  },
  {
   "cell_type": "code",
   "execution_count": 28,
   "metadata": {},
   "outputs": [
    {
     "data": {
      "text/html": [
       "<div>\n",
       "<style scoped>\n",
       "    .dataframe tbody tr th:only-of-type {\n",
       "        vertical-align: middle;\n",
       "    }\n",
       "\n",
       "    .dataframe tbody tr th {\n",
       "        vertical-align: top;\n",
       "    }\n",
       "\n",
       "    .dataframe thead th {\n",
       "        text-align: right;\n",
       "    }\n",
       "</style>\n",
       "<table border=\"1\" class=\"dataframe\">\n",
       "  <thead>\n",
       "    <tr style=\"text-align: right;\">\n",
       "      <th></th>\n",
       "      <th>CustomerID</th>\n",
       "      <th>天数差</th>\n",
       "      <th>交易金额</th>\n",
       "      <th>交易次数</th>\n",
       "      <th>消费金额区间</th>\n",
       "      <th>R评分</th>\n",
       "      <th>F评分</th>\n",
       "      <th>M评分</th>\n",
       "    </tr>\n",
       "  </thead>\n",
       "  <tbody>\n",
       "    <tr>\n",
       "      <th>0</th>\n",
       "      <td>15165.0</td>\n",
       "      <td>373</td>\n",
       "      <td>488.0</td>\n",
       "      <td>1</td>\n",
       "      <td>(0, 1000]</td>\n",
       "      <td>1</td>\n",
       "      <td>1</td>\n",
       "      <td>1</td>\n",
       "    </tr>\n",
       "    <tr>\n",
       "      <th>1</th>\n",
       "      <td>17908.0</td>\n",
       "      <td>373</td>\n",
       "      <td>232.0</td>\n",
       "      <td>1</td>\n",
       "      <td>(0, 1000]</td>\n",
       "      <td>1</td>\n",
       "      <td>1</td>\n",
       "      <td>1</td>\n",
       "    </tr>\n",
       "    <tr>\n",
       "      <th>2</th>\n",
       "      <td>16583.0</td>\n",
       "      <td>373</td>\n",
       "      <td>233.0</td>\n",
       "      <td>1</td>\n",
       "      <td>(0, 1000]</td>\n",
       "      <td>1</td>\n",
       "      <td>1</td>\n",
       "      <td>1</td>\n",
       "    </tr>\n",
       "    <tr>\n",
       "      <th>3</th>\n",
       "      <td>14142.0</td>\n",
       "      <td>373</td>\n",
       "      <td>312.0</td>\n",
       "      <td>1</td>\n",
       "      <td>(0, 1000]</td>\n",
       "      <td>1</td>\n",
       "      <td>1</td>\n",
       "      <td>1</td>\n",
       "    </tr>\n",
       "    <tr>\n",
       "      <th>4</th>\n",
       "      <td>15922.0</td>\n",
       "      <td>373</td>\n",
       "      <td>370.0</td>\n",
       "      <td>1</td>\n",
       "      <td>(0, 1000]</td>\n",
       "      <td>1</td>\n",
       "      <td>1</td>\n",
       "      <td>1</td>\n",
       "    </tr>\n",
       "    <tr>\n",
       "      <th>5</th>\n",
       "      <td>16048.0</td>\n",
       "      <td>373</td>\n",
       "      <td>256.0</td>\n",
       "      <td>2</td>\n",
       "      <td>(0, 1000]</td>\n",
       "      <td>1</td>\n",
       "      <td>1</td>\n",
       "      <td>1</td>\n",
       "    </tr>\n",
       "    <tr>\n",
       "      <th>6</th>\n",
       "      <td>13747.0</td>\n",
       "      <td>373</td>\n",
       "      <td>80.0</td>\n",
       "      <td>1</td>\n",
       "      <td>(0, 1000]</td>\n",
       "      <td>1</td>\n",
       "      <td>1</td>\n",
       "      <td>1</td>\n",
       "    </tr>\n",
       "    <tr>\n",
       "      <th>7</th>\n",
       "      <td>18074.0</td>\n",
       "      <td>373</td>\n",
       "      <td>490.0</td>\n",
       "      <td>1</td>\n",
       "      <td>(0, 1000]</td>\n",
       "      <td>1</td>\n",
       "      <td>1</td>\n",
       "      <td>1</td>\n",
       "    </tr>\n",
       "    <tr>\n",
       "      <th>8</th>\n",
       "      <td>17968.0</td>\n",
       "      <td>373</td>\n",
       "      <td>265.0</td>\n",
       "      <td>1</td>\n",
       "      <td>(0, 1000]</td>\n",
       "      <td>1</td>\n",
       "      <td>1</td>\n",
       "      <td>1</td>\n",
       "    </tr>\n",
       "    <tr>\n",
       "      <th>9</th>\n",
       "      <td>15350.0</td>\n",
       "      <td>373</td>\n",
       "      <td>116.0</td>\n",
       "      <td>1</td>\n",
       "      <td>(0, 1000]</td>\n",
       "      <td>1</td>\n",
       "      <td>1</td>\n",
       "      <td>1</td>\n",
       "    </tr>\n",
       "  </tbody>\n",
       "</table>\n",
       "</div>"
      ],
      "text/plain": [
       "   CustomerID  天数差   交易金额  交易次数     消费金额区间  R评分  F评分  M评分\n",
       "0     15165.0  373  488.0     1  (0, 1000]    1    1    1\n",
       "1     17908.0  373  232.0     1  (0, 1000]    1    1    1\n",
       "2     16583.0  373  233.0     1  (0, 1000]    1    1    1\n",
       "3     14142.0  373  312.0     1  (0, 1000]    1    1    1\n",
       "4     15922.0  373  370.0     1  (0, 1000]    1    1    1\n",
       "5     16048.0  373  256.0     2  (0, 1000]    1    1    1\n",
       "6     13747.0  373   80.0     1  (0, 1000]    1    1    1\n",
       "7     18074.0  373  490.0     1  (0, 1000]    1    1    1\n",
       "8     17968.0  373  265.0     1  (0, 1000]    1    1    1\n",
       "9     15350.0  373  116.0     1  (0, 1000]    1    1    1"
      ]
     },
     "execution_count": 28,
     "metadata": {},
     "output_type": "execute_result"
    }
   ],
   "source": [
    "df_result.head(10)"
   ]
  },
  {
   "cell_type": "markdown",
   "metadata": {},
   "source": [
    "### 客户分层的阈值"
   ]
  },
  {
   "cell_type": "markdown",
   "metadata": {},
   "source": [
    "RFM评分结束后,计算RFM各自的平均值,将平均值做为客户划分的阈值,再做最后的客户分层处理"
   ]
  },
  {
   "cell_type": "code",
   "execution_count": 29,
   "metadata": {},
   "outputs": [
    {
     "data": {
      "text/plain": [
       "R评分    3.84\n",
       "F评分    1.09\n",
       "M评分    1.60\n",
       "dtype: float64"
      ]
     },
     "execution_count": 29,
     "metadata": {},
     "output_type": "execute_result"
    }
   ],
   "source": [
    "# 平均值\n",
    "round(df_result[['R评分','F评分','M评分']].mean(),2)"
   ]
  },
  {
   "cell_type": "code",
   "execution_count": 30,
   "metadata": {},
   "outputs": [],
   "source": [
    "def R_score(x):\n",
    "    if x>3.84:\n",
    "        return 1\n",
    "    else:\n",
    "        return 0\n",
    "def F_score(x):\n",
    "    if x>1.09:\n",
    "        return 1\n",
    "    else:\n",
    "        return 0\n",
    "def M_score(x):\n",
    "    if x>1.60:\n",
    "        return 1\n",
    "    else:\n",
    "        return 0"
   ]
  },
  {
   "cell_type": "code",
   "execution_count": 31,
   "metadata": {},
   "outputs": [],
   "source": [
    "df_result['R值'] = df_result['R评分'].apply(lambda x: R_score(x))\n",
    "df_result['F值'] = df_result['F评分'].apply(lambda x: F_score(x))\n",
    "df_result['M值'] = df_result['M评分'].apply(lambda x: M_score(x))"
   ]
  },
  {
   "cell_type": "code",
   "execution_count": 32,
   "metadata": {},
   "outputs": [
    {
     "data": {
      "text/html": [
       "<div>\n",
       "<style scoped>\n",
       "    .dataframe tbody tr th:only-of-type {\n",
       "        vertical-align: middle;\n",
       "    }\n",
       "\n",
       "    .dataframe tbody tr th {\n",
       "        vertical-align: top;\n",
       "    }\n",
       "\n",
       "    .dataframe thead th {\n",
       "        text-align: right;\n",
       "    }\n",
       "</style>\n",
       "<table border=\"1\" class=\"dataframe\">\n",
       "  <thead>\n",
       "    <tr style=\"text-align: right;\">\n",
       "      <th></th>\n",
       "      <th>CustomerID</th>\n",
       "      <th>天数差</th>\n",
       "      <th>交易金额</th>\n",
       "      <th>交易次数</th>\n",
       "      <th>消费金额区间</th>\n",
       "      <th>R评分</th>\n",
       "      <th>F评分</th>\n",
       "      <th>M评分</th>\n",
       "      <th>R值</th>\n",
       "      <th>F值</th>\n",
       "      <th>M值</th>\n",
       "    </tr>\n",
       "  </thead>\n",
       "  <tbody>\n",
       "    <tr>\n",
       "      <th>1756</th>\n",
       "      <td>18204.0</td>\n",
       "      <td>71</td>\n",
       "      <td>1975.0</td>\n",
       "      <td>3</td>\n",
       "      <td>(1000, 3000]</td>\n",
       "      <td>4</td>\n",
       "      <td>1</td>\n",
       "      <td>2</td>\n",
       "      <td>1</td>\n",
       "      <td>0</td>\n",
       "      <td>1</td>\n",
       "    </tr>\n",
       "    <tr>\n",
       "      <th>1467</th>\n",
       "      <td>14307.0</td>\n",
       "      <td>88</td>\n",
       "      <td>2996.0</td>\n",
       "      <td>6</td>\n",
       "      <td>(1000, 3000]</td>\n",
       "      <td>4</td>\n",
       "      <td>1</td>\n",
       "      <td>2</td>\n",
       "      <td>1</td>\n",
       "      <td>0</td>\n",
       "      <td>1</td>\n",
       "    </tr>\n",
       "    <tr>\n",
       "      <th>142</th>\n",
       "      <td>15346.0</td>\n",
       "      <td>332</td>\n",
       "      <td>252.0</td>\n",
       "      <td>1</td>\n",
       "      <td>(0, 1000]</td>\n",
       "      <td>2</td>\n",
       "      <td>1</td>\n",
       "      <td>1</td>\n",
       "      <td>0</td>\n",
       "      <td>0</td>\n",
       "      <td>0</td>\n",
       "    </tr>\n",
       "    <tr>\n",
       "      <th>2132</th>\n",
       "      <td>15505.0</td>\n",
       "      <td>52</td>\n",
       "      <td>3611.0</td>\n",
       "      <td>5</td>\n",
       "      <td>(3000, 5000]</td>\n",
       "      <td>4</td>\n",
       "      <td>1</td>\n",
       "      <td>3</td>\n",
       "      <td>1</td>\n",
       "      <td>0</td>\n",
       "      <td>1</td>\n",
       "    </tr>\n",
       "    <tr>\n",
       "      <th>4103</th>\n",
       "      <td>16015.0</td>\n",
       "      <td>3</td>\n",
       "      <td>705.0</td>\n",
       "      <td>3</td>\n",
       "      <td>(0, 1000]</td>\n",
       "      <td>5</td>\n",
       "      <td>1</td>\n",
       "      <td>1</td>\n",
       "      <td>1</td>\n",
       "      <td>0</td>\n",
       "      <td>0</td>\n",
       "    </tr>\n",
       "  </tbody>\n",
       "</table>\n",
       "</div>"
      ],
      "text/plain": [
       "      CustomerID  天数差    交易金额  交易次数        消费金额区间  R评分  F评分  M评分  R值  F值  M值\n",
       "1756     18204.0   71  1975.0     3  (1000, 3000]    4    1    2   1   0   1\n",
       "1467     14307.0   88  2996.0     6  (1000, 3000]    4    1    2   1   0   1\n",
       "142      15346.0  332   252.0     1     (0, 1000]    2    1    1   0   0   0\n",
       "2132     15505.0   52  3611.0     5  (3000, 5000]    4    1    3   1   0   1\n",
       "4103     16015.0    3   705.0     3     (0, 1000]    5    1    1   1   0   0"
      ]
     },
     "execution_count": 32,
     "metadata": {},
     "output_type": "execute_result"
    }
   ],
   "source": [
    "df_result.sample(5)"
   ]
  },
  {
   "cell_type": "markdown",
   "metadata": {},
   "source": [
    "### 客户分层"
   ]
  },
  {
   "cell_type": "markdown",
   "metadata": {},
   "source": [
    "根据RFM值,对客户行为进行分层处理（消费金额M处于支柱地位）  "
   ]
  },
  {
   "cell_type": "markdown",
   "metadata": {},
   "source": [
    "R F M 客户类型   \n",
    "1 1 1 重要价值客户  \n",
    "1 0 1 重要发展客户  \n",
    "0 1 1 重要保持客户  \n",
    "0 0 1 重要挽留客户  \n",
    "1 1 0 一般价值用户  \n",
    "1 0 0 一般发展客户  \n",
    "0 1 0 一般保持用户  \n",
    "0 0 0 流失用户  "
   ]
  },
  {
   "cell_type": "code",
   "execution_count": 33,
   "metadata": {},
   "outputs": [],
   "source": [
    "def diff_user(x,y,z):\n",
    "    if x==1 and y==1 and z==1:\n",
    "        return '重要价值客户'\n",
    "    elif x==1 and y==0 and z==1:\n",
    "        return '重要发展客户'\n",
    "    elif x==0 and y==1 and z==1:\n",
    "        return '重要保持客户'    \n",
    "    elif x==0 and y==0 and z==1:\n",
    "        return '重要挽留客户'\n",
    "    if x==1 and y==1 and z==0:\n",
    "        return '一般价值客户'\n",
    "    elif x==1 and y==0 and z==0:\n",
    "        return '一般发展客户'\n",
    "    elif x==0 and y==1 and z==0:\n",
    "        return '一般保持客户'    \n",
    "    else:\n",
    "        return '流失客户'"
   ]
  },
  {
   "cell_type": "code",
   "execution_count": 34,
   "metadata": {},
   "outputs": [],
   "source": [
    "df_result['客户类型'] = df_result.apply(lambda x: diff_user(x.R值,x.F值,x.M值),axis=1)"
   ]
  },
  {
   "cell_type": "code",
   "execution_count": 35,
   "metadata": {},
   "outputs": [
    {
     "data": {
      "text/plain": [
       "一般发展客户    1456\n",
       "流失客户      1221\n",
       "重要发展客户    1103\n",
       "重要价值客户     331\n",
       "重要挽留客户     221\n",
       "重要保持客户       7\n",
       "Name: 客户类型, dtype: int64"
      ]
     },
     "execution_count": 35,
     "metadata": {},
     "output_type": "execute_result"
    }
   ],
   "source": [
    "df_result['客户类型'].value_counts()"
   ]
  },
  {
   "cell_type": "code",
   "execution_count": 36,
   "metadata": {},
   "outputs": [
    {
     "data": {
      "text/html": [
       "\n",
       "<script>\n",
       "    require.config({\n",
       "        paths: {\n",
       "            'echarts':'https://assets.pyecharts.org/assets/echarts.min'\n",
       "        }\n",
       "    });\n",
       "</script>\n",
       "\n",
       "        <div id=\"f047869bd5b545f589453e2ca3e1a50a\" style=\"width:900px; height:500px;\"></div>\n",
       "\n",
       "<script>\n",
       "        require(['echarts'], function(echarts) {\n",
       "                var chart_f047869bd5b545f589453e2ca3e1a50a = echarts.init(\n",
       "                    document.getElementById('f047869bd5b545f589453e2ca3e1a50a'), 'white', {renderer: 'canvas'});\n",
       "                var option_f047869bd5b545f589453e2ca3e1a50a = {\n",
       "    \"animation\": true,\n",
       "    \"animationThreshold\": 2000,\n",
       "    \"animationDuration\": 1000,\n",
       "    \"animationEasing\": \"cubicOut\",\n",
       "    \"animationDelay\": 0,\n",
       "    \"animationDurationUpdate\": 300,\n",
       "    \"animationEasingUpdate\": \"cubicOut\",\n",
       "    \"animationDelayUpdate\": 0,\n",
       "    \"color\": [\n",
       "        \"#c23531\",\n",
       "        \"#2f4554\",\n",
       "        \"#61a0a8\",\n",
       "        \"#d48265\",\n",
       "        \"#749f83\",\n",
       "        \"#ca8622\",\n",
       "        \"#bda29a\",\n",
       "        \"#6e7074\",\n",
       "        \"#546570\",\n",
       "        \"#c4ccd3\",\n",
       "        \"#f05b72\",\n",
       "        \"#ef5b9c\",\n",
       "        \"#f47920\",\n",
       "        \"#905a3d\",\n",
       "        \"#fab27b\",\n",
       "        \"#2a5caa\",\n",
       "        \"#444693\",\n",
       "        \"#726930\",\n",
       "        \"#b2d235\",\n",
       "        \"#6d8346\",\n",
       "        \"#ac6767\",\n",
       "        \"#1d953f\",\n",
       "        \"#6950a1\",\n",
       "        \"#918597\"\n",
       "    ],\n",
       "    \"series\": [\n",
       "        {\n",
       "            \"type\": \"bar\",\n",
       "            \"name\": \"\\u4eba\\u6570\",\n",
       "            \"data\": [\n",
       "                1456,\n",
       "                1221,\n",
       "                1103,\n",
       "                331,\n",
       "                221,\n",
       "                7\n",
       "            ],\n",
       "            \"barCategoryGap\": \"20%\",\n",
       "            \"label\": {\n",
       "                \"show\": true,\n",
       "                \"position\": \"top\",\n",
       "                \"margin\": 8\n",
       "            }\n",
       "        }\n",
       "    ],\n",
       "    \"legend\": [\n",
       "        {\n",
       "            \"data\": [\n",
       "                \"\\u4eba\\u6570\"\n",
       "            ],\n",
       "            \"selected\": {\n",
       "                \"\\u4eba\\u6570\": true\n",
       "            },\n",
       "            \"show\": true\n",
       "        }\n",
       "    ],\n",
       "    \"tooltip\": {\n",
       "        \"show\": true,\n",
       "        \"trigger\": \"item\",\n",
       "        \"triggerOn\": \"mousemove|click\",\n",
       "        \"axisPointer\": {\n",
       "            \"type\": \"line\"\n",
       "        },\n",
       "        \"textStyle\": {\n",
       "            \"fontSize\": 14\n",
       "        },\n",
       "        \"borderWidth\": 0\n",
       "    },\n",
       "    \"xAxis\": [\n",
       "        {\n",
       "            \"name\": \"\\u5ba2\\u6237\\u7c7b\\u578b\",\n",
       "            \"show\": true,\n",
       "            \"scale\": false,\n",
       "            \"nameLocation\": \"end\",\n",
       "            \"nameGap\": 15,\n",
       "            \"gridIndex\": 0,\n",
       "            \"inverse\": false,\n",
       "            \"offset\": 0,\n",
       "            \"splitNumber\": 5,\n",
       "            \"minInterval\": 0,\n",
       "            \"splitLine\": {\n",
       "                \"show\": false,\n",
       "                \"lineStyle\": {\n",
       "                    \"width\": 1,\n",
       "                    \"opacity\": 1,\n",
       "                    \"curveness\": 0,\n",
       "                    \"type\": \"solid\"\n",
       "                }\n",
       "            },\n",
       "            \"data\": [\n",
       "                \"\\u4e00\\u822c\\u53d1\\u5c55\\u5ba2\\u6237\",\n",
       "                \"\\u6d41\\u5931\\u5ba2\\u6237\",\n",
       "                \"\\u91cd\\u8981\\u53d1\\u5c55\\u5ba2\\u6237\",\n",
       "                \"\\u91cd\\u8981\\u4ef7\\u503c\\u5ba2\\u6237\",\n",
       "                \"\\u91cd\\u8981\\u633d\\u7559\\u5ba2\\u6237\",\n",
       "                \"\\u91cd\\u8981\\u4fdd\\u6301\\u5ba2\\u6237\"\n",
       "            ]\n",
       "        }\n",
       "    ],\n",
       "    \"yAxis\": [\n",
       "        {\n",
       "            \"name\": \"\\u6570\\u91cf\",\n",
       "            \"show\": true,\n",
       "            \"scale\": false,\n",
       "            \"nameLocation\": \"end\",\n",
       "            \"nameGap\": 15,\n",
       "            \"gridIndex\": 0,\n",
       "            \"inverse\": false,\n",
       "            \"offset\": 0,\n",
       "            \"splitNumber\": 5,\n",
       "            \"minInterval\": 0,\n",
       "            \"splitLine\": {\n",
       "                \"show\": false,\n",
       "                \"lineStyle\": {\n",
       "                    \"width\": 1,\n",
       "                    \"opacity\": 1,\n",
       "                    \"curveness\": 0,\n",
       "                    \"type\": \"solid\"\n",
       "                }\n",
       "            }\n",
       "        }\n",
       "    ],\n",
       "    \"title\": [\n",
       "        {\n",
       "            \"text\": \"\\u5ba2\\u6237\\u5206\\u5c42\"\n",
       "        }\n",
       "    ]\n",
       "};\n",
       "                chart_f047869bd5b545f589453e2ca3e1a50a.setOption(option_f047869bd5b545f589453e2ca3e1a50a);\n",
       "        });\n",
       "    </script>\n"
      ],
      "text/plain": [
       "<pyecharts.render.display.HTML at 0x10cf0a630>"
      ]
     },
     "execution_count": 36,
     "metadata": {},
     "output_type": "execute_result"
    }
   ],
   "source": [
    "index1 = df_result['客户类型'].value_counts().index.tolist()\n",
    "value1 = df_result['客户类型'].value_counts().values.tolist()\n",
    "\n",
    "bar1 = (\n",
    "    Bar()\n",
    "    .add_xaxis(index1)\n",
    "    .add_yaxis('人数',value1)\n",
    "    .set_global_opts(title_opts=opts.TitleOpts(title=\"客户分层\"),\n",
    "                     yaxis_opts=opts.AxisOpts(name=\"数量\"),\n",
    "                     xaxis_opts=opts.AxisOpts(name=\"客户类型\"))\n",
    "\n",
    ")\n",
    "bar1.render_notebook()"
   ]
  },
  {
   "cell_type": "markdown",
   "metadata": {},
   "source": [
    "在分层客户数量方面,一般发展客户,最近有交易的新客户最多,占总数的33.6%;  \n",
    "其次是流失客户28.1%,重要发展客户25.4%,重要价值客户7.6%,重要挽留客户5.1%和重要保持客户0.2%"
   ]
  },
  {
   "cell_type": "code",
   "execution_count": 37,
   "metadata": {},
   "outputs": [],
   "source": [
    "data3 = df_result.groupby(['客户类型'])['交易金额'].sum()"
   ]
  },
  {
   "cell_type": "code",
   "execution_count": 38,
   "metadata": {},
   "outputs": [
    {
     "data": {
      "text/html": [
       "\n",
       "<script>\n",
       "    require.config({\n",
       "        paths: {\n",
       "            'echarts':'https://assets.pyecharts.org/assets/echarts.min'\n",
       "        }\n",
       "    });\n",
       "</script>\n",
       "\n",
       "        <div id=\"ac99482933164bfd904907ac20fbaa64\" style=\"width:900px; height:500px;\"></div>\n",
       "\n",
       "<script>\n",
       "        require(['echarts'], function(echarts) {\n",
       "                var chart_ac99482933164bfd904907ac20fbaa64 = echarts.init(\n",
       "                    document.getElementById('ac99482933164bfd904907ac20fbaa64'), 'white', {renderer: 'canvas'});\n",
       "                var option_ac99482933164bfd904907ac20fbaa64 = {\n",
       "    \"animation\": true,\n",
       "    \"animationThreshold\": 2000,\n",
       "    \"animationDuration\": 1000,\n",
       "    \"animationEasing\": \"cubicOut\",\n",
       "    \"animationDelay\": 0,\n",
       "    \"animationDurationUpdate\": 300,\n",
       "    \"animationEasingUpdate\": \"cubicOut\",\n",
       "    \"animationDelayUpdate\": 0,\n",
       "    \"color\": [\n",
       "        \"#c23531\",\n",
       "        \"#2f4554\",\n",
       "        \"#61a0a8\",\n",
       "        \"#d48265\",\n",
       "        \"#749f83\",\n",
       "        \"#ca8622\",\n",
       "        \"#bda29a\",\n",
       "        \"#6e7074\",\n",
       "        \"#546570\",\n",
       "        \"#c4ccd3\",\n",
       "        \"#f05b72\",\n",
       "        \"#ef5b9c\",\n",
       "        \"#f47920\",\n",
       "        \"#905a3d\",\n",
       "        \"#fab27b\",\n",
       "        \"#2a5caa\",\n",
       "        \"#444693\",\n",
       "        \"#726930\",\n",
       "        \"#b2d235\",\n",
       "        \"#6d8346\",\n",
       "        \"#ac6767\",\n",
       "        \"#1d953f\",\n",
       "        \"#6950a1\",\n",
       "        \"#918597\"\n",
       "    ],\n",
       "    \"series\": [\n",
       "        {\n",
       "            \"type\": \"pie\",\n",
       "            \"clockwise\": true,\n",
       "            \"data\": [\n",
       "                {\n",
       "                    \"name\": \"\\u4e00\\u822c\\u53d1\\u5c55\\u5ba2\\u6237\",\n",
       "                    \"value\": 680070.0\n",
       "                },\n",
       "                {\n",
       "                    \"name\": \"\\u6d41\\u5931\\u5ba2\\u6237\",\n",
       "                    \"value\": 428056.0\n",
       "                },\n",
       "                {\n",
       "                    \"name\": \"\\u91cd\\u8981\\u4ef7\\u503c\\u5ba2\\u6237\",\n",
       "                    \"value\": 6112314.0\n",
       "                },\n",
       "                {\n",
       "                    \"name\": \"\\u91cd\\u8981\\u4fdd\\u6301\\u5ba2\\u6237\",\n",
       "                    \"value\": 26557.0\n",
       "                },\n",
       "                {\n",
       "                    \"name\": \"\\u91cd\\u8981\\u53d1\\u5c55\\u5ba2\\u6237\",\n",
       "                    \"value\": 2817183.0\n",
       "                },\n",
       "                {\n",
       "                    \"name\": \"\\u91cd\\u8981\\u633d\\u7559\\u5ba2\\u6237\",\n",
       "                    \"value\": 577942.0\n",
       "                }\n",
       "            ],\n",
       "            \"radius\": [\n",
       "                \"0%\",\n",
       "                \"75%\"\n",
       "            ],\n",
       "            \"center\": [\n",
       "                \"50%\",\n",
       "                \"50%\"\n",
       "            ],\n",
       "            \"label\": {\n",
       "                \"show\": true,\n",
       "                \"position\": \"top\",\n",
       "                \"margin\": 8,\n",
       "                \"formatter\": \"{b}: {c}\"\n",
       "            },\n",
       "            \"rippleEffect\": {\n",
       "                \"show\": true,\n",
       "                \"brushType\": \"stroke\",\n",
       "                \"scale\": 2.5,\n",
       "                \"period\": 4\n",
       "            }\n",
       "        }\n",
       "    ],\n",
       "    \"legend\": [\n",
       "        {\n",
       "            \"data\": [\n",
       "                \"\\u4e00\\u822c\\u53d1\\u5c55\\u5ba2\\u6237\",\n",
       "                \"\\u6d41\\u5931\\u5ba2\\u6237\",\n",
       "                \"\\u91cd\\u8981\\u4ef7\\u503c\\u5ba2\\u6237\",\n",
       "                \"\\u91cd\\u8981\\u4fdd\\u6301\\u5ba2\\u6237\",\n",
       "                \"\\u91cd\\u8981\\u53d1\\u5c55\\u5ba2\\u6237\",\n",
       "                \"\\u91cd\\u8981\\u633d\\u7559\\u5ba2\\u6237\"\n",
       "            ],\n",
       "            \"selected\": {},\n",
       "            \"show\": true,\n",
       "            \"left\": \"2%\",\n",
       "            \"top\": \"15%\",\n",
       "            \"orient\": \"vertical\"\n",
       "        }\n",
       "    ],\n",
       "    \"tooltip\": {\n",
       "        \"show\": true,\n",
       "        \"trigger\": \"item\",\n",
       "        \"triggerOn\": \"mousemove|click\",\n",
       "        \"axisPointer\": {\n",
       "            \"type\": \"line\"\n",
       "        },\n",
       "        \"textStyle\": {\n",
       "            \"fontSize\": 14\n",
       "        },\n",
       "        \"borderWidth\": 0\n",
       "    },\n",
       "    \"title\": [\n",
       "        {\n",
       "            \"text\": \"\\u5404\\u5c42\\u4ea4\\u6613\\u91d1\\u989d\\u5360\\u6bd4\"\n",
       "        }\n",
       "    ]\n",
       "};\n",
       "                chart_ac99482933164bfd904907ac20fbaa64.setOption(option_ac99482933164bfd904907ac20fbaa64);\n",
       "        });\n",
       "    </script>\n"
      ],
      "text/plain": [
       "<pyecharts.render.display.HTML at 0x10d150f98>"
      ]
     },
     "execution_count": 38,
     "metadata": {},
     "output_type": "execute_result"
    }
   ],
   "source": [
    "p2 = (\n",
    "        Pie()\n",
    "        .add(\"\", [list(z) for z in zip(data3.index.astype(str), data3.values.tolist())])\n",
    "        .set_global_opts(\n",
    "            title_opts=opts.TitleOpts(title=\"各层交易金额占比\"),\n",
    "            legend_opts=opts.LegendOpts(\n",
    "                orient=\"vertical\", pos_top=\"15%\", pos_left=\"2%\"\n",
    "            ))\n",
    "        .set_series_opts(label_opts=opts.LabelOpts(formatter=\"{b}: {c}\"))\n",
    "    )\n",
    "p2.render_notebook()"
   ]
  },
  {
   "cell_type": "markdown",
   "metadata": {},
   "source": [
    "在分层客户贡献度方面,贡献最高的是重要价值客户,交易额6,112,314英镑,占总交易额的57.5%;   \n",
    "其次是重要发展客户,交易金额2,817,183英镑,占总交易额的26.5%;  \n",
    "这两类客户贡献度高达83.9%,符合二八原则"
   ]
  },
  {
   "cell_type": "markdown",
   "metadata": {},
   "source": [
    "### 区位维度分析"
   ]
  },
  {
   "cell_type": "markdown",
   "metadata": {},
   "source": [
    "#### 分析流失客户区域"
   ]
  },
  {
   "cell_type": "code",
   "execution_count": 84,
   "metadata": {},
   "outputs": [],
   "source": [
    "df3 = df_result[df_result['客户类型']=='流失客户']\n",
    "df4 = df3[['CustomerID','交易金额']]"
   ]
  },
  {
   "cell_type": "code",
   "execution_count": 88,
   "metadata": {},
   "outputs": [],
   "source": [
    "df5 = pd.merge(df4,data[['Country','CustomerID']],on='CustomerID',how='left')"
   ]
  },
  {
   "cell_type": "code",
   "execution_count": 102,
   "metadata": {},
   "outputs": [],
   "source": [
    "result = df5.groupby(['Country']).apply(lambda x: len(x.CustomerID.unique()))"
   ]
  },
  {
   "cell_type": "code",
   "execution_count": 103,
   "metadata": {},
   "outputs": [],
   "source": [
    "result.sort_values(ascending=False,inplace=True)"
   ]
  },
  {
   "cell_type": "code",
   "execution_count": 107,
   "metadata": {},
   "outputs": [
    {
     "data": {
      "text/html": [
       "\n",
       "<script>\n",
       "    require.config({\n",
       "        paths: {\n",
       "            'echarts':'https://assets.pyecharts.org/assets/echarts.min'\n",
       "        }\n",
       "    });\n",
       "</script>\n",
       "\n",
       "        <div id=\"9e18838ac3364b2c8aa434e4a6999bee\" style=\"width:900px; height:500px;\"></div>\n",
       "\n",
       "<script>\n",
       "        require(['echarts'], function(echarts) {\n",
       "                var chart_9e18838ac3364b2c8aa434e4a6999bee = echarts.init(\n",
       "                    document.getElementById('9e18838ac3364b2c8aa434e4a6999bee'), 'white', {renderer: 'canvas'});\n",
       "                var option_9e18838ac3364b2c8aa434e4a6999bee = {\n",
       "    \"animation\": true,\n",
       "    \"animationThreshold\": 2000,\n",
       "    \"animationDuration\": 1000,\n",
       "    \"animationEasing\": \"cubicOut\",\n",
       "    \"animationDelay\": 0,\n",
       "    \"animationDurationUpdate\": 300,\n",
       "    \"animationEasingUpdate\": \"cubicOut\",\n",
       "    \"animationDelayUpdate\": 0,\n",
       "    \"color\": [\n",
       "        \"#c23531\",\n",
       "        \"#2f4554\",\n",
       "        \"#61a0a8\",\n",
       "        \"#d48265\",\n",
       "        \"#749f83\",\n",
       "        \"#ca8622\",\n",
       "        \"#bda29a\",\n",
       "        \"#6e7074\",\n",
       "        \"#546570\",\n",
       "        \"#c4ccd3\",\n",
       "        \"#f05b72\",\n",
       "        \"#ef5b9c\",\n",
       "        \"#f47920\",\n",
       "        \"#905a3d\",\n",
       "        \"#fab27b\",\n",
       "        \"#2a5caa\",\n",
       "        \"#444693\",\n",
       "        \"#726930\",\n",
       "        \"#b2d235\",\n",
       "        \"#6d8346\",\n",
       "        \"#ac6767\",\n",
       "        \"#1d953f\",\n",
       "        \"#6950a1\",\n",
       "        \"#918597\"\n",
       "    ],\n",
       "    \"series\": [\n",
       "        {\n",
       "            \"type\": \"bar\",\n",
       "            \"name\": \"\\u4eba\\u6570\",\n",
       "            \"data\": [\n",
       "                1121,\n",
       "                24,\n",
       "                18,\n",
       "                6,\n",
       "                5,\n",
       "                5,\n",
       "                5,\n",
       "                4,\n",
       "                3,\n",
       "                3,\n",
       "                3,\n",
       "                3,\n",
       "                3,\n",
       "                3,\n",
       "                2,\n",
       "                2,\n",
       "                2,\n",
       "                2,\n",
       "                1,\n",
       "                1,\n",
       "                1,\n",
       "                1,\n",
       "                1,\n",
       "                1,\n",
       "                1,\n",
       "                1\n",
       "            ],\n",
       "            \"barCategoryGap\": \"20%\",\n",
       "            \"label\": {\n",
       "                \"show\": true,\n",
       "                \"position\": \"top\",\n",
       "                \"margin\": 8\n",
       "            }\n",
       "        }\n",
       "    ],\n",
       "    \"legend\": [\n",
       "        {\n",
       "            \"data\": [\n",
       "                \"\\u4eba\\u6570\"\n",
       "            ],\n",
       "            \"selected\": {\n",
       "                \"\\u4eba\\u6570\": true\n",
       "            },\n",
       "            \"show\": true\n",
       "        }\n",
       "    ],\n",
       "    \"tooltip\": {\n",
       "        \"show\": true,\n",
       "        \"trigger\": \"item\",\n",
       "        \"triggerOn\": \"mousemove|click\",\n",
       "        \"axisPointer\": {\n",
       "            \"type\": \"line\"\n",
       "        },\n",
       "        \"textStyle\": {\n",
       "            \"fontSize\": 14\n",
       "        },\n",
       "        \"borderWidth\": 0\n",
       "    },\n",
       "    \"xAxis\": [\n",
       "        {\n",
       "            \"name\": \"\\u5ba2\\u6237\\u7c7b\\u578b\",\n",
       "            \"show\": true,\n",
       "            \"scale\": false,\n",
       "            \"nameLocation\": \"end\",\n",
       "            \"nameGap\": 15,\n",
       "            \"gridIndex\": 0,\n",
       "            \"axisLabel\": {\n",
       "                \"show\": true,\n",
       "                \"position\": \"top\",\n",
       "                \"rotate\": -90,\n",
       "                \"margin\": 8\n",
       "            },\n",
       "            \"inverse\": false,\n",
       "            \"offset\": 0,\n",
       "            \"splitNumber\": 5,\n",
       "            \"minInterval\": 0,\n",
       "            \"splitLine\": {\n",
       "                \"show\": false,\n",
       "                \"lineStyle\": {\n",
       "                    \"width\": 1,\n",
       "                    \"opacity\": 1,\n",
       "                    \"curveness\": 0,\n",
       "                    \"type\": \"solid\"\n",
       "                }\n",
       "            },\n",
       "            \"data\": [\n",
       "                \"United Kingdom\",\n",
       "                \"France\",\n",
       "                \"Germany\",\n",
       "                \"Portugal\",\n",
       "                \"Switzerland\",\n",
       "                \"Spain\",\n",
       "                \"Belgium\",\n",
       "                \"Austria\",\n",
       "                \"Unspecified\",\n",
       "                \"Sweden\",\n",
       "                \"Poland\",\n",
       "                \"Canada\",\n",
       "                \"Netherlands\",\n",
       "                \"Italy\",\n",
       "                \"Bahrain\",\n",
       "                \"Cyprus\",\n",
       "                \"Australia\",\n",
       "                \"Norway\",\n",
       "                \"Greece\",\n",
       "                \"Finland\",\n",
       "                \"Malta\",\n",
       "                \"Channel Islands\",\n",
       "                \"Saudi Arabia\",\n",
       "                \"USA\",\n",
       "                \"United Arab Emirates\",\n",
       "                \"Japan\"\n",
       "            ]\n",
       "        }\n",
       "    ],\n",
       "    \"yAxis\": [\n",
       "        {\n",
       "            \"name\": \"\\u6570\\u91cf\",\n",
       "            \"show\": true,\n",
       "            \"scale\": false,\n",
       "            \"nameLocation\": \"end\",\n",
       "            \"nameGap\": 15,\n",
       "            \"gridIndex\": 0,\n",
       "            \"inverse\": false,\n",
       "            \"offset\": 0,\n",
       "            \"splitNumber\": 5,\n",
       "            \"minInterval\": 0,\n",
       "            \"splitLine\": {\n",
       "                \"show\": false,\n",
       "                \"lineStyle\": {\n",
       "                    \"width\": 1,\n",
       "                    \"opacity\": 1,\n",
       "                    \"curveness\": 0,\n",
       "                    \"type\": \"solid\"\n",
       "                }\n",
       "            }\n",
       "        }\n",
       "    ],\n",
       "    \"title\": [\n",
       "        {\n",
       "            \"text\": \"\\u5ba2\\u6237\\u5206\\u5c42\"\n",
       "        }\n",
       "    ]\n",
       "};\n",
       "                chart_9e18838ac3364b2c8aa434e4a6999bee.setOption(option_9e18838ac3364b2c8aa434e4a6999bee);\n",
       "        });\n",
       "    </script>\n"
      ],
      "text/plain": [
       "<pyecharts.render.display.HTML at 0x10f1d9278>"
      ]
     },
     "execution_count": 107,
     "metadata": {},
     "output_type": "execute_result"
    }
   ],
   "source": [
    "index6 = result.index.tolist()\n",
    "value6 = result.values.tolist()\n",
    "\n",
    "bar4 = (\n",
    "    Bar()\n",
    "    .add_xaxis(index6)\n",
    "    .add_yaxis('人数',value6)\n",
    "    .set_global_opts(title_opts=opts.TitleOpts(title=\"客户分层\"),\n",
    "                     yaxis_opts=opts.AxisOpts(name=\"数量\"),\n",
    "                     xaxis_opts=opts.AxisOpts(name=\"客户类型\",axislabel_opts=opts.LabelOpts(rotate=-90)))\n",
    "\n",
    ")\n",
    "bar4.render_notebook()"
   ]
  },
  {
   "cell_type": "markdown",
   "metadata": {},
   "source": [
    "从图中可以看到,1222个流失客户中91.7%为英国客户"
   ]
  },
  {
   "cell_type": "markdown",
   "metadata": {},
   "source": [
    "#### 分析各地区客户购买量"
   ]
  },
  {
   "cell_type": "code",
   "execution_count": 73,
   "metadata": {},
   "outputs": [],
   "source": [
    "df1 = data.groupby(['Country']).agg({'Amount':'sum'})\n",
    "df1['Amount'] = df1['Amount'].round()\n",
    "df1.sort_values(by='Amount',ascending=False,inplace=True)\n",
    "df1.reset_index(inplace=True)"
   ]
  },
  {
   "cell_type": "code",
   "execution_count": 74,
   "metadata": {},
   "outputs": [
    {
     "data": {
      "text/html": [
       "<div>\n",
       "<style scoped>\n",
       "    .dataframe tbody tr th:only-of-type {\n",
       "        vertical-align: middle;\n",
       "    }\n",
       "\n",
       "    .dataframe tbody tr th {\n",
       "        vertical-align: top;\n",
       "    }\n",
       "\n",
       "    .dataframe thead th {\n",
       "        text-align: right;\n",
       "    }\n",
       "</style>\n",
       "<table border=\"1\" class=\"dataframe\">\n",
       "  <thead>\n",
       "    <tr style=\"text-align: right;\">\n",
       "      <th></th>\n",
       "      <th>Country</th>\n",
       "      <th>Amount</th>\n",
       "    </tr>\n",
       "  </thead>\n",
       "  <tbody>\n",
       "    <tr>\n",
       "      <th>0</th>\n",
       "      <td>United Kingdom</td>\n",
       "      <td>9001744.0</td>\n",
       "    </tr>\n",
       "    <tr>\n",
       "      <th>1</th>\n",
       "      <td>Netherlands</td>\n",
       "      <td>285446.0</td>\n",
       "    </tr>\n",
       "    <tr>\n",
       "      <th>2</th>\n",
       "      <td>EIRE</td>\n",
       "      <td>283141.0</td>\n",
       "    </tr>\n",
       "    <tr>\n",
       "      <th>3</th>\n",
       "      <td>Germany</td>\n",
       "      <td>228678.0</td>\n",
       "    </tr>\n",
       "    <tr>\n",
       "      <th>4</th>\n",
       "      <td>France</td>\n",
       "      <td>209625.0</td>\n",
       "    </tr>\n",
       "    <tr>\n",
       "      <th>5</th>\n",
       "      <td>Australia</td>\n",
       "      <td>138454.0</td>\n",
       "    </tr>\n",
       "    <tr>\n",
       "      <th>6</th>\n",
       "      <td>Spain</td>\n",
       "      <td>61559.0</td>\n",
       "    </tr>\n",
       "  </tbody>\n",
       "</table>\n",
       "</div>"
      ],
      "text/plain": [
       "          Country     Amount\n",
       "0  United Kingdom  9001744.0\n",
       "1     Netherlands   285446.0\n",
       "2            EIRE   283141.0\n",
       "3         Germany   228678.0\n",
       "4          France   209625.0\n",
       "5       Australia   138454.0\n",
       "6           Spain    61559.0"
      ]
     },
     "execution_count": 74,
     "metadata": {},
     "output_type": "execute_result"
    }
   ],
   "source": [
    "df2 = df1[0:7]\n",
    "df2"
   ]
  },
  {
   "cell_type": "code",
   "execution_count": 80,
   "metadata": {},
   "outputs": [
    {
     "data": {
      "text/html": [
       "\n",
       "<script>\n",
       "    require.config({\n",
       "        paths: {\n",
       "            'echarts':'https://assets.pyecharts.org/assets/echarts.min'\n",
       "        }\n",
       "    });\n",
       "</script>\n",
       "\n",
       "        <div id=\"eff9dfc5699b4479806b70569cac632a\" style=\"width:900px; height:500px;\"></div>\n",
       "\n",
       "<script>\n",
       "        require(['echarts'], function(echarts) {\n",
       "                var chart_eff9dfc5699b4479806b70569cac632a = echarts.init(\n",
       "                    document.getElementById('eff9dfc5699b4479806b70569cac632a'), 'white', {renderer: 'canvas'});\n",
       "                var option_eff9dfc5699b4479806b70569cac632a = {\n",
       "    \"animation\": true,\n",
       "    \"animationThreshold\": 2000,\n",
       "    \"animationDuration\": 1000,\n",
       "    \"animationEasing\": \"cubicOut\",\n",
       "    \"animationDelay\": 0,\n",
       "    \"animationDurationUpdate\": 300,\n",
       "    \"animationEasingUpdate\": \"cubicOut\",\n",
       "    \"animationDelayUpdate\": 0,\n",
       "    \"color\": [\n",
       "        \"#c23531\",\n",
       "        \"#2f4554\",\n",
       "        \"#61a0a8\",\n",
       "        \"#d48265\",\n",
       "        \"#749f83\",\n",
       "        \"#ca8622\",\n",
       "        \"#bda29a\",\n",
       "        \"#6e7074\",\n",
       "        \"#546570\",\n",
       "        \"#c4ccd3\",\n",
       "        \"#f05b72\",\n",
       "        \"#ef5b9c\",\n",
       "        \"#f47920\",\n",
       "        \"#905a3d\",\n",
       "        \"#fab27b\",\n",
       "        \"#2a5caa\",\n",
       "        \"#444693\",\n",
       "        \"#726930\",\n",
       "        \"#b2d235\",\n",
       "        \"#6d8346\",\n",
       "        \"#ac6767\",\n",
       "        \"#1d953f\",\n",
       "        \"#6950a1\",\n",
       "        \"#918597\"\n",
       "    ],\n",
       "    \"series\": [\n",
       "        {\n",
       "            \"type\": \"bar\",\n",
       "            \"name\": \"\\u4eba\\u6570\",\n",
       "            \"data\": [\n",
       "                9001744.0,\n",
       "                285446.0,\n",
       "                283141.0,\n",
       "                228678.0,\n",
       "                209625.0,\n",
       "                138454.0,\n",
       "                61559.0\n",
       "            ],\n",
       "            \"barCategoryGap\": \"20%\",\n",
       "            \"label\": {\n",
       "                \"show\": true,\n",
       "                \"position\": \"top\",\n",
       "                \"margin\": 8\n",
       "            }\n",
       "        }\n",
       "    ],\n",
       "    \"legend\": [\n",
       "        {\n",
       "            \"data\": [\n",
       "                \"\\u4eba\\u6570\"\n",
       "            ],\n",
       "            \"selected\": {\n",
       "                \"\\u4eba\\u6570\": true\n",
       "            },\n",
       "            \"show\": true\n",
       "        }\n",
       "    ],\n",
       "    \"tooltip\": {\n",
       "        \"show\": true,\n",
       "        \"trigger\": \"item\",\n",
       "        \"triggerOn\": \"mousemove|click\",\n",
       "        \"axisPointer\": {\n",
       "            \"type\": \"line\"\n",
       "        },\n",
       "        \"textStyle\": {\n",
       "            \"fontSize\": 14\n",
       "        },\n",
       "        \"borderWidth\": 0\n",
       "    },\n",
       "    \"xAxis\": [\n",
       "        {\n",
       "            \"name\": \"\\u5ba2\\u6237\\u7c7b\\u578b\",\n",
       "            \"show\": true,\n",
       "            \"scale\": false,\n",
       "            \"nameLocation\": \"end\",\n",
       "            \"nameGap\": 15,\n",
       "            \"gridIndex\": 0,\n",
       "            \"axisLabel\": {\n",
       "                \"show\": true,\n",
       "                \"position\": \"top\",\n",
       "                \"rotate\": -15,\n",
       "                \"margin\": 8\n",
       "            },\n",
       "            \"inverse\": false,\n",
       "            \"offset\": 0,\n",
       "            \"splitNumber\": 5,\n",
       "            \"minInterval\": 0,\n",
       "            \"splitLine\": {\n",
       "                \"show\": false,\n",
       "                \"lineStyle\": {\n",
       "                    \"width\": 1,\n",
       "                    \"opacity\": 1,\n",
       "                    \"curveness\": 0,\n",
       "                    \"type\": \"solid\"\n",
       "                }\n",
       "            },\n",
       "            \"data\": [\n",
       "                \"United Kingdom\",\n",
       "                \"Netherlands\",\n",
       "                \"EIRE\",\n",
       "                \"Germany\",\n",
       "                \"France\",\n",
       "                \"Australia\",\n",
       "                \"Spain\"\n",
       "            ]\n",
       "        }\n",
       "    ],\n",
       "    \"yAxis\": [\n",
       "        {\n",
       "            \"name\": \"\\u6570\\u91cf\",\n",
       "            \"show\": true,\n",
       "            \"scale\": false,\n",
       "            \"nameLocation\": \"end\",\n",
       "            \"nameGap\": 15,\n",
       "            \"gridIndex\": 0,\n",
       "            \"inverse\": false,\n",
       "            \"offset\": 0,\n",
       "            \"splitNumber\": 5,\n",
       "            \"minInterval\": 0,\n",
       "            \"splitLine\": {\n",
       "                \"show\": false,\n",
       "                \"lineStyle\": {\n",
       "                    \"width\": 1,\n",
       "                    \"opacity\": 1,\n",
       "                    \"curveness\": 0,\n",
       "                    \"type\": \"solid\"\n",
       "                }\n",
       "            }\n",
       "        }\n",
       "    ],\n",
       "    \"title\": [\n",
       "        {\n",
       "            \"text\": \"\\u5ba2\\u6237\\u5206\\u5c42\"\n",
       "        }\n",
       "    ]\n",
       "};\n",
       "                chart_eff9dfc5699b4479806b70569cac632a.setOption(option_eff9dfc5699b4479806b70569cac632a);\n",
       "        });\n",
       "    </script>\n"
      ],
      "text/plain": [
       "<pyecharts.render.display.HTML at 0x10c154860>"
      ]
     },
     "execution_count": 80,
     "metadata": {},
     "output_type": "execute_result"
    }
   ],
   "source": [
    "index4 = df2['Country'].values.tolist()\n",
    "value4 = df2['Amount'].values.tolist()\n",
    "\n",
    "bar3 = (\n",
    "    Bar()\n",
    "    .add_xaxis(index4)\n",
    "    .add_yaxis('人数',value4)\n",
    "    .set_global_opts(title_opts=opts.TitleOpts(title=\"客户分层\"),\n",
    "                     yaxis_opts=opts.AxisOpts(name=\"数量\"),\n",
    "                     xaxis_opts=(opts.AxisOpts(name=\"客户类型\",axislabel_opts=opts.LabelOpts(rotate=-15))))\n",
    "\n",
    ")\n",
    "bar3.render_notebook()"
   ]
  },
  {
   "cell_type": "markdown",
   "metadata": {},
   "source": [
    "从上图清晰看到,大部分客户仍来自英国本土,本土交易贡献度为84.6%,境外收入来源也多为英国周边国家,基本符合以英国为圆心向外辐射的情况,这种现象可能和运输成本及语言等有关,也可能是影响力随距离而衰减,可以尝试增加境外的宣传投放,提高知名度"
   ]
  },
  {
   "cell_type": "markdown",
   "metadata": {},
   "source": [
    "## 总结："
   ]
  },
  {
   "cell_type": "markdown",
   "metadata": {},
   "source": [
    "1、统计区间（2010年12月1日-2011年12月9日）内共产生有效订单19,960笔，总交易金额10,642,110.79英镑，每笔单价为531.48英镑，交易总量sum(Quantity)为5,572,420件，连带率约为279件，可见订单大多是以批发为主；\n",
    "\n",
    "2、通过RFM模型对客户进行评分并分层。在分层客户数量方面，一般发展客户，最近有交易的新客户最多，占总数的33.6%，其次是流失客户28.1%，重要发展客户25.4%，重要价值客户7.6%，重要挽留客户5.1%和重要保持客户0.2%。而在分层客户贡献度方面，贡献最高的是重要价值客户，交易额6,112,315.00英镑，占总交易额的57.5%；其次是重要发展客户，交易金额2,817,181.00英镑，占总交易额的26.5%；这两类客户贡献度高达83.9%，符合二八原则；\n",
    "\n",
    "3、该电商的客户主要来自38个国家，本土客户交易贡献度为84.6%；而流失客户中91.7%为英国本土客户。建议针对本土流失客户，有针对性进行调查问卷或者打折促销等活动，提高这部分客户的留存率；\n",
    "\n",
    "4、大部分客户仍来自英国本土，主要境外收入来源也多为英国周边国家，基本上符合以英国为圆心向外辐射的情况，这种现象可能与运输成本及语言等有关，可以尝试增加境外的宣传投放，提高知名度。"
   ]
  }
 ],
 "metadata": {
  "kernelspec": {
   "display_name": "Python 3",
   "language": "python",
   "name": "python3"
  },
  "language_info": {
   "codemirror_mode": {
    "name": "ipython",
    "version": 3
   },
   "file_extension": ".py",
   "mimetype": "text/x-python",
   "name": "python",
   "nbconvert_exporter": "python",
   "pygments_lexer": "ipython3",
   "version": "3.6.8"
  }
 },
 "nbformat": 4,
 "nbformat_minor": 2
}
